{
 "cells": [
  {
   "cell_type": "code",
   "execution_count": 1,
   "metadata": {},
   "outputs": [
    {
     "data": {
      "text/html": [
       "<ol class=list-inline>\n",
       "\t<li>'Ceci est la vérité'</li>\n",
       "\t<li>'Je n\\'aime pas ça'</li>\n",
       "\t<li>'Helmut, Ich liebe dich'</li>\n",
       "\t<li>'90210'</li>\n",
       "</ol>\n"
      ],
      "text/latex": [
       "\\begin{enumerate*}\n",
       "\\item 'Ceci est la vérité'\n",
       "\\item 'Je n\\textbackslash{}'aime pas ça'\n",
       "\\item 'Helmut, Ich liebe dich'\n",
       "\\item '90210'\n",
       "\\end{enumerate*}\n"
      ],
      "text/markdown": [
       "1. 'Ceci est la vérité'\n",
       "2. 'Je n\\'aime pas ça'\n",
       "3. 'Helmut, Ich liebe dich'\n",
       "4. '90210'\n",
       "\n",
       "\n"
      ],
      "text/plain": [
       "[1] \"Ceci est la vérité\"     \"Je n'aime pas ça\"       \"Helmut, Ich liebe dich\"\n",
       "[4] \"90210\"                 "
      ]
     },
     "metadata": {},
     "output_type": "display_data"
    }
   ],
   "source": [
    "mystrings <- c(\"Ceci est la vérité\", \"Je n'aime pas ça\", \"Helmut, Ich liebe dich\", \"90210\")\n",
    "mystrings"
   ]
  },
  {
   "cell_type": "code",
   "execution_count": 3,
   "metadata": {},
   "outputs": [
    {
     "data": {
      "text/html": [
       "<ol class=list-inline>\n",
       "\t<li>'UTF-8'</li>\n",
       "\t<li>'UTF-8'</li>\n",
       "\t<li>'unknown'</li>\n",
       "\t<li>'unknown'</li>\n",
       "</ol>\n"
      ],
      "text/latex": [
       "\\begin{enumerate*}\n",
       "\\item 'UTF-8'\n",
       "\\item 'UTF-8'\n",
       "\\item 'unknown'\n",
       "\\item 'unknown'\n",
       "\\end{enumerate*}\n"
      ],
      "text/markdown": [
       "1. 'UTF-8'\n",
       "2. 'UTF-8'\n",
       "3. 'unknown'\n",
       "4. 'unknown'\n",
       "\n",
       "\n"
      ],
      "text/plain": [
       "[1] \"UTF-8\"   \"UTF-8\"   \"unknown\" \"unknown\""
      ]
     },
     "metadata": {},
     "output_type": "display_data"
    }
   ],
   "source": [
    "# Note: in the example we get latin 1 instead of UTF-8. Probably because the notebook is on a different os\n",
    "Encoding(mystrings)"
   ]
  },
  {
   "cell_type": "code",
   "execution_count": 4,
   "metadata": {},
   "outputs": [
    {
     "data": {
      "text/html": [
       "'en_US.UTF-8'"
      ],
      "text/latex": [
       "'en\\_US.UTF-8'"
      ],
      "text/markdown": [
       "'en_US.UTF-8'"
      ],
      "text/plain": [
       "[1] \"en_US.UTF-8\""
      ]
     },
     "metadata": {},
     "output_type": "display_data"
    }
   ],
   "source": [
    "# Here is the locale\n",
    "Sys.getlocale(\"LC_CTYPE\")"
   ]
  },
  {
   "cell_type": "code",
   "execution_count": 5,
   "metadata": {},
   "outputs": [
    {
     "data": {
      "text/html": [
       "<ol class=list-inline>\n",
       "\t<li>'UTF-8'</li>\n",
       "\t<li>'ISO8859-1'</li>\n",
       "</ol>\n"
      ],
      "text/latex": [
       "\\begin{enumerate*}\n",
       "\\item 'UTF-8'\n",
       "\\item 'ISO8859-1'\n",
       "\\end{enumerate*}\n"
      ],
      "text/markdown": [
       "1. 'UTF-8'\n",
       "2. 'ISO8859-1'\n",
       "\n",
       "\n"
      ],
      "text/plain": [
       "[1] \"UTF-8\"     \"ISO8859-1\""
      ]
     },
     "metadata": {},
     "output_type": "display_data"
    }
   ],
   "source": [
    "localeToCharset()"
   ]
  },
  {
   "cell_type": "code",
   "execution_count": 6,
   "metadata": {},
   "outputs": [
    {
     "data": {
      "text/html": [
       "<ol class=list-inline>\n",
       "\t<li>'850'</li>\n",
       "\t<li>'862'</li>\n",
       "\t<li>'866'</li>\n",
       "\t<li>'ANSI_X3.4-1968'</li>\n",
       "\t<li>'ANSI_X3.4-1986'</li>\n",
       "\t<li>'ARABIC'</li>\n",
       "\t<li>'ARMSCII-8'</li>\n",
       "\t<li>'ASCII'</li>\n",
       "\t<li>'ASMO-708'</li>\n",
       "\t<li>'BIG-5'</li>\n",
       "\t<li>'BIG-FIVE'</li>\n",
       "\t<li>'BIG5'</li>\n",
       "\t<li>'BIG5-HKSCS'</li>\n",
       "\t<li>'BIG5-HKSCS:1999'</li>\n",
       "\t<li>'BIG5-HKSCS:2001'</li>\n",
       "\t<li>'BIG5-HKSCS:2004'</li>\n",
       "\t<li>'BIG5-HKSCS:2008'</li>\n",
       "\t<li>'BIG5HKSCS'</li>\n",
       "\t<li>'BIGFIVE'</li>\n",
       "\t<li>'C99'</li>\n",
       "\t<li>'CHINESE'</li>\n",
       "\t<li>'CN'</li>\n",
       "\t<li>'CN-BIG5'</li>\n",
       "\t<li>'CN-GB'</li>\n",
       "\t<li>'CN-GB-ISOIR165'</li>\n",
       "\t<li>'CP1131'</li>\n",
       "\t<li>'CP1133'</li>\n",
       "\t<li>'CP1250'</li>\n",
       "\t<li>'CP1251'</li>\n",
       "\t<li>'CP1252'</li>\n",
       "\t<li>'CP1253'</li>\n",
       "\t<li>'CP1254'</li>\n",
       "\t<li>'CP1255'</li>\n",
       "\t<li>'CP1256'</li>\n",
       "\t<li>'CP1257'</li>\n",
       "\t<li>'CP1258'</li>\n",
       "\t<li>'CP1361'</li>\n",
       "\t<li>'CP154'</li>\n",
       "\t<li>'CP367'</li>\n",
       "\t<li>'CP50221'</li>\n",
       "\t<li>'CP819'</li>\n",
       "\t<li>'CP850'</li>\n",
       "\t<li>'CP862'</li>\n",
       "\t<li>'CP866'</li>\n",
       "\t<li>'CP874'</li>\n",
       "\t<li>'CP932'</li>\n",
       "\t<li>'CP936'</li>\n",
       "\t<li>'CP949'</li>\n",
       "\t<li>'CP950'</li>\n",
       "\t<li>'CSASCII'</li>\n",
       "\t<li>'CSBIG5'</li>\n",
       "\t<li>'CSEUCKR'</li>\n",
       "\t<li>'CSEUCPKDFMTJAPANESE'</li>\n",
       "\t<li>'CSEUCTW'</li>\n",
       "\t<li>'CSGB2312'</li>\n",
       "\t<li>'CSHALFWIDTHKATAKANA'</li>\n",
       "\t<li>'CSHPROMAN8'</li>\n",
       "\t<li>'CSIBM866'</li>\n",
       "\t<li>'CSISO14JISC6220RO'</li>\n",
       "\t<li>'CSISO159JISX02121990'</li>\n",
       "\t<li>'CSISO2022CN'</li>\n",
       "\t<li>'CSISO2022JP'</li>\n",
       "\t<li>'CSISO2022JP2'</li>\n",
       "\t<li>'CSISO2022KR'</li>\n",
       "\t<li>'CSISO57GB1988'</li>\n",
       "\t<li>'CSISO58GB231280'</li>\n",
       "\t<li>'CSISO87JISX0208'</li>\n",
       "\t<li>'CSISOLATIN1'</li>\n",
       "\t<li>'CSISOLATIN2'</li>\n",
       "\t<li>'CSISOLATIN3'</li>\n",
       "\t<li>'CSISOLATIN4'</li>\n",
       "\t<li>'CSISOLATIN5'</li>\n",
       "\t<li>'CSISOLATIN6'</li>\n",
       "\t<li>'CSISOLATINARABIC'</li>\n",
       "\t<li>'CSISOLATINCYRILLIC'</li>\n",
       "\t<li>'CSISOLATINGREEK'</li>\n",
       "\t<li>'CSISOLATINHEBREW'</li>\n",
       "\t<li>'CSKOI8R'</li>\n",
       "\t<li>'CSKSC56011987'</li>\n",
       "\t<li>'CSKZ1048'</li>\n",
       "\t<li>'CSMACINTOSH'</li>\n",
       "\t<li>'CSPC850MULTILINGUAL'</li>\n",
       "\t<li>'CSPC862LATINHEBREW'</li>\n",
       "\t<li>'CSPTCP154'</li>\n",
       "\t<li>'CSSHIFTJIS'</li>\n",
       "\t<li>'CSUCS4'</li>\n",
       "\t<li>'CSUNICODE'</li>\n",
       "\t<li>'CSUNICODE11'</li>\n",
       "\t<li>'CSUNICODE11UTF7'</li>\n",
       "\t<li>'CSVISCII'</li>\n",
       "\t<li>'CYRILLIC'</li>\n",
       "\t<li>'CYRILLIC-ASIAN'</li>\n",
       "\t<li>'ECMA-114'</li>\n",
       "\t<li>'ECMA-118'</li>\n",
       "\t<li>'ELOT_928'</li>\n",
       "\t<li>'EUC-CN'</li>\n",
       "\t<li>'EUC-JP'</li>\n",
       "\t<li>'EUC-KR'</li>\n",
       "\t<li>'EUC-TW'</li>\n",
       "\t<li>'EUCCN'</li>\n",
       "\t<li>'EUCJP'</li>\n",
       "\t<li>'EUCKR'</li>\n",
       "\t<li>'EUCTW'</li>\n",
       "\t<li>'EXTENDED_UNIX_CODE_PACKED_FORMAT_FOR_JAPANESE'</li>\n",
       "\t<li>'GB_1988-80'</li>\n",
       "\t<li>'GB_2312-80'</li>\n",
       "\t<li>'GB18030'</li>\n",
       "\t<li>'GB2312'</li>\n",
       "\t<li>'GBK'</li>\n",
       "\t<li>'GEORGIAN-ACADEMY'</li>\n",
       "\t<li>'GEORGIAN-PS'</li>\n",
       "\t<li>'GREEK'</li>\n",
       "\t<li>'GREEK8'</li>\n",
       "\t<li>'HEBREW'</li>\n",
       "\t<li>'HP-ROMAN8'</li>\n",
       "\t<li>'HZ'</li>\n",
       "\t<li>'HZ-GB-2312'</li>\n",
       "\t<li>'IBM-CP1133'</li>\n",
       "\t<li>'IBM367'</li>\n",
       "\t<li>'IBM819'</li>\n",
       "\t<li>'IBM850'</li>\n",
       "\t<li>'IBM862'</li>\n",
       "\t<li>'IBM866'</li>\n",
       "\t<li>'ISO_646.IRV:1991'</li>\n",
       "\t<li>'ISO_8859-1'</li>\n",
       "\t<li>'ISO_8859-1:1987'</li>\n",
       "\t<li>'ISO_8859-10'</li>\n",
       "\t<li>'ISO_8859-10:1992'</li>\n",
       "\t<li>'ISO_8859-11'</li>\n",
       "\t<li>'ISO_8859-13'</li>\n",
       "\t<li>'ISO_8859-14'</li>\n",
       "\t<li>'ISO_8859-14:1998'</li>\n",
       "\t<li>'ISO_8859-15'</li>\n",
       "\t<li>'ISO_8859-15:1998'</li>\n",
       "\t<li>'ISO_8859-16'</li>\n",
       "\t<li>'ISO_8859-16:2001'</li>\n",
       "\t<li>'ISO_8859-2'</li>\n",
       "\t<li>'ISO_8859-2:1987'</li>\n",
       "\t<li>'ISO_8859-3'</li>\n",
       "\t<li>'ISO_8859-3:1988'</li>\n",
       "\t<li>'ISO_8859-4'</li>\n",
       "\t<li>'ISO_8859-4:1988'</li>\n",
       "\t<li>'ISO_8859-5'</li>\n",
       "\t<li>'ISO_8859-5:1988'</li>\n",
       "\t<li>'ISO_8859-6'</li>\n",
       "\t<li>'ISO_8859-6:1987'</li>\n",
       "\t<li>'ISO_8859-7'</li>\n",
       "\t<li>'ISO_8859-7:1987'</li>\n",
       "\t<li>'ISO_8859-7:2003'</li>\n",
       "\t<li>'ISO_8859-8'</li>\n",
       "\t<li>'ISO_8859-8:1988'</li>\n",
       "\t<li>'ISO_8859-9'</li>\n",
       "\t<li>'ISO_8859-9:1989'</li>\n",
       "\t<li>'ISO-10646-UCS-2'</li>\n",
       "\t<li>'ISO-10646-UCS-4'</li>\n",
       "\t<li>'ISO-2022-CN'</li>\n",
       "\t<li>'ISO-2022-CN-EXT'</li>\n",
       "\t<li>'ISO-2022-JP'</li>\n",
       "\t<li>'ISO-2022-JP-1'</li>\n",
       "\t<li>'ISO-2022-JP-2'</li>\n",
       "\t<li>'ISO-2022-JP-MS'</li>\n",
       "\t<li>'ISO-2022-KR'</li>\n",
       "\t<li>'ISO-8859-1'</li>\n",
       "\t<li>'ISO-8859-10'</li>\n",
       "\t<li>'ISO-8859-11'</li>\n",
       "\t<li>'ISO-8859-13'</li>\n",
       "\t<li>'ISO-8859-14'</li>\n",
       "\t<li>'ISO-8859-15'</li>\n",
       "\t<li>'ISO-8859-16'</li>\n",
       "\t<li>'ISO-8859-2'</li>\n",
       "\t<li>'ISO-8859-3'</li>\n",
       "\t<li>'ISO-8859-4'</li>\n",
       "\t<li>'ISO-8859-5'</li>\n",
       "\t<li>'ISO-8859-6'</li>\n",
       "\t<li>'ISO-8859-7'</li>\n",
       "\t<li>'ISO-8859-8'</li>\n",
       "\t<li>'ISO-8859-9'</li>\n",
       "\t<li>'ISO-CELTIC'</li>\n",
       "\t<li>'ISO-IR-100'</li>\n",
       "\t<li>'ISO-IR-101'</li>\n",
       "\t<li>'ISO-IR-109'</li>\n",
       "\t<li>'ISO-IR-110'</li>\n",
       "\t<li>'ISO-IR-126'</li>\n",
       "\t<li>'ISO-IR-127'</li>\n",
       "\t<li>'ISO-IR-138'</li>\n",
       "\t<li>'ISO-IR-14'</li>\n",
       "\t<li>'ISO-IR-144'</li>\n",
       "\t<li>'ISO-IR-148'</li>\n",
       "\t<li>'ISO-IR-149'</li>\n",
       "\t<li>'ISO-IR-157'</li>\n",
       "\t<li>'ISO-IR-159'</li>\n",
       "\t<li>'ISO-IR-165'</li>\n",
       "\t<li>'ISO-IR-166'</li>\n",
       "\t<li>'ISO-IR-179'</li>\n",
       "\t<li>'ISO-IR-199'</li>\n",
       "\t<li>'ISO-IR-203'</li>\n",
       "\t<li>'ISO-IR-226'</li>\n",
       "\t<li>'ISO-IR-57'</li>\n",
       "\t<li>'ISO-IR-58'</li>\n",
       "\t<li>'ISO-IR-6'</li>\n",
       "\t<li>'ISO-IR-87'</li>\n",
       "\t<li>'ISO646-CN'</li>\n",
       "\t<li>'ISO646-JP'</li>\n",
       "\t<li>'ISO646-US'</li>\n",
       "\t<li>'ISO8859-1'</li>\n",
       "\t<li>'ISO8859-10'</li>\n",
       "\t<li>'ISO8859-11'</li>\n",
       "\t<li>'ISO8859-13'</li>\n",
       "\t<li>'ISO8859-14'</li>\n",
       "\t<li>'ISO8859-15'</li>\n",
       "\t<li>'ISO8859-16'</li>\n",
       "\t<li>'ISO8859-2'</li>\n",
       "\t<li>'ISO8859-3'</li>\n",
       "\t<li>'ISO8859-4'</li>\n",
       "\t<li>'ISO8859-5'</li>\n",
       "\t<li>'ISO8859-6'</li>\n",
       "\t<li>'ISO8859-7'</li>\n",
       "\t<li>'ISO8859-8'</li>\n",
       "\t<li>'ISO8859-9'</li>\n",
       "\t<li>'JAVA'</li>\n",
       "\t<li>'JIS_C6220-1969-RO'</li>\n",
       "\t<li>'JIS_C6226-1983'</li>\n",
       "\t<li>'JIS_X0201'</li>\n",
       "\t<li>'JIS_X0208'</li>\n",
       "\t<li>'JIS_X0208-1983'</li>\n",
       "\t<li>'JIS_X0208-1990'</li>\n",
       "\t<li>'JIS_X0212'</li>\n",
       "\t<li>'JIS_X0212-1990'</li>\n",
       "\t<li>'JIS_X0212.1990-0'</li>\n",
       "\t<li>'JIS0208'</li>\n",
       "\t<li>'JISX0201-1976'</li>\n",
       "\t<li>'JOHAB'</li>\n",
       "\t<li>'JP'</li>\n",
       "\t<li>'KOI8-R'</li>\n",
       "\t<li>'KOI8-RU'</li>\n",
       "\t<li>'KOI8-T'</li>\n",
       "\t<li>'KOI8-U'</li>\n",
       "\t<li>'KOREAN'</li>\n",
       "\t<li>'KS_C_5601-1987'</li>\n",
       "\t<li>'KS_C_5601-1989'</li>\n",
       "\t<li>'KSC_5601'</li>\n",
       "\t<li>'KZ-1048'</li>\n",
       "\t<li>'L1'</li>\n",
       "\t<li>'L10'</li>\n",
       "\t<li>'L2'</li>\n",
       "\t<li>'L3'</li>\n",
       "\t<li>'L4'</li>\n",
       "\t<li>'L5'</li>\n",
       "\t<li>'L6'</li>\n",
       "\t<li>'L7'</li>\n",
       "\t<li>'L8'</li>\n",
       "\t<li>'LATIN-9'</li>\n",
       "\t<li>'LATIN1'</li>\n",
       "\t<li>'LATIN10'</li>\n",
       "\t<li>'LATIN2'</li>\n",
       "\t<li>'LATIN3'</li>\n",
       "\t<li>'LATIN4'</li>\n",
       "\t<li>'LATIN5'</li>\n",
       "\t<li>'LATIN6'</li>\n",
       "\t<li>'LATIN7'</li>\n",
       "\t<li>'LATIN8'</li>\n",
       "\t<li>'MAC'</li>\n",
       "\t<li>'MACARABIC'</li>\n",
       "\t<li>'MACCENTRALEUROPE'</li>\n",
       "\t<li>'MACCROATIAN'</li>\n",
       "\t<li>'MACCYRILLIC'</li>\n",
       "\t<li>'MACGREEK'</li>\n",
       "\t<li>'MACHEBREW'</li>\n",
       "\t<li>'MACICELAND'</li>\n",
       "\t<li>'MACINTOSH'</li>\n",
       "\t<li>'MACROMAN'</li>\n",
       "\t<li>'MACROMANIA'</li>\n",
       "\t<li>'MACTHAI'</li>\n",
       "\t<li>'MACTURKISH'</li>\n",
       "\t<li>'MACUKRAINE'</li>\n",
       "\t<li>'MS_KANJI'</li>\n",
       "\t<li>'MS-ANSI'</li>\n",
       "\t<li>'MS-ARAB'</li>\n",
       "\t<li>'MS-CYRL'</li>\n",
       "\t<li>'MS-EE'</li>\n",
       "\t<li>'MS-GREEK'</li>\n",
       "\t<li>'MS-HEBR'</li>\n",
       "\t<li>'MS-TURK'</li>\n",
       "\t<li>'MS936'</li>\n",
       "\t<li>'MULELAO-1'</li>\n",
       "\t<li>'NEXTSTEP'</li>\n",
       "\t<li>'PT154'</li>\n",
       "\t<li>'PTCP154'</li>\n",
       "\t<li>'R8'</li>\n",
       "\t<li>'RK1048'</li>\n",
       "\t<li>'ROMAN8'</li>\n",
       "\t<li>'SHIFT_JIS'</li>\n",
       "\t<li>'SHIFT-JIS'</li>\n",
       "\t<li>'SJIS'</li>\n",
       "\t<li>'STRK1048-2002'</li>\n",
       "\t<li>'TCVN'</li>\n",
       "\t<li>'TCVN-5712'</li>\n",
       "\t<li>'TCVN5712-1'</li>\n",
       "\t<li>'TCVN5712-1:1993'</li>\n",
       "\t<li>'TIS-620'</li>\n",
       "\t<li>'TIS620'</li>\n",
       "\t<li>'TIS620-0'</li>\n",
       "\t<li>'TIS620.2529-1'</li>\n",
       "\t<li>'TIS620.2533-0'</li>\n",
       "\t<li>'TIS620.2533-1'</li>\n",
       "\t<li>'UCS-2'</li>\n",
       "\t<li>'UCS-2-INTERNAL'</li>\n",
       "\t<li>'UCS-2-SWAPPED'</li>\n",
       "\t<li>'UCS-2BE'</li>\n",
       "\t<li>'UCS-2LE'</li>\n",
       "\t<li>'UCS-4'</li>\n",
       "\t<li>'UCS-4-INTERNAL'</li>\n",
       "\t<li>'UCS-4-SWAPPED'</li>\n",
       "\t<li>'UCS-4BE'</li>\n",
       "\t<li>'UCS-4LE'</li>\n",
       "\t<li>'UHC'</li>\n",
       "\t<li>'UNICODE-1-1'</li>\n",
       "\t<li>'UNICODE-1-1-UTF-7'</li>\n",
       "\t<li>'UNICODEBIG'</li>\n",
       "\t<li>'UNICODELITTLE'</li>\n",
       "\t<li>'US'</li>\n",
       "\t<li>'US-ASCII'</li>\n",
       "\t<li>'UTF-16'</li>\n",
       "\t<li>'UTF-16BE'</li>\n",
       "\t<li>'UTF-16LE'</li>\n",
       "\t<li>'UTF-32'</li>\n",
       "\t<li>'UTF-32BE'</li>\n",
       "\t<li>'UTF-32LE'</li>\n",
       "\t<li>'UTF-7'</li>\n",
       "\t<li>'UTF-8'</li>\n",
       "\t<li>'VISCII'</li>\n",
       "\t<li>'VISCII1.1-1'</li>\n",
       "\t<li>'WINBALTRIM'</li>\n",
       "\t<li>'WINDOWS-1250'</li>\n",
       "\t<li>'WINDOWS-1251'</li>\n",
       "\t<li>'WINDOWS-1252'</li>\n",
       "\t<li>'WINDOWS-1253'</li>\n",
       "\t<li>'WINDOWS-1254'</li>\n",
       "\t<li>'WINDOWS-1255'</li>\n",
       "\t<li>'WINDOWS-1256'</li>\n",
       "\t<li>'WINDOWS-1257'</li>\n",
       "\t<li>'WINDOWS-1258'</li>\n",
       "\t<li>'WINDOWS-874'</li>\n",
       "\t<li>'WINDOWS-936'</li>\n",
       "\t<li>'X0201'</li>\n",
       "\t<li>'X0208'</li>\n",
       "\t<li>'X0212'</li>\n",
       "</ol>\n"
      ],
      "text/latex": [
       "\\begin{enumerate*}\n",
       "\\item '850'\n",
       "\\item '862'\n",
       "\\item '866'\n",
       "\\item 'ANSI\\_X3.4-1968'\n",
       "\\item 'ANSI\\_X3.4-1986'\n",
       "\\item 'ARABIC'\n",
       "\\item 'ARMSCII-8'\n",
       "\\item 'ASCII'\n",
       "\\item 'ASMO-708'\n",
       "\\item 'BIG-5'\n",
       "\\item 'BIG-FIVE'\n",
       "\\item 'BIG5'\n",
       "\\item 'BIG5-HKSCS'\n",
       "\\item 'BIG5-HKSCS:1999'\n",
       "\\item 'BIG5-HKSCS:2001'\n",
       "\\item 'BIG5-HKSCS:2004'\n",
       "\\item 'BIG5-HKSCS:2008'\n",
       "\\item 'BIG5HKSCS'\n",
       "\\item 'BIGFIVE'\n",
       "\\item 'C99'\n",
       "\\item 'CHINESE'\n",
       "\\item 'CN'\n",
       "\\item 'CN-BIG5'\n",
       "\\item 'CN-GB'\n",
       "\\item 'CN-GB-ISOIR165'\n",
       "\\item 'CP1131'\n",
       "\\item 'CP1133'\n",
       "\\item 'CP1250'\n",
       "\\item 'CP1251'\n",
       "\\item 'CP1252'\n",
       "\\item 'CP1253'\n",
       "\\item 'CP1254'\n",
       "\\item 'CP1255'\n",
       "\\item 'CP1256'\n",
       "\\item 'CP1257'\n",
       "\\item 'CP1258'\n",
       "\\item 'CP1361'\n",
       "\\item 'CP154'\n",
       "\\item 'CP367'\n",
       "\\item 'CP50221'\n",
       "\\item 'CP819'\n",
       "\\item 'CP850'\n",
       "\\item 'CP862'\n",
       "\\item 'CP866'\n",
       "\\item 'CP874'\n",
       "\\item 'CP932'\n",
       "\\item 'CP936'\n",
       "\\item 'CP949'\n",
       "\\item 'CP950'\n",
       "\\item 'CSASCII'\n",
       "\\item 'CSBIG5'\n",
       "\\item 'CSEUCKR'\n",
       "\\item 'CSEUCPKDFMTJAPANESE'\n",
       "\\item 'CSEUCTW'\n",
       "\\item 'CSGB2312'\n",
       "\\item 'CSHALFWIDTHKATAKANA'\n",
       "\\item 'CSHPROMAN8'\n",
       "\\item 'CSIBM866'\n",
       "\\item 'CSISO14JISC6220RO'\n",
       "\\item 'CSISO159JISX02121990'\n",
       "\\item 'CSISO2022CN'\n",
       "\\item 'CSISO2022JP'\n",
       "\\item 'CSISO2022JP2'\n",
       "\\item 'CSISO2022KR'\n",
       "\\item 'CSISO57GB1988'\n",
       "\\item 'CSISO58GB231280'\n",
       "\\item 'CSISO87JISX0208'\n",
       "\\item 'CSISOLATIN1'\n",
       "\\item 'CSISOLATIN2'\n",
       "\\item 'CSISOLATIN3'\n",
       "\\item 'CSISOLATIN4'\n",
       "\\item 'CSISOLATIN5'\n",
       "\\item 'CSISOLATIN6'\n",
       "\\item 'CSISOLATINARABIC'\n",
       "\\item 'CSISOLATINCYRILLIC'\n",
       "\\item 'CSISOLATINGREEK'\n",
       "\\item 'CSISOLATINHEBREW'\n",
       "\\item 'CSKOI8R'\n",
       "\\item 'CSKSC56011987'\n",
       "\\item 'CSKZ1048'\n",
       "\\item 'CSMACINTOSH'\n",
       "\\item 'CSPC850MULTILINGUAL'\n",
       "\\item 'CSPC862LATINHEBREW'\n",
       "\\item 'CSPTCP154'\n",
       "\\item 'CSSHIFTJIS'\n",
       "\\item 'CSUCS4'\n",
       "\\item 'CSUNICODE'\n",
       "\\item 'CSUNICODE11'\n",
       "\\item 'CSUNICODE11UTF7'\n",
       "\\item 'CSVISCII'\n",
       "\\item 'CYRILLIC'\n",
       "\\item 'CYRILLIC-ASIAN'\n",
       "\\item 'ECMA-114'\n",
       "\\item 'ECMA-118'\n",
       "\\item 'ELOT\\_928'\n",
       "\\item 'EUC-CN'\n",
       "\\item 'EUC-JP'\n",
       "\\item 'EUC-KR'\n",
       "\\item 'EUC-TW'\n",
       "\\item 'EUCCN'\n",
       "\\item 'EUCJP'\n",
       "\\item 'EUCKR'\n",
       "\\item 'EUCTW'\n",
       "\\item 'EXTENDED\\_UNIX\\_CODE\\_PACKED\\_FORMAT\\_FOR\\_JAPANESE'\n",
       "\\item 'GB\\_1988-80'\n",
       "\\item 'GB\\_2312-80'\n",
       "\\item 'GB18030'\n",
       "\\item 'GB2312'\n",
       "\\item 'GBK'\n",
       "\\item 'GEORGIAN-ACADEMY'\n",
       "\\item 'GEORGIAN-PS'\n",
       "\\item 'GREEK'\n",
       "\\item 'GREEK8'\n",
       "\\item 'HEBREW'\n",
       "\\item 'HP-ROMAN8'\n",
       "\\item 'HZ'\n",
       "\\item 'HZ-GB-2312'\n",
       "\\item 'IBM-CP1133'\n",
       "\\item 'IBM367'\n",
       "\\item 'IBM819'\n",
       "\\item 'IBM850'\n",
       "\\item 'IBM862'\n",
       "\\item 'IBM866'\n",
       "\\item 'ISO\\_646.IRV:1991'\n",
       "\\item 'ISO\\_8859-1'\n",
       "\\item 'ISO\\_8859-1:1987'\n",
       "\\item 'ISO\\_8859-10'\n",
       "\\item 'ISO\\_8859-10:1992'\n",
       "\\item 'ISO\\_8859-11'\n",
       "\\item 'ISO\\_8859-13'\n",
       "\\item 'ISO\\_8859-14'\n",
       "\\item 'ISO\\_8859-14:1998'\n",
       "\\item 'ISO\\_8859-15'\n",
       "\\item 'ISO\\_8859-15:1998'\n",
       "\\item 'ISO\\_8859-16'\n",
       "\\item 'ISO\\_8859-16:2001'\n",
       "\\item 'ISO\\_8859-2'\n",
       "\\item 'ISO\\_8859-2:1987'\n",
       "\\item 'ISO\\_8859-3'\n",
       "\\item 'ISO\\_8859-3:1988'\n",
       "\\item 'ISO\\_8859-4'\n",
       "\\item 'ISO\\_8859-4:1988'\n",
       "\\item 'ISO\\_8859-5'\n",
       "\\item 'ISO\\_8859-5:1988'\n",
       "\\item 'ISO\\_8859-6'\n",
       "\\item 'ISO\\_8859-6:1987'\n",
       "\\item 'ISO\\_8859-7'\n",
       "\\item 'ISO\\_8859-7:1987'\n",
       "\\item 'ISO\\_8859-7:2003'\n",
       "\\item 'ISO\\_8859-8'\n",
       "\\item 'ISO\\_8859-8:1988'\n",
       "\\item 'ISO\\_8859-9'\n",
       "\\item 'ISO\\_8859-9:1989'\n",
       "\\item 'ISO-10646-UCS-2'\n",
       "\\item 'ISO-10646-UCS-4'\n",
       "\\item 'ISO-2022-CN'\n",
       "\\item 'ISO-2022-CN-EXT'\n",
       "\\item 'ISO-2022-JP'\n",
       "\\item 'ISO-2022-JP-1'\n",
       "\\item 'ISO-2022-JP-2'\n",
       "\\item 'ISO-2022-JP-MS'\n",
       "\\item 'ISO-2022-KR'\n",
       "\\item 'ISO-8859-1'\n",
       "\\item 'ISO-8859-10'\n",
       "\\item 'ISO-8859-11'\n",
       "\\item 'ISO-8859-13'\n",
       "\\item 'ISO-8859-14'\n",
       "\\item 'ISO-8859-15'\n",
       "\\item 'ISO-8859-16'\n",
       "\\item 'ISO-8859-2'\n",
       "\\item 'ISO-8859-3'\n",
       "\\item 'ISO-8859-4'\n",
       "\\item 'ISO-8859-5'\n",
       "\\item 'ISO-8859-6'\n",
       "\\item 'ISO-8859-7'\n",
       "\\item 'ISO-8859-8'\n",
       "\\item 'ISO-8859-9'\n",
       "\\item 'ISO-CELTIC'\n",
       "\\item 'ISO-IR-100'\n",
       "\\item 'ISO-IR-101'\n",
       "\\item 'ISO-IR-109'\n",
       "\\item 'ISO-IR-110'\n",
       "\\item 'ISO-IR-126'\n",
       "\\item 'ISO-IR-127'\n",
       "\\item 'ISO-IR-138'\n",
       "\\item 'ISO-IR-14'\n",
       "\\item 'ISO-IR-144'\n",
       "\\item 'ISO-IR-148'\n",
       "\\item 'ISO-IR-149'\n",
       "\\item 'ISO-IR-157'\n",
       "\\item 'ISO-IR-159'\n",
       "\\item 'ISO-IR-165'\n",
       "\\item 'ISO-IR-166'\n",
       "\\item 'ISO-IR-179'\n",
       "\\item 'ISO-IR-199'\n",
       "\\item 'ISO-IR-203'\n",
       "\\item 'ISO-IR-226'\n",
       "\\item 'ISO-IR-57'\n",
       "\\item 'ISO-IR-58'\n",
       "\\item 'ISO-IR-6'\n",
       "\\item 'ISO-IR-87'\n",
       "\\item 'ISO646-CN'\n",
       "\\item 'ISO646-JP'\n",
       "\\item 'ISO646-US'\n",
       "\\item 'ISO8859-1'\n",
       "\\item 'ISO8859-10'\n",
       "\\item 'ISO8859-11'\n",
       "\\item 'ISO8859-13'\n",
       "\\item 'ISO8859-14'\n",
       "\\item 'ISO8859-15'\n",
       "\\item 'ISO8859-16'\n",
       "\\item 'ISO8859-2'\n",
       "\\item 'ISO8859-3'\n",
       "\\item 'ISO8859-4'\n",
       "\\item 'ISO8859-5'\n",
       "\\item 'ISO8859-6'\n",
       "\\item 'ISO8859-7'\n",
       "\\item 'ISO8859-8'\n",
       "\\item 'ISO8859-9'\n",
       "\\item 'JAVA'\n",
       "\\item 'JIS\\_C6220-1969-RO'\n",
       "\\item 'JIS\\_C6226-1983'\n",
       "\\item 'JIS\\_X0201'\n",
       "\\item 'JIS\\_X0208'\n",
       "\\item 'JIS\\_X0208-1983'\n",
       "\\item 'JIS\\_X0208-1990'\n",
       "\\item 'JIS\\_X0212'\n",
       "\\item 'JIS\\_X0212-1990'\n",
       "\\item 'JIS\\_X0212.1990-0'\n",
       "\\item 'JIS0208'\n",
       "\\item 'JISX0201-1976'\n",
       "\\item 'JOHAB'\n",
       "\\item 'JP'\n",
       "\\item 'KOI8-R'\n",
       "\\item 'KOI8-RU'\n",
       "\\item 'KOI8-T'\n",
       "\\item 'KOI8-U'\n",
       "\\item 'KOREAN'\n",
       "\\item 'KS\\_C\\_5601-1987'\n",
       "\\item 'KS\\_C\\_5601-1989'\n",
       "\\item 'KSC\\_5601'\n",
       "\\item 'KZ-1048'\n",
       "\\item 'L1'\n",
       "\\item 'L10'\n",
       "\\item 'L2'\n",
       "\\item 'L3'\n",
       "\\item 'L4'\n",
       "\\item 'L5'\n",
       "\\item 'L6'\n",
       "\\item 'L7'\n",
       "\\item 'L8'\n",
       "\\item 'LATIN-9'\n",
       "\\item 'LATIN1'\n",
       "\\item 'LATIN10'\n",
       "\\item 'LATIN2'\n",
       "\\item 'LATIN3'\n",
       "\\item 'LATIN4'\n",
       "\\item 'LATIN5'\n",
       "\\item 'LATIN6'\n",
       "\\item 'LATIN7'\n",
       "\\item 'LATIN8'\n",
       "\\item 'MAC'\n",
       "\\item 'MACARABIC'\n",
       "\\item 'MACCENTRALEUROPE'\n",
       "\\item 'MACCROATIAN'\n",
       "\\item 'MACCYRILLIC'\n",
       "\\item 'MACGREEK'\n",
       "\\item 'MACHEBREW'\n",
       "\\item 'MACICELAND'\n",
       "\\item 'MACINTOSH'\n",
       "\\item 'MACROMAN'\n",
       "\\item 'MACROMANIA'\n",
       "\\item 'MACTHAI'\n",
       "\\item 'MACTURKISH'\n",
       "\\item 'MACUKRAINE'\n",
       "\\item 'MS\\_KANJI'\n",
       "\\item 'MS-ANSI'\n",
       "\\item 'MS-ARAB'\n",
       "\\item 'MS-CYRL'\n",
       "\\item 'MS-EE'\n",
       "\\item 'MS-GREEK'\n",
       "\\item 'MS-HEBR'\n",
       "\\item 'MS-TURK'\n",
       "\\item 'MS936'\n",
       "\\item 'MULELAO-1'\n",
       "\\item 'NEXTSTEP'\n",
       "\\item 'PT154'\n",
       "\\item 'PTCP154'\n",
       "\\item 'R8'\n",
       "\\item 'RK1048'\n",
       "\\item 'ROMAN8'\n",
       "\\item 'SHIFT\\_JIS'\n",
       "\\item 'SHIFT-JIS'\n",
       "\\item 'SJIS'\n",
       "\\item 'STRK1048-2002'\n",
       "\\item 'TCVN'\n",
       "\\item 'TCVN-5712'\n",
       "\\item 'TCVN5712-1'\n",
       "\\item 'TCVN5712-1:1993'\n",
       "\\item 'TIS-620'\n",
       "\\item 'TIS620'\n",
       "\\item 'TIS620-0'\n",
       "\\item 'TIS620.2529-1'\n",
       "\\item 'TIS620.2533-0'\n",
       "\\item 'TIS620.2533-1'\n",
       "\\item 'UCS-2'\n",
       "\\item 'UCS-2-INTERNAL'\n",
       "\\item 'UCS-2-SWAPPED'\n",
       "\\item 'UCS-2BE'\n",
       "\\item 'UCS-2LE'\n",
       "\\item 'UCS-4'\n",
       "\\item 'UCS-4-INTERNAL'\n",
       "\\item 'UCS-4-SWAPPED'\n",
       "\\item 'UCS-4BE'\n",
       "\\item 'UCS-4LE'\n",
       "\\item 'UHC'\n",
       "\\item 'UNICODE-1-1'\n",
       "\\item 'UNICODE-1-1-UTF-7'\n",
       "\\item 'UNICODEBIG'\n",
       "\\item 'UNICODELITTLE'\n",
       "\\item 'US'\n",
       "\\item 'US-ASCII'\n",
       "\\item 'UTF-16'\n",
       "\\item 'UTF-16BE'\n",
       "\\item 'UTF-16LE'\n",
       "\\item 'UTF-32'\n",
       "\\item 'UTF-32BE'\n",
       "\\item 'UTF-32LE'\n",
       "\\item 'UTF-7'\n",
       "\\item 'UTF-8'\n",
       "\\item 'VISCII'\n",
       "\\item 'VISCII1.1-1'\n",
       "\\item 'WINBALTRIM'\n",
       "\\item 'WINDOWS-1250'\n",
       "\\item 'WINDOWS-1251'\n",
       "\\item 'WINDOWS-1252'\n",
       "\\item 'WINDOWS-1253'\n",
       "\\item 'WINDOWS-1254'\n",
       "\\item 'WINDOWS-1255'\n",
       "\\item 'WINDOWS-1256'\n",
       "\\item 'WINDOWS-1257'\n",
       "\\item 'WINDOWS-1258'\n",
       "\\item 'WINDOWS-874'\n",
       "\\item 'WINDOWS-936'\n",
       "\\item 'X0201'\n",
       "\\item 'X0208'\n",
       "\\item 'X0212'\n",
       "\\end{enumerate*}\n"
      ],
      "text/markdown": [
       "1. '850'\n",
       "2. '862'\n",
       "3. '866'\n",
       "4. 'ANSI_X3.4-1968'\n",
       "5. 'ANSI_X3.4-1986'\n",
       "6. 'ARABIC'\n",
       "7. 'ARMSCII-8'\n",
       "8. 'ASCII'\n",
       "9. 'ASMO-708'\n",
       "10. 'BIG-5'\n",
       "11. 'BIG-FIVE'\n",
       "12. 'BIG5'\n",
       "13. 'BIG5-HKSCS'\n",
       "14. 'BIG5-HKSCS:1999'\n",
       "15. 'BIG5-HKSCS:2001'\n",
       "16. 'BIG5-HKSCS:2004'\n",
       "17. 'BIG5-HKSCS:2008'\n",
       "18. 'BIG5HKSCS'\n",
       "19. 'BIGFIVE'\n",
       "20. 'C99'\n",
       "21. 'CHINESE'\n",
       "22. 'CN'\n",
       "23. 'CN-BIG5'\n",
       "24. 'CN-GB'\n",
       "25. 'CN-GB-ISOIR165'\n",
       "26. 'CP1131'\n",
       "27. 'CP1133'\n",
       "28. 'CP1250'\n",
       "29. 'CP1251'\n",
       "30. 'CP1252'\n",
       "31. 'CP1253'\n",
       "32. 'CP1254'\n",
       "33. 'CP1255'\n",
       "34. 'CP1256'\n",
       "35. 'CP1257'\n",
       "36. 'CP1258'\n",
       "37. 'CP1361'\n",
       "38. 'CP154'\n",
       "39. 'CP367'\n",
       "40. 'CP50221'\n",
       "41. 'CP819'\n",
       "42. 'CP850'\n",
       "43. 'CP862'\n",
       "44. 'CP866'\n",
       "45. 'CP874'\n",
       "46. 'CP932'\n",
       "47. 'CP936'\n",
       "48. 'CP949'\n",
       "49. 'CP950'\n",
       "50. 'CSASCII'\n",
       "51. 'CSBIG5'\n",
       "52. 'CSEUCKR'\n",
       "53. 'CSEUCPKDFMTJAPANESE'\n",
       "54. 'CSEUCTW'\n",
       "55. 'CSGB2312'\n",
       "56. 'CSHALFWIDTHKATAKANA'\n",
       "57. 'CSHPROMAN8'\n",
       "58. 'CSIBM866'\n",
       "59. 'CSISO14JISC6220RO'\n",
       "60. 'CSISO159JISX02121990'\n",
       "61. 'CSISO2022CN'\n",
       "62. 'CSISO2022JP'\n",
       "63. 'CSISO2022JP2'\n",
       "64. 'CSISO2022KR'\n",
       "65. 'CSISO57GB1988'\n",
       "66. 'CSISO58GB231280'\n",
       "67. 'CSISO87JISX0208'\n",
       "68. 'CSISOLATIN1'\n",
       "69. 'CSISOLATIN2'\n",
       "70. 'CSISOLATIN3'\n",
       "71. 'CSISOLATIN4'\n",
       "72. 'CSISOLATIN5'\n",
       "73. 'CSISOLATIN6'\n",
       "74. 'CSISOLATINARABIC'\n",
       "75. 'CSISOLATINCYRILLIC'\n",
       "76. 'CSISOLATINGREEK'\n",
       "77. 'CSISOLATINHEBREW'\n",
       "78. 'CSKOI8R'\n",
       "79. 'CSKSC56011987'\n",
       "80. 'CSKZ1048'\n",
       "81. 'CSMACINTOSH'\n",
       "82. 'CSPC850MULTILINGUAL'\n",
       "83. 'CSPC862LATINHEBREW'\n",
       "84. 'CSPTCP154'\n",
       "85. 'CSSHIFTJIS'\n",
       "86. 'CSUCS4'\n",
       "87. 'CSUNICODE'\n",
       "88. 'CSUNICODE11'\n",
       "89. 'CSUNICODE11UTF7'\n",
       "90. 'CSVISCII'\n",
       "91. 'CYRILLIC'\n",
       "92. 'CYRILLIC-ASIAN'\n",
       "93. 'ECMA-114'\n",
       "94. 'ECMA-118'\n",
       "95. 'ELOT_928'\n",
       "96. 'EUC-CN'\n",
       "97. 'EUC-JP'\n",
       "98. 'EUC-KR'\n",
       "99. 'EUC-TW'\n",
       "100. 'EUCCN'\n",
       "101. 'EUCJP'\n",
       "102. 'EUCKR'\n",
       "103. 'EUCTW'\n",
       "104. 'EXTENDED_UNIX_CODE_PACKED_FORMAT_FOR_JAPANESE'\n",
       "105. 'GB_1988-80'\n",
       "106. 'GB_2312-80'\n",
       "107. 'GB18030'\n",
       "108. 'GB2312'\n",
       "109. 'GBK'\n",
       "110. 'GEORGIAN-ACADEMY'\n",
       "111. 'GEORGIAN-PS'\n",
       "112. 'GREEK'\n",
       "113. 'GREEK8'\n",
       "114. 'HEBREW'\n",
       "115. 'HP-ROMAN8'\n",
       "116. 'HZ'\n",
       "117. 'HZ-GB-2312'\n",
       "118. 'IBM-CP1133'\n",
       "119. 'IBM367'\n",
       "120. 'IBM819'\n",
       "121. 'IBM850'\n",
       "122. 'IBM862'\n",
       "123. 'IBM866'\n",
       "124. 'ISO_646.IRV:1991'\n",
       "125. 'ISO_8859-1'\n",
       "126. 'ISO_8859-1:1987'\n",
       "127. 'ISO_8859-10'\n",
       "128. 'ISO_8859-10:1992'\n",
       "129. 'ISO_8859-11'\n",
       "130. 'ISO_8859-13'\n",
       "131. 'ISO_8859-14'\n",
       "132. 'ISO_8859-14:1998'\n",
       "133. 'ISO_8859-15'\n",
       "134. 'ISO_8859-15:1998'\n",
       "135. 'ISO_8859-16'\n",
       "136. 'ISO_8859-16:2001'\n",
       "137. 'ISO_8859-2'\n",
       "138. 'ISO_8859-2:1987'\n",
       "139. 'ISO_8859-3'\n",
       "140. 'ISO_8859-3:1988'\n",
       "141. 'ISO_8859-4'\n",
       "142. 'ISO_8859-4:1988'\n",
       "143. 'ISO_8859-5'\n",
       "144. 'ISO_8859-5:1988'\n",
       "145. 'ISO_8859-6'\n",
       "146. 'ISO_8859-6:1987'\n",
       "147. 'ISO_8859-7'\n",
       "148. 'ISO_8859-7:1987'\n",
       "149. 'ISO_8859-7:2003'\n",
       "150. 'ISO_8859-8'\n",
       "151. 'ISO_8859-8:1988'\n",
       "152. 'ISO_8859-9'\n",
       "153. 'ISO_8859-9:1989'\n",
       "154. 'ISO-10646-UCS-2'\n",
       "155. 'ISO-10646-UCS-4'\n",
       "156. 'ISO-2022-CN'\n",
       "157. 'ISO-2022-CN-EXT'\n",
       "158. 'ISO-2022-JP'\n",
       "159. 'ISO-2022-JP-1'\n",
       "160. 'ISO-2022-JP-2'\n",
       "161. 'ISO-2022-JP-MS'\n",
       "162. 'ISO-2022-KR'\n",
       "163. 'ISO-8859-1'\n",
       "164. 'ISO-8859-10'\n",
       "165. 'ISO-8859-11'\n",
       "166. 'ISO-8859-13'\n",
       "167. 'ISO-8859-14'\n",
       "168. 'ISO-8859-15'\n",
       "169. 'ISO-8859-16'\n",
       "170. 'ISO-8859-2'\n",
       "171. 'ISO-8859-3'\n",
       "172. 'ISO-8859-4'\n",
       "173. 'ISO-8859-5'\n",
       "174. 'ISO-8859-6'\n",
       "175. 'ISO-8859-7'\n",
       "176. 'ISO-8859-8'\n",
       "177. 'ISO-8859-9'\n",
       "178. 'ISO-CELTIC'\n",
       "179. 'ISO-IR-100'\n",
       "180. 'ISO-IR-101'\n",
       "181. 'ISO-IR-109'\n",
       "182. 'ISO-IR-110'\n",
       "183. 'ISO-IR-126'\n",
       "184. 'ISO-IR-127'\n",
       "185. 'ISO-IR-138'\n",
       "186. 'ISO-IR-14'\n",
       "187. 'ISO-IR-144'\n",
       "188. 'ISO-IR-148'\n",
       "189. 'ISO-IR-149'\n",
       "190. 'ISO-IR-157'\n",
       "191. 'ISO-IR-159'\n",
       "192. 'ISO-IR-165'\n",
       "193. 'ISO-IR-166'\n",
       "194. 'ISO-IR-179'\n",
       "195. 'ISO-IR-199'\n",
       "196. 'ISO-IR-203'\n",
       "197. 'ISO-IR-226'\n",
       "198. 'ISO-IR-57'\n",
       "199. 'ISO-IR-58'\n",
       "200. 'ISO-IR-6'\n",
       "201. 'ISO-IR-87'\n",
       "202. 'ISO646-CN'\n",
       "203. 'ISO646-JP'\n",
       "204. 'ISO646-US'\n",
       "205. 'ISO8859-1'\n",
       "206. 'ISO8859-10'\n",
       "207. 'ISO8859-11'\n",
       "208. 'ISO8859-13'\n",
       "209. 'ISO8859-14'\n",
       "210. 'ISO8859-15'\n",
       "211. 'ISO8859-16'\n",
       "212. 'ISO8859-2'\n",
       "213. 'ISO8859-3'\n",
       "214. 'ISO8859-4'\n",
       "215. 'ISO8859-5'\n",
       "216. 'ISO8859-6'\n",
       "217. 'ISO8859-7'\n",
       "218. 'ISO8859-8'\n",
       "219. 'ISO8859-9'\n",
       "220. 'JAVA'\n",
       "221. 'JIS_C6220-1969-RO'\n",
       "222. 'JIS_C6226-1983'\n",
       "223. 'JIS_X0201'\n",
       "224. 'JIS_X0208'\n",
       "225. 'JIS_X0208-1983'\n",
       "226. 'JIS_X0208-1990'\n",
       "227. 'JIS_X0212'\n",
       "228. 'JIS_X0212-1990'\n",
       "229. 'JIS_X0212.1990-0'\n",
       "230. 'JIS0208'\n",
       "231. 'JISX0201-1976'\n",
       "232. 'JOHAB'\n",
       "233. 'JP'\n",
       "234. 'KOI8-R'\n",
       "235. 'KOI8-RU'\n",
       "236. 'KOI8-T'\n",
       "237. 'KOI8-U'\n",
       "238. 'KOREAN'\n",
       "239. 'KS_C_5601-1987'\n",
       "240. 'KS_C_5601-1989'\n",
       "241. 'KSC_5601'\n",
       "242. 'KZ-1048'\n",
       "243. 'L1'\n",
       "244. 'L10'\n",
       "245. 'L2'\n",
       "246. 'L3'\n",
       "247. 'L4'\n",
       "248. 'L5'\n",
       "249. 'L6'\n",
       "250. 'L7'\n",
       "251. 'L8'\n",
       "252. 'LATIN-9'\n",
       "253. 'LATIN1'\n",
       "254. 'LATIN10'\n",
       "255. 'LATIN2'\n",
       "256. 'LATIN3'\n",
       "257. 'LATIN4'\n",
       "258. 'LATIN5'\n",
       "259. 'LATIN6'\n",
       "260. 'LATIN7'\n",
       "261. 'LATIN8'\n",
       "262. 'MAC'\n",
       "263. 'MACARABIC'\n",
       "264. 'MACCENTRALEUROPE'\n",
       "265. 'MACCROATIAN'\n",
       "266. 'MACCYRILLIC'\n",
       "267. 'MACGREEK'\n",
       "268. 'MACHEBREW'\n",
       "269. 'MACICELAND'\n",
       "270. 'MACINTOSH'\n",
       "271. 'MACROMAN'\n",
       "272. 'MACROMANIA'\n",
       "273. 'MACTHAI'\n",
       "274. 'MACTURKISH'\n",
       "275. 'MACUKRAINE'\n",
       "276. 'MS_KANJI'\n",
       "277. 'MS-ANSI'\n",
       "278. 'MS-ARAB'\n",
       "279. 'MS-CYRL'\n",
       "280. 'MS-EE'\n",
       "281. 'MS-GREEK'\n",
       "282. 'MS-HEBR'\n",
       "283. 'MS-TURK'\n",
       "284. 'MS936'\n",
       "285. 'MULELAO-1'\n",
       "286. 'NEXTSTEP'\n",
       "287. 'PT154'\n",
       "288. 'PTCP154'\n",
       "289. 'R8'\n",
       "290. 'RK1048'\n",
       "291. 'ROMAN8'\n",
       "292. 'SHIFT_JIS'\n",
       "293. 'SHIFT-JIS'\n",
       "294. 'SJIS'\n",
       "295. 'STRK1048-2002'\n",
       "296. 'TCVN'\n",
       "297. 'TCVN-5712'\n",
       "298. 'TCVN5712-1'\n",
       "299. 'TCVN5712-1:1993'\n",
       "300. 'TIS-620'\n",
       "301. 'TIS620'\n",
       "302. 'TIS620-0'\n",
       "303. 'TIS620.2529-1'\n",
       "304. 'TIS620.2533-0'\n",
       "305. 'TIS620.2533-1'\n",
       "306. 'UCS-2'\n",
       "307. 'UCS-2-INTERNAL'\n",
       "308. 'UCS-2-SWAPPED'\n",
       "309. 'UCS-2BE'\n",
       "310. 'UCS-2LE'\n",
       "311. 'UCS-4'\n",
       "312. 'UCS-4-INTERNAL'\n",
       "313. 'UCS-4-SWAPPED'\n",
       "314. 'UCS-4BE'\n",
       "315. 'UCS-4LE'\n",
       "316. 'UHC'\n",
       "317. 'UNICODE-1-1'\n",
       "318. 'UNICODE-1-1-UTF-7'\n",
       "319. 'UNICODEBIG'\n",
       "320. 'UNICODELITTLE'\n",
       "321. 'US'\n",
       "322. 'US-ASCII'\n",
       "323. 'UTF-16'\n",
       "324. 'UTF-16BE'\n",
       "325. 'UTF-16LE'\n",
       "326. 'UTF-32'\n",
       "327. 'UTF-32BE'\n",
       "328. 'UTF-32LE'\n",
       "329. 'UTF-7'\n",
       "330. 'UTF-8'\n",
       "331. 'VISCII'\n",
       "332. 'VISCII1.1-1'\n",
       "333. 'WINBALTRIM'\n",
       "334. 'WINDOWS-1250'\n",
       "335. 'WINDOWS-1251'\n",
       "336. 'WINDOWS-1252'\n",
       "337. 'WINDOWS-1253'\n",
       "338. 'WINDOWS-1254'\n",
       "339. 'WINDOWS-1255'\n",
       "340. 'WINDOWS-1256'\n",
       "341. 'WINDOWS-1257'\n",
       "342. 'WINDOWS-1258'\n",
       "343. 'WINDOWS-874'\n",
       "344. 'WINDOWS-936'\n",
       "345. 'X0201'\n",
       "346. 'X0208'\n",
       "347. 'X0212'\n",
       "\n",
       "\n"
      ],
      "text/plain": [
       "  [1] \"850\"                                          \n",
       "  [2] \"862\"                                          \n",
       "  [3] \"866\"                                          \n",
       "  [4] \"ANSI_X3.4-1968\"                               \n",
       "  [5] \"ANSI_X3.4-1986\"                               \n",
       "  [6] \"ARABIC\"                                       \n",
       "  [7] \"ARMSCII-8\"                                    \n",
       "  [8] \"ASCII\"                                        \n",
       "  [9] \"ASMO-708\"                                     \n",
       " [10] \"BIG-5\"                                        \n",
       " [11] \"BIG-FIVE\"                                     \n",
       " [12] \"BIG5\"                                         \n",
       " [13] \"BIG5-HKSCS\"                                   \n",
       " [14] \"BIG5-HKSCS:1999\"                              \n",
       " [15] \"BIG5-HKSCS:2001\"                              \n",
       " [16] \"BIG5-HKSCS:2004\"                              \n",
       " [17] \"BIG5-HKSCS:2008\"                              \n",
       " [18] \"BIG5HKSCS\"                                    \n",
       " [19] \"BIGFIVE\"                                      \n",
       " [20] \"C99\"                                          \n",
       " [21] \"CHINESE\"                                      \n",
       " [22] \"CN\"                                           \n",
       " [23] \"CN-BIG5\"                                      \n",
       " [24] \"CN-GB\"                                        \n",
       " [25] \"CN-GB-ISOIR165\"                               \n",
       " [26] \"CP1131\"                                       \n",
       " [27] \"CP1133\"                                       \n",
       " [28] \"CP1250\"                                       \n",
       " [29] \"CP1251\"                                       \n",
       " [30] \"CP1252\"                                       \n",
       " [31] \"CP1253\"                                       \n",
       " [32] \"CP1254\"                                       \n",
       " [33] \"CP1255\"                                       \n",
       " [34] \"CP1256\"                                       \n",
       " [35] \"CP1257\"                                       \n",
       " [36] \"CP1258\"                                       \n",
       " [37] \"CP1361\"                                       \n",
       " [38] \"CP154\"                                        \n",
       " [39] \"CP367\"                                        \n",
       " [40] \"CP50221\"                                      \n",
       " [41] \"CP819\"                                        \n",
       " [42] \"CP850\"                                        \n",
       " [43] \"CP862\"                                        \n",
       " [44] \"CP866\"                                        \n",
       " [45] \"CP874\"                                        \n",
       " [46] \"CP932\"                                        \n",
       " [47] \"CP936\"                                        \n",
       " [48] \"CP949\"                                        \n",
       " [49] \"CP950\"                                        \n",
       " [50] \"CSASCII\"                                      \n",
       " [51] \"CSBIG5\"                                       \n",
       " [52] \"CSEUCKR\"                                      \n",
       " [53] \"CSEUCPKDFMTJAPANESE\"                          \n",
       " [54] \"CSEUCTW\"                                      \n",
       " [55] \"CSGB2312\"                                     \n",
       " [56] \"CSHALFWIDTHKATAKANA\"                          \n",
       " [57] \"CSHPROMAN8\"                                   \n",
       " [58] \"CSIBM866\"                                     \n",
       " [59] \"CSISO14JISC6220RO\"                            \n",
       " [60] \"CSISO159JISX02121990\"                         \n",
       " [61] \"CSISO2022CN\"                                  \n",
       " [62] \"CSISO2022JP\"                                  \n",
       " [63] \"CSISO2022JP2\"                                 \n",
       " [64] \"CSISO2022KR\"                                  \n",
       " [65] \"CSISO57GB1988\"                                \n",
       " [66] \"CSISO58GB231280\"                              \n",
       " [67] \"CSISO87JISX0208\"                              \n",
       " [68] \"CSISOLATIN1\"                                  \n",
       " [69] \"CSISOLATIN2\"                                  \n",
       " [70] \"CSISOLATIN3\"                                  \n",
       " [71] \"CSISOLATIN4\"                                  \n",
       " [72] \"CSISOLATIN5\"                                  \n",
       " [73] \"CSISOLATIN6\"                                  \n",
       " [74] \"CSISOLATINARABIC\"                             \n",
       " [75] \"CSISOLATINCYRILLIC\"                           \n",
       " [76] \"CSISOLATINGREEK\"                              \n",
       " [77] \"CSISOLATINHEBREW\"                             \n",
       " [78] \"CSKOI8R\"                                      \n",
       " [79] \"CSKSC56011987\"                                \n",
       " [80] \"CSKZ1048\"                                     \n",
       " [81] \"CSMACINTOSH\"                                  \n",
       " [82] \"CSPC850MULTILINGUAL\"                          \n",
       " [83] \"CSPC862LATINHEBREW\"                           \n",
       " [84] \"CSPTCP154\"                                    \n",
       " [85] \"CSSHIFTJIS\"                                   \n",
       " [86] \"CSUCS4\"                                       \n",
       " [87] \"CSUNICODE\"                                    \n",
       " [88] \"CSUNICODE11\"                                  \n",
       " [89] \"CSUNICODE11UTF7\"                              \n",
       " [90] \"CSVISCII\"                                     \n",
       " [91] \"CYRILLIC\"                                     \n",
       " [92] \"CYRILLIC-ASIAN\"                               \n",
       " [93] \"ECMA-114\"                                     \n",
       " [94] \"ECMA-118\"                                     \n",
       " [95] \"ELOT_928\"                                     \n",
       " [96] \"EUC-CN\"                                       \n",
       " [97] \"EUC-JP\"                                       \n",
       " [98] \"EUC-KR\"                                       \n",
       " [99] \"EUC-TW\"                                       \n",
       "[100] \"EUCCN\"                                        \n",
       "[101] \"EUCJP\"                                        \n",
       "[102] \"EUCKR\"                                        \n",
       "[103] \"EUCTW\"                                        \n",
       "[104] \"EXTENDED_UNIX_CODE_PACKED_FORMAT_FOR_JAPANESE\"\n",
       "[105] \"GB_1988-80\"                                   \n",
       "[106] \"GB_2312-80\"                                   \n",
       "[107] \"GB18030\"                                      \n",
       "[108] \"GB2312\"                                       \n",
       "[109] \"GBK\"                                          \n",
       "[110] \"GEORGIAN-ACADEMY\"                             \n",
       "[111] \"GEORGIAN-PS\"                                  \n",
       "[112] \"GREEK\"                                        \n",
       "[113] \"GREEK8\"                                       \n",
       "[114] \"HEBREW\"                                       \n",
       "[115] \"HP-ROMAN8\"                                    \n",
       "[116] \"HZ\"                                           \n",
       "[117] \"HZ-GB-2312\"                                   \n",
       "[118] \"IBM-CP1133\"                                   \n",
       "[119] \"IBM367\"                                       \n",
       "[120] \"IBM819\"                                       \n",
       "[121] \"IBM850\"                                       \n",
       "[122] \"IBM862\"                                       \n",
       "[123] \"IBM866\"                                       \n",
       "[124] \"ISO_646.IRV:1991\"                             \n",
       "[125] \"ISO_8859-1\"                                   \n",
       "[126] \"ISO_8859-1:1987\"                              \n",
       "[127] \"ISO_8859-10\"                                  \n",
       "[128] \"ISO_8859-10:1992\"                             \n",
       "[129] \"ISO_8859-11\"                                  \n",
       "[130] \"ISO_8859-13\"                                  \n",
       "[131] \"ISO_8859-14\"                                  \n",
       "[132] \"ISO_8859-14:1998\"                             \n",
       "[133] \"ISO_8859-15\"                                  \n",
       "[134] \"ISO_8859-15:1998\"                             \n",
       "[135] \"ISO_8859-16\"                                  \n",
       "[136] \"ISO_8859-16:2001\"                             \n",
       "[137] \"ISO_8859-2\"                                   \n",
       "[138] \"ISO_8859-2:1987\"                              \n",
       "[139] \"ISO_8859-3\"                                   \n",
       "[140] \"ISO_8859-3:1988\"                              \n",
       "[141] \"ISO_8859-4\"                                   \n",
       "[142] \"ISO_8859-4:1988\"                              \n",
       "[143] \"ISO_8859-5\"                                   \n",
       "[144] \"ISO_8859-5:1988\"                              \n",
       "[145] \"ISO_8859-6\"                                   \n",
       "[146] \"ISO_8859-6:1987\"                              \n",
       "[147] \"ISO_8859-7\"                                   \n",
       "[148] \"ISO_8859-7:1987\"                              \n",
       "[149] \"ISO_8859-7:2003\"                              \n",
       "[150] \"ISO_8859-8\"                                   \n",
       "[151] \"ISO_8859-8:1988\"                              \n",
       "[152] \"ISO_8859-9\"                                   \n",
       "[153] \"ISO_8859-9:1989\"                              \n",
       "[154] \"ISO-10646-UCS-2\"                              \n",
       "[155] \"ISO-10646-UCS-4\"                              \n",
       "[156] \"ISO-2022-CN\"                                  \n",
       "[157] \"ISO-2022-CN-EXT\"                              \n",
       "[158] \"ISO-2022-JP\"                                  \n",
       "[159] \"ISO-2022-JP-1\"                                \n",
       "[160] \"ISO-2022-JP-2\"                                \n",
       "[161] \"ISO-2022-JP-MS\"                               \n",
       "[162] \"ISO-2022-KR\"                                  \n",
       "[163] \"ISO-8859-1\"                                   \n",
       "[164] \"ISO-8859-10\"                                  \n",
       "[165] \"ISO-8859-11\"                                  \n",
       "[166] \"ISO-8859-13\"                                  \n",
       "[167] \"ISO-8859-14\"                                  \n",
       "[168] \"ISO-8859-15\"                                  \n",
       "[169] \"ISO-8859-16\"                                  \n",
       "[170] \"ISO-8859-2\"                                   \n",
       "[171] \"ISO-8859-3\"                                   \n",
       "[172] \"ISO-8859-4\"                                   \n",
       "[173] \"ISO-8859-5\"                                   \n",
       "[174] \"ISO-8859-6\"                                   \n",
       "[175] \"ISO-8859-7\"                                   \n",
       "[176] \"ISO-8859-8\"                                   \n",
       "[177] \"ISO-8859-9\"                                   \n",
       "[178] \"ISO-CELTIC\"                                   \n",
       "[179] \"ISO-IR-100\"                                   \n",
       "[180] \"ISO-IR-101\"                                   \n",
       "[181] \"ISO-IR-109\"                                   \n",
       "[182] \"ISO-IR-110\"                                   \n",
       "[183] \"ISO-IR-126\"                                   \n",
       "[184] \"ISO-IR-127\"                                   \n",
       "[185] \"ISO-IR-138\"                                   \n",
       "[186] \"ISO-IR-14\"                                    \n",
       "[187] \"ISO-IR-144\"                                   \n",
       "[188] \"ISO-IR-148\"                                   \n",
       "[189] \"ISO-IR-149\"                                   \n",
       "[190] \"ISO-IR-157\"                                   \n",
       "[191] \"ISO-IR-159\"                                   \n",
       "[192] \"ISO-IR-165\"                                   \n",
       "[193] \"ISO-IR-166\"                                   \n",
       "[194] \"ISO-IR-179\"                                   \n",
       "[195] \"ISO-IR-199\"                                   \n",
       "[196] \"ISO-IR-203\"                                   \n",
       "[197] \"ISO-IR-226\"                                   \n",
       "[198] \"ISO-IR-57\"                                    \n",
       "[199] \"ISO-IR-58\"                                    \n",
       "[200] \"ISO-IR-6\"                                     \n",
       "[201] \"ISO-IR-87\"                                    \n",
       "[202] \"ISO646-CN\"                                    \n",
       "[203] \"ISO646-JP\"                                    \n",
       "[204] \"ISO646-US\"                                    \n",
       "[205] \"ISO8859-1\"                                    \n",
       "[206] \"ISO8859-10\"                                   \n",
       "[207] \"ISO8859-11\"                                   \n",
       "[208] \"ISO8859-13\"                                   \n",
       "[209] \"ISO8859-14\"                                   \n",
       "[210] \"ISO8859-15\"                                   \n",
       "[211] \"ISO8859-16\"                                   \n",
       "[212] \"ISO8859-2\"                                    \n",
       "[213] \"ISO8859-3\"                                    \n",
       "[214] \"ISO8859-4\"                                    \n",
       "[215] \"ISO8859-5\"                                    \n",
       "[216] \"ISO8859-6\"                                    \n",
       "[217] \"ISO8859-7\"                                    \n",
       "[218] \"ISO8859-8\"                                    \n",
       "[219] \"ISO8859-9\"                                    \n",
       "[220] \"JAVA\"                                         \n",
       "[221] \"JIS_C6220-1969-RO\"                            \n",
       "[222] \"JIS_C6226-1983\"                               \n",
       "[223] \"JIS_X0201\"                                    \n",
       "[224] \"JIS_X0208\"                                    \n",
       "[225] \"JIS_X0208-1983\"                               \n",
       "[226] \"JIS_X0208-1990\"                               \n",
       "[227] \"JIS_X0212\"                                    \n",
       "[228] \"JIS_X0212-1990\"                               \n",
       "[229] \"JIS_X0212.1990-0\"                             \n",
       "[230] \"JIS0208\"                                      \n",
       "[231] \"JISX0201-1976\"                                \n",
       "[232] \"JOHAB\"                                        \n",
       "[233] \"JP\"                                           \n",
       "[234] \"KOI8-R\"                                       \n",
       "[235] \"KOI8-RU\"                                      \n",
       "[236] \"KOI8-T\"                                       \n",
       "[237] \"KOI8-U\"                                       \n",
       "[238] \"KOREAN\"                                       \n",
       "[239] \"KS_C_5601-1987\"                               \n",
       "[240] \"KS_C_5601-1989\"                               \n",
       "[241] \"KSC_5601\"                                     \n",
       "[242] \"KZ-1048\"                                      \n",
       "[243] \"L1\"                                           \n",
       "[244] \"L10\"                                          \n",
       "[245] \"L2\"                                           \n",
       "[246] \"L3\"                                           \n",
       "[247] \"L4\"                                           \n",
       "[248] \"L5\"                                           \n",
       "[249] \"L6\"                                           \n",
       "[250] \"L7\"                                           \n",
       "[251] \"L8\"                                           \n",
       "[252] \"LATIN-9\"                                      \n",
       "[253] \"LATIN1\"                                       \n",
       "[254] \"LATIN10\"                                      \n",
       "[255] \"LATIN2\"                                       \n",
       "[256] \"LATIN3\"                                       \n",
       "[257] \"LATIN4\"                                       \n",
       "[258] \"LATIN5\"                                       \n",
       "[259] \"LATIN6\"                                       \n",
       "[260] \"LATIN7\"                                       \n",
       "[261] \"LATIN8\"                                       \n",
       "[262] \"MAC\"                                          \n",
       "[263] \"MACARABIC\"                                    \n",
       "[264] \"MACCENTRALEUROPE\"                             \n",
       "[265] \"MACCROATIAN\"                                  \n",
       "[266] \"MACCYRILLIC\"                                  \n",
       "[267] \"MACGREEK\"                                     \n",
       "[268] \"MACHEBREW\"                                    \n",
       "[269] \"MACICELAND\"                                   \n",
       "[270] \"MACINTOSH\"                                    \n",
       "[271] \"MACROMAN\"                                     \n",
       "[272] \"MACROMANIA\"                                   \n",
       "[273] \"MACTHAI\"                                      \n",
       "[274] \"MACTURKISH\"                                   \n",
       "[275] \"MACUKRAINE\"                                   \n",
       "[276] \"MS_KANJI\"                                     \n",
       "[277] \"MS-ANSI\"                                      \n",
       "[278] \"MS-ARAB\"                                      \n",
       "[279] \"MS-CYRL\"                                      \n",
       "[280] \"MS-EE\"                                        \n",
       "[281] \"MS-GREEK\"                                     \n",
       "[282] \"MS-HEBR\"                                      \n",
       "[283] \"MS-TURK\"                                      \n",
       "[284] \"MS936\"                                        \n",
       "[285] \"MULELAO-1\"                                    \n",
       "[286] \"NEXTSTEP\"                                     \n",
       "[287] \"PT154\"                                        \n",
       "[288] \"PTCP154\"                                      \n",
       "[289] \"R8\"                                           \n",
       "[290] \"RK1048\"                                       \n",
       "[291] \"ROMAN8\"                                       \n",
       "[292] \"SHIFT_JIS\"                                    \n",
       "[293] \"SHIFT-JIS\"                                    \n",
       "[294] \"SJIS\"                                         \n",
       "[295] \"STRK1048-2002\"                                \n",
       "[296] \"TCVN\"                                         \n",
       "[297] \"TCVN-5712\"                                    \n",
       "[298] \"TCVN5712-1\"                                   \n",
       "[299] \"TCVN5712-1:1993\"                              \n",
       "[300] \"TIS-620\"                                      \n",
       "[301] \"TIS620\"                                       \n",
       "[302] \"TIS620-0\"                                     \n",
       "[303] \"TIS620.2529-1\"                                \n",
       "[304] \"TIS620.2533-0\"                                \n",
       "[305] \"TIS620.2533-1\"                                \n",
       "[306] \"UCS-2\"                                        \n",
       "[307] \"UCS-2-INTERNAL\"                               \n",
       "[308] \"UCS-2-SWAPPED\"                                \n",
       "[309] \"UCS-2BE\"                                      \n",
       "[310] \"UCS-2LE\"                                      \n",
       "[311] \"UCS-4\"                                        \n",
       "[312] \"UCS-4-INTERNAL\"                               \n",
       "[313] \"UCS-4-SWAPPED\"                                \n",
       "[314] \"UCS-4BE\"                                      \n",
       "[315] \"UCS-4LE\"                                      \n",
       "[316] \"UHC\"                                          \n",
       "[317] \"UNICODE-1-1\"                                  \n",
       "[318] \"UNICODE-1-1-UTF-7\"                            \n",
       "[319] \"UNICODEBIG\"                                   \n",
       "[320] \"UNICODELITTLE\"                                \n",
       "[321] \"US\"                                           \n",
       "[322] \"US-ASCII\"                                     \n",
       "[323] \"UTF-16\"                                       \n",
       "[324] \"UTF-16BE\"                                     \n",
       "[325] \"UTF-16LE\"                                     \n",
       "[326] \"UTF-32\"                                       \n",
       "[327] \"UTF-32BE\"                                     \n",
       "[328] \"UTF-32LE\"                                     \n",
       "[329] \"UTF-7\"                                        \n",
       "[330] \"UTF-8\"                                        \n",
       "[331] \"VISCII\"                                       \n",
       "[332] \"VISCII1.1-1\"                                  \n",
       "[333] \"WINBALTRIM\"                                   \n",
       "[334] \"WINDOWS-1250\"                                 \n",
       "[335] \"WINDOWS-1251\"                                 \n",
       "[336] \"WINDOWS-1252\"                                 \n",
       "[337] \"WINDOWS-1253\"                                 \n",
       "[338] \"WINDOWS-1254\"                                 \n",
       "[339] \"WINDOWS-1255\"                                 \n",
       "[340] \"WINDOWS-1256\"                                 \n",
       "[341] \"WINDOWS-1257\"                                 \n",
       "[342] \"WINDOWS-1258\"                                 \n",
       "[343] \"WINDOWS-874\"                                  \n",
       "[344] \"WINDOWS-936\"                                  \n",
       "[345] \"X0201\"                                        \n",
       "[346] \"X0208\"                                        \n",
       "[347] \"X0212\"                                        "
      ]
     },
     "metadata": {},
     "output_type": "display_data"
    }
   ],
   "source": [
    "iconvlist() # list of available encodings on this system"
   ]
  },
  {
   "cell_type": "code",
   "execution_count": 7,
   "metadata": {},
   "outputs": [
    {
     "data": {
      "text/html": [
       "<ol>\n",
       "\t<li><dl>\n",
       "\t<dt>$Encoding</dt>\n",
       "\t\t<dd><ol class=list-inline>\n",
       "\t<li>'ISO-8859-1'</li>\n",
       "\t<li>'ISO-8859-2'</li>\n",
       "\t<li>'UTF-8'</li>\n",
       "\t<li>'UTF-16BE'</li>\n",
       "\t<li>'UTF-16LE'</li>\n",
       "\t<li>'Shift_JIS'</li>\n",
       "\t<li>'GB18030'</li>\n",
       "\t<li>'EUC-JP'</li>\n",
       "\t<li>'EUC-KR'</li>\n",
       "\t<li>'Big5'</li>\n",
       "\t<li>'ISO-8859-9'</li>\n",
       "</ol>\n",
       "</dd>\n",
       "\t<dt>$Language</dt>\n",
       "\t\t<dd><ol class=list-inline>\n",
       "\t<li>'en'</li>\n",
       "\t<li>'hu'</li>\n",
       "\t<li>''</li>\n",
       "\t<li>''</li>\n",
       "\t<li>''</li>\n",
       "\t<li>'ja'</li>\n",
       "\t<li>'zh'</li>\n",
       "\t<li>'ja'</li>\n",
       "\t<li>'ko'</li>\n",
       "\t<li>'zh'</li>\n",
       "\t<li>'tr'</li>\n",
       "</ol>\n",
       "</dd>\n",
       "\t<dt>$Confidence</dt>\n",
       "\t\t<dd><ol class=list-inline>\n",
       "\t<li>0.87</li>\n",
       "\t<li>0.29</li>\n",
       "\t<li>0.15</li>\n",
       "\t<li>0.1</li>\n",
       "\t<li>0.1</li>\n",
       "\t<li>0.1</li>\n",
       "\t<li>0.1</li>\n",
       "\t<li>0.1</li>\n",
       "\t<li>0.1</li>\n",
       "\t<li>0.1</li>\n",
       "\t<li>0.09</li>\n",
       "</ol>\n",
       "</dd>\n",
       "</dl>\n",
       "</li>\n",
       "</ol>\n"
      ],
      "text/latex": [
       "\\begin{enumerate}\n",
       "\\item \\begin{description}\n",
       "\\item[\\$Encoding] \\begin{enumerate*}\n",
       "\\item 'ISO-8859-1'\n",
       "\\item 'ISO-8859-2'\n",
       "\\item 'UTF-8'\n",
       "\\item 'UTF-16BE'\n",
       "\\item 'UTF-16LE'\n",
       "\\item 'Shift\\_JIS'\n",
       "\\item 'GB18030'\n",
       "\\item 'EUC-JP'\n",
       "\\item 'EUC-KR'\n",
       "\\item 'Big5'\n",
       "\\item 'ISO-8859-9'\n",
       "\\end{enumerate*}\n",
       "\n",
       "\\item[\\$Language] \\begin{enumerate*}\n",
       "\\item 'en'\n",
       "\\item 'hu'\n",
       "\\item ''\n",
       "\\item ''\n",
       "\\item ''\n",
       "\\item 'ja'\n",
       "\\item 'zh'\n",
       "\\item 'ja'\n",
       "\\item 'ko'\n",
       "\\item 'zh'\n",
       "\\item 'tr'\n",
       "\\end{enumerate*}\n",
       "\n",
       "\\item[\\$Confidence] \\begin{enumerate*}\n",
       "\\item 0.87\n",
       "\\item 0.29\n",
       "\\item 0.15\n",
       "\\item 0.1\n",
       "\\item 0.1\n",
       "\\item 0.1\n",
       "\\item 0.1\n",
       "\\item 0.1\n",
       "\\item 0.1\n",
       "\\item 0.1\n",
       "\\item 0.09\n",
       "\\end{enumerate*}\n",
       "\n",
       "\\end{description}\n",
       "\n",
       "\\end{enumerate}\n"
      ],
      "text/markdown": [
       "1. $Encoding\n",
       ":   1. 'ISO-8859-1'\n",
       "2. 'ISO-8859-2'\n",
       "3. 'UTF-8'\n",
       "4. 'UTF-16BE'\n",
       "5. 'UTF-16LE'\n",
       "6. 'Shift_JIS'\n",
       "7. 'GB18030'\n",
       "8. 'EUC-JP'\n",
       "9. 'EUC-KR'\n",
       "10. 'Big5'\n",
       "11. 'ISO-8859-9'\n",
       "\n",
       "\n",
       "\n",
       "$Language\n",
       ":   1. 'en'\n",
       "2. 'hu'\n",
       "3. ''\n",
       "4. ''\n",
       "5. ''\n",
       "6. 'ja'\n",
       "7. 'zh'\n",
       "8. 'ja'\n",
       "9. 'ko'\n",
       "10. 'zh'\n",
       "11. 'tr'\n",
       "\n",
       "\n",
       "\n",
       "$Confidence\n",
       ":   1. 0.87\n",
       "2. 0.29\n",
       "3. 0.15\n",
       "4. 0.1\n",
       "5. 0.1\n",
       "6. 0.1\n",
       "7. 0.1\n",
       "8. 0.1\n",
       "9. 0.1\n",
       "10. 0.1\n",
       "11. 0.09\n",
       "\n",
       "\n",
       "\n",
       "\n",
       "\n",
       "\n",
       "\n",
       "\n"
      ],
      "text/plain": [
       "[[1]]\n",
       "[[1]]$Encoding\n",
       " [1] \"ISO-8859-1\" \"ISO-8859-2\" \"UTF-8\"      \"UTF-16BE\"   \"UTF-16LE\"  \n",
       " [6] \"Shift_JIS\"  \"GB18030\"    \"EUC-JP\"     \"EUC-KR\"     \"Big5\"      \n",
       "[11] \"ISO-8859-9\"\n",
       "\n",
       "[[1]]$Language\n",
       " [1] \"en\" \"hu\" \"\"   \"\"   \"\"   \"ja\" \"zh\" \"ja\" \"ko\" \"zh\" \"tr\"\n",
       "\n",
       "[[1]]$Confidence\n",
       " [1] 0.87 0.29 0.15 0.10 0.10 0.10 0.10 0.10 0.10 0.10 0.09\n",
       "\n"
      ]
     },
     "metadata": {},
     "output_type": "display_data"
    }
   ],
   "source": [
    "library(stringi)\n",
    "stri_enc_detect(str = \"I want to detect this encoding\")"
   ]
  },
  {
   "cell_type": "code",
   "execution_count": 8,
   "metadata": {},
   "outputs": [
    {
     "data": {
      "text/html": [
       "'Ceci est la vérité'"
      ],
      "text/latex": [
       "'Ceci est la vérité'"
      ],
      "text/markdown": [
       "'Ceci est la vérité'"
      ],
      "text/plain": [
       "[1] \"Ceci est la vérité\""
      ]
     },
     "metadata": {},
     "output_type": "display_data"
    }
   ],
   "source": [
    "mystring <- mystrings[1]\n",
    "mystring"
   ]
  },
  {
   "cell_type": "code",
   "execution_count": 9,
   "metadata": {},
   "outputs": [
    {
     "data": {
      "text/html": [
       "'UTF-8'"
      ],
      "text/latex": [
       "'UTF-8'"
      ],
      "text/markdown": [
       "'UTF-8'"
      ],
      "text/plain": [
       "[1] \"UTF-8\""
      ]
     },
     "metadata": {},
     "output_type": "display_data"
    }
   ],
   "source": [
    "Encoding(mystring)"
   ]
  },
  {
   "cell_type": "code",
   "execution_count": 11,
   "metadata": {},
   "outputs": [
    {
     "data": {
      "text/html": [
       "'Ceci est la vérité'"
      ],
      "text/latex": [
       "'Ceci est la vérité'"
      ],
      "text/markdown": [
       "'Ceci est la vérité'"
      ],
      "text/plain": [
       "[1] \"Ceci est la vérité\""
      ]
     },
     "metadata": {},
     "output_type": "display_data"
    }
   ],
   "source": [
    "# the example makes the opposite since the strings are latin1 on windows...\n",
    "x <- iconv(mystring, from = \"UTF-8\", to = \"latin1\")\n",
    "x"
   ]
  },
  {
   "cell_type": "code",
   "execution_count": 12,
   "metadata": {},
   "outputs": [
    {
     "data": {
      "text/html": [
       "'latin1'"
      ],
      "text/latex": [
       "'latin1'"
      ],
      "text/markdown": [
       "'latin1'"
      ],
      "text/plain": [
       "[1] \"latin1\""
      ]
     },
     "metadata": {},
     "output_type": "display_data"
    }
   ],
   "source": [
    "Encoding(x)"
   ]
  },
  {
   "cell_type": "code",
   "execution_count": 13,
   "metadata": {},
   "outputs": [
    {
     "data": {
      "text/html": [
       "<ol class=list-inline>\n",
       "\t<li>'Ceci est la vérité'</li>\n",
       "\t<li>'Je n\\'aime pas ça'</li>\n",
       "</ol>\n"
      ],
      "text/latex": [
       "\\begin{enumerate*}\n",
       "\\item 'Ceci est la vérité'\n",
       "\\item 'Je n\\textbackslash{}'aime pas ça'\n",
       "\\end{enumerate*}\n"
      ],
      "text/markdown": [
       "1. 'Ceci est la vérité'\n",
       "2. 'Je n\\'aime pas ça'\n",
       "\n",
       "\n"
      ],
      "text/plain": [
       "[1] \"Ceci est la vérité\" \"Je n'aime pas ça\"  "
      ]
     },
     "metadata": {},
     "output_type": "display_data"
    }
   ],
   "source": [
    "# making sure the character exist\n",
    "mystring <- mystrings[1:2]\n",
    "mystring"
   ]
  },
  {
   "cell_type": "code",
   "execution_count": 17,
   "metadata": {},
   "outputs": [
    {
     "data": {
      "text/html": [
       "<ol class=list-inline>\n",
       "\t<li>'Ceci est la v??rit??'</li>\n",
       "\t<li>'Je n\\'aime pas ??a'</li>\n",
       "</ol>\n"
      ],
      "text/latex": [
       "\\begin{enumerate*}\n",
       "\\item 'Ceci est la v??rit??'\n",
       "\\item 'Je n\\textbackslash{}'aime pas ??a'\n",
       "\\end{enumerate*}\n"
      ],
      "text/markdown": [
       "1. 'Ceci est la v??rit??'\n",
       "2. 'Je n\\'aime pas ??a'\n",
       "\n",
       "\n"
      ],
      "text/plain": [
       "[1] \"Ceci est la v??rit??\" \"Je n'aime pas ??a\"   "
      ]
     },
     "metadata": {},
     "output_type": "display_data"
    }
   ],
   "source": [
    "iconv(mystring, from = \"UTF-8\", to = \"ASCII\", sub = \"?\")"
   ]
  },
  {
   "cell_type": "code",
   "execution_count": 19,
   "metadata": {},
   "outputs": [
    {
     "data": {
      "text/html": [
       "<ol class=list-inline>\n",
       "\t<li>NA</li>\n",
       "\t<li>NA</li>\n",
       "</ol>\n"
      ],
      "text/latex": [
       "\\begin{enumerate*}\n",
       "\\item NA\n",
       "\\item NA\n",
       "\\end{enumerate*}\n"
      ],
      "text/markdown": [
       "1. NA\n",
       "2. NA\n",
       "\n",
       "\n"
      ],
      "text/plain": [
       "[1] NA NA"
      ]
     },
     "metadata": {},
     "output_type": "display_data"
    }
   ],
   "source": [
    "iconv(mystring, from = \"UTF-8\", to = \"ASCII\")"
   ]
  },
  {
   "cell_type": "code",
   "execution_count": 18,
   "metadata": {},
   "outputs": [
    {
     "data": {
      "text/html": [
       "<ol class=list-inline>\n",
       "\t<li>'Ceci est la v\\'erit\\'e'</li>\n",
       "\t<li>'Je n\\'aime pas ca'</li>\n",
       "</ol>\n"
      ],
      "text/latex": [
       "\\begin{enumerate*}\n",
       "\\item 'Ceci est la v\\textbackslash{}'erit\\textbackslash{}'e'\n",
       "\\item 'Je n\\textbackslash{}'aime pas ca'\n",
       "\\end{enumerate*}\n"
      ],
      "text/markdown": [
       "1. 'Ceci est la v\\'erit\\'e'\n",
       "2. 'Je n\\'aime pas ca'\n",
       "\n",
       "\n"
      ],
      "text/plain": [
       "[1] \"Ceci est la v'erit'e\" \"Je n'aime pas ca\"    "
      ]
     },
     "metadata": {},
     "output_type": "display_data"
    }
   ],
   "source": [
    "# to translate special characters to ascii:\n",
    "iconv(mystring, from = \"UTF-8\", to = \"ASCII//TRANSLIT\")"
   ]
  },
  {
   "cell_type": "code",
   "execution_count": 20,
   "metadata": {},
   "outputs": [
    {
     "data": {
      "text/html": [
       "<ol class=list-inline>\n",
       "\t<li>'Ceci est la vÃ©ritÃ©'</li>\n",
       "\t<li>'Je n\\'aime pas Ã§a'</li>\n",
       "\t<li>'Helmut, Ich liebe dich'</li>\n",
       "\t<li>'90210'</li>\n",
       "</ol>\n"
      ],
      "text/latex": [
       "\\begin{enumerate*}\n",
       "\\item 'Ceci est la vÃ©ritÃ©'\n",
       "\\item 'Je n\\textbackslash{}'aime pas Ã§a'\n",
       "\\item 'Helmut, Ich liebe dich'\n",
       "\\item '90210'\n",
       "\\end{enumerate*}\n"
      ],
      "text/markdown": [
       "1. 'Ceci est la vÃ©ritÃ©'\n",
       "2. 'Je n\\'aime pas Ã§a'\n",
       "3. 'Helmut, Ich liebe dich'\n",
       "4. '90210'\n",
       "\n",
       "\n"
      ],
      "text/plain": [
       "[1] \"Ceci est la vÃ©ritÃ©\"   \"Je n'aime pas Ã§a\"      \"Helmut, Ich liebe dich\"\n",
       "[4] \"90210\"                 "
      ]
     },
     "metadata": {},
     "output_type": "display_data"
    }
   ],
   "source": [
    "# bad way of changing the encoding:\n",
    "Encoding(mystrings) <- \"latin1\"\n",
    "mystrings"
   ]
  },
  {
   "cell_type": "code",
   "execution_count": 21,
   "metadata": {},
   "outputs": [],
   "source": [
    "# restauring the encoding\n",
    "Encoding(mystrings) <- \"UTF-8\""
   ]
  },
  {
   "cell_type": "code",
   "execution_count": 22,
   "metadata": {},
   "outputs": [
    {
     "data": {
      "text/html": [
       "'Wir gehen Frühstuck essen'"
      ],
      "text/latex": [
       "'Wir gehen Frühstuck essen'"
      ],
      "text/markdown": [
       "'Wir gehen Frühstuck essen'"
      ],
      "text/plain": [
       "[1] \"Wir gehen Frühstuck essen\""
      ]
     },
     "metadata": {},
     "output_type": "display_data"
    }
   ],
   "source": [
    "## Encodings\n",
    "# Exercise 1\n",
    "germanText = \"Wir gehen Frühstuck essen\"\n",
    "germanText"
   ]
  },
  {
   "cell_type": "code",
   "execution_count": 23,
   "metadata": {},
   "outputs": [
    {
     "data": {
      "text/html": [
       "'UTF-8'"
      ],
      "text/latex": [
       "'UTF-8'"
      ],
      "text/markdown": [
       "'UTF-8'"
      ],
      "text/plain": [
       "[1] \"UTF-8\""
      ]
     },
     "metadata": {},
     "output_type": "display_data"
    }
   ],
   "source": [
    "# show encoding\n",
    "Encoding(germanText)"
   ]
  },
  {
   "cell_type": "code",
   "execution_count": 24,
   "metadata": {},
   "outputs": [
    {
     "data": {
      "text/html": [
       "'Wir gehen Frühstuck essen'"
      ],
      "text/latex": [
       "'Wir gehen Frühstuck essen'"
      ],
      "text/markdown": [
       "'Wir gehen Frühstuck essen'"
      ],
      "text/plain": [
       "[1] \"Wir gehen Frühstuck essen\""
      ]
     },
     "metadata": {},
     "output_type": "display_data"
    }
   ],
   "source": [
    "iconv(germanText, from = \"UTF-8\", to = \"latin1\")"
   ]
  },
  {
   "cell_type": "code",
   "execution_count": 25,
   "metadata": {},
   "outputs": [
    {
     "data": {
      "text/html": [
       "<ol>\n",
       "\t<li><dl>\n",
       "\t<dt>$Encoding</dt>\n",
       "\t\t<dd><ol class=list-inline>\n",
       "\t<li>'UTF-8'</li>\n",
       "\t<li>'ISO-8859-1'</li>\n",
       "\t<li>'ISO-8859-9'</li>\n",
       "\t<li>'ISO-8859-2'</li>\n",
       "\t<li>'UTF-16BE'</li>\n",
       "\t<li>'UTF-16LE'</li>\n",
       "\t<li>'Shift_JIS'</li>\n",
       "\t<li>'GB18030'</li>\n",
       "\t<li>'EUC-JP'</li>\n",
       "\t<li>'EUC-KR'</li>\n",
       "\t<li>'Big5'</li>\n",
       "</ol>\n",
       "</dd>\n",
       "\t<dt>$Language</dt>\n",
       "\t\t<dd><ol class=list-inline>\n",
       "\t<li>''</li>\n",
       "\t<li>'de'</li>\n",
       "\t<li>'tr'</li>\n",
       "\t<li>'hu'</li>\n",
       "\t<li>''</li>\n",
       "\t<li>''</li>\n",
       "\t<li>'ja'</li>\n",
       "\t<li>'zh'</li>\n",
       "\t<li>'ja'</li>\n",
       "\t<li>'ko'</li>\n",
       "\t<li>'zh'</li>\n",
       "</ol>\n",
       "</dd>\n",
       "\t<dt>$Confidence</dt>\n",
       "\t\t<dd><ol class=list-inline>\n",
       "\t<li>0.8</li>\n",
       "\t<li>0.44</li>\n",
       "\t<li>0.44</li>\n",
       "\t<li>0.22</li>\n",
       "\t<li>0.1</li>\n",
       "\t<li>0.1</li>\n",
       "\t<li>0.1</li>\n",
       "\t<li>0.1</li>\n",
       "\t<li>0.1</li>\n",
       "\t<li>0.1</li>\n",
       "\t<li>0.1</li>\n",
       "</ol>\n",
       "</dd>\n",
       "</dl>\n",
       "</li>\n",
       "</ol>\n"
      ],
      "text/latex": [
       "\\begin{enumerate}\n",
       "\\item \\begin{description}\n",
       "\\item[\\$Encoding] \\begin{enumerate*}\n",
       "\\item 'UTF-8'\n",
       "\\item 'ISO-8859-1'\n",
       "\\item 'ISO-8859-9'\n",
       "\\item 'ISO-8859-2'\n",
       "\\item 'UTF-16BE'\n",
       "\\item 'UTF-16LE'\n",
       "\\item 'Shift\\_JIS'\n",
       "\\item 'GB18030'\n",
       "\\item 'EUC-JP'\n",
       "\\item 'EUC-KR'\n",
       "\\item 'Big5'\n",
       "\\end{enumerate*}\n",
       "\n",
       "\\item[\\$Language] \\begin{enumerate*}\n",
       "\\item ''\n",
       "\\item 'de'\n",
       "\\item 'tr'\n",
       "\\item 'hu'\n",
       "\\item ''\n",
       "\\item ''\n",
       "\\item 'ja'\n",
       "\\item 'zh'\n",
       "\\item 'ja'\n",
       "\\item 'ko'\n",
       "\\item 'zh'\n",
       "\\end{enumerate*}\n",
       "\n",
       "\\item[\\$Confidence] \\begin{enumerate*}\n",
       "\\item 0.8\n",
       "\\item 0.44\n",
       "\\item 0.44\n",
       "\\item 0.22\n",
       "\\item 0.1\n",
       "\\item 0.1\n",
       "\\item 0.1\n",
       "\\item 0.1\n",
       "\\item 0.1\n",
       "\\item 0.1\n",
       "\\item 0.1\n",
       "\\end{enumerate*}\n",
       "\n",
       "\\end{description}\n",
       "\n",
       "\\end{enumerate}\n"
      ],
      "text/markdown": [
       "1. $Encoding\n",
       ":   1. 'UTF-8'\n",
       "2. 'ISO-8859-1'\n",
       "3. 'ISO-8859-9'\n",
       "4. 'ISO-8859-2'\n",
       "5. 'UTF-16BE'\n",
       "6. 'UTF-16LE'\n",
       "7. 'Shift_JIS'\n",
       "8. 'GB18030'\n",
       "9. 'EUC-JP'\n",
       "10. 'EUC-KR'\n",
       "11. 'Big5'\n",
       "\n",
       "\n",
       "\n",
       "$Language\n",
       ":   1. ''\n",
       "2. 'de'\n",
       "3. 'tr'\n",
       "4. 'hu'\n",
       "5. ''\n",
       "6. ''\n",
       "7. 'ja'\n",
       "8. 'zh'\n",
       "9. 'ja'\n",
       "10. 'ko'\n",
       "11. 'zh'\n",
       "\n",
       "\n",
       "\n",
       "$Confidence\n",
       ":   1. 0.8\n",
       "2. 0.44\n",
       "3. 0.44\n",
       "4. 0.22\n",
       "5. 0.1\n",
       "6. 0.1\n",
       "7. 0.1\n",
       "8. 0.1\n",
       "9. 0.1\n",
       "10. 0.1\n",
       "11. 0.1\n",
       "\n",
       "\n",
       "\n",
       "\n",
       "\n",
       "\n",
       "\n",
       "\n"
      ],
      "text/plain": [
       "[[1]]\n",
       "[[1]]$Encoding\n",
       " [1] \"UTF-8\"      \"ISO-8859-1\" \"ISO-8859-9\" \"ISO-8859-2\" \"UTF-16BE\"  \n",
       " [6] \"UTF-16LE\"   \"Shift_JIS\"  \"GB18030\"    \"EUC-JP\"     \"EUC-KR\"    \n",
       "[11] \"Big5\"      \n",
       "\n",
       "[[1]]$Language\n",
       " [1] \"\"   \"de\" \"tr\" \"hu\" \"\"   \"\"   \"ja\" \"zh\" \"ja\" \"ko\" \"zh\"\n",
       "\n",
       "[[1]]$Confidence\n",
       " [1] 0.80 0.44 0.44 0.22 0.10 0.10 0.10 0.10 0.10 0.10 0.10\n",
       "\n"
      ]
     },
     "metadata": {},
     "output_type": "display_data"
    }
   ],
   "source": [
    "# show encoding\n",
    "library(stringi)\n",
    "stri_enc_detect(str = germanText)"
   ]
  },
  {
   "cell_type": "code",
   "execution_count": 27,
   "metadata": {},
   "outputs": [
    {
     "data": {
      "text/html": [
       "'Wir gehen Fr\"uhstuck essen'"
      ],
      "text/latex": [
       "'Wir gehen Fr\"uhstuck essen'"
      ],
      "text/markdown": [
       "'Wir gehen Fr\"uhstuck essen'"
      ],
      "text/plain": [
       "[1] \"Wir gehen Fr\\\"uhstuck essen\""
      ]
     },
     "metadata": {},
     "output_type": "display_data"
    }
   ],
   "source": [
    "# convert to ASCII\n",
    "asciiGermanText <- iconv(germanText, from = \"UTF-8\", to = \"ASCII//TRANSLIT\", sub = \"?\")\n",
    "asciiGermanText"
   ]
  },
  {
   "cell_type": "code",
   "execution_count": 28,
   "metadata": {},
   "outputs": [
    {
     "data": {
      "text/html": [
       "'unknown'"
      ],
      "text/latex": [
       "'unknown'"
      ],
      "text/markdown": [
       "'unknown'"
      ],
      "text/plain": [
       "[1] \"unknown\""
      ]
     },
     "metadata": {},
     "output_type": "display_data"
    }
   ],
   "source": [
    "# TODO: find out why I don't have the ASCII type...\n",
    "Encoding(asciiGermanText)"
   ]
  },
  {
   "cell_type": "code",
   "execution_count": 30,
   "metadata": {},
   "outputs": [
    {
     "data": {
      "text/html": [
       "'???????????? ??????'"
      ],
      "text/latex": [
       "'???????????? ??????'"
      ],
      "text/markdown": [
       "'???????????? ??????'"
      ],
      "text/plain": [
       "[1] \"???????????? ??????\""
      ]
     },
     "metadata": {},
     "output_type": "display_data"
    }
   ],
   "source": [
    "# Exercise 2\n",
    "hello_world <- \"Привет мир\"\n",
    "iconv(hello_world, from = Encoding(hello_world), to = \"latin1\", sub = \"?\")"
   ]
  },
  {
   "cell_type": "code",
   "execution_count": 31,
   "metadata": {},
   "outputs": [
    {
     "data": {
      "text/html": [
       "'???????????? ??????'"
      ],
      "text/latex": [
       "'???????????? ??????'"
      ],
      "text/markdown": [
       "'???????????? ??????'"
      ],
      "text/plain": [
       "[1] \"???????????? ??????\""
      ]
     },
     "metadata": {},
     "output_type": "display_data"
    }
   ],
   "source": [
    "iconv(hello_world, from = Encoding(hello_world), to = \"ASCII//TRANSLIT\", sub = \"?\")"
   ]
  },
  {
   "cell_type": "code",
   "execution_count": 46,
   "metadata": {},
   "outputs": [
    {
     "data": {
      "text/html": [
       "<ol class=list-inline>\n",
       "\t<li>'Материал из Википедии — свободной энциклопедии'</li>\n",
       "\t<li>'Пример «Hello world» с графическим интерфейсом на GTK+. На заднем плане gedit с исходным кодом на Perl'</li>\n",
       "\t<li>'«Hello world» на графическом языке Piet'</li>\n",
       "\t<li>''</li>\n",
       "\t<li>'«Hello, world!» — программа, результатом работы которой является вывод на экран или иное устройство фразы «Hello, world!» (в дословном переводе с английского — «Привет, мир!»; представляет собой распространённое неформальное приветствие, близкое к русскому «всем привет!»). Также используются вариации с другой пунктуацией или регистром — например, «Hello World». Обычно это первый пример программы в учебниках по программированию, и для многих студентов такая программа является первым опытом при изучении нового языка.'</li>\n",
       "\t<li>''</li>\n",
       "\t<li>'Такая постановка задачи обращает внимание учащегося сразу на несколько ключевых моментов языка программирования, главным из которых является базовая структура программы.'</li>\n",
       "\t<li>''</li>\n",
       "\t<li>'Хотя небольшие тестовые примеры использовались с тех самых пор, как появились компьютеры, традиция использования фразы «Hello, world!» в качестве тестового сообщения была введена в книге «Язык программирования Си» Брайана Кернигана и Денниса Ритчи, опубликованной в 1978 году.'</li>\n",
       "\t<li>''</li>\n",
       "\t<li>'Содержание'</li>\n",
       "\t<li>''</li>\n",
       "\t<li><span style=white-space:pre-wrap>'    1 Перевод на русский язык'</span></li>\n",
       "\t<li><span style=white-space:pre-wrap>'    2 Интересные факты'</span></li>\n",
       "\t<li><span style=white-space:pre-wrap>'    3 Примеры'</span></li>\n",
       "\t<li><span style=white-space:pre-wrap>'    4 Маргинальные примеры'</span></li>\n",
       "\t<li><span style=white-space:pre-wrap>'    5 Другие программы'</span></li>\n",
       "\t<li><span style=white-space:pre-wrap>'    6 Примечания'</span></li>\n",
       "\t<li><span style=white-space:pre-wrap>'    7 Ссылки'</span></li>\n",
       "\t<li>''</li>\n",
       "\t<li>'Перевод на русский язык'</li>\n",
       "\t<li>''</li>\n",
       "\t<li>'Русскоязычные программисты и технические переводчики традиционно переводят слово world в его основном значении — «мир, свет, вселенная», отчего из «hello world» получается дословное «привет, мир». Объясняется такой перевод тем, что программа, начиная работу, как бы рождается и приветствует мир, в который она приходит.'</li>\n",
       "\t<li>''</li>\n",
       "\t<li>'Более знакомые с тонкостями английского языка указывают на то, что у world имеются и другие значения — «народ», «общество», «человечество»,[1] а «hello world» является распространенным неформальным приветствием, адресованным неопределённому кругу лиц (людей, а не просто произвольных объектов или природе в целом). Поэтому переводить приветствие следует как «всем привет», «привет, народ», «здорово, люди» и т. п., что подтверждается англоязычными программистами.[2][3]'</li>\n",
       "\t<li>''</li>\n",
       "\t<li>'В аналогичном смысле слово world применяется при назначении прав доступа (owner, group, world) в операционных системах UNIX, для которых был разработан язык C, откуда и пошла традиция выводить «hello world» в качестве приветствия. owner означает владельца объекта, group — группу пользователей, в которую входит владелец, а world — всех остальных пользователей системы.'</li>\n",
       "\t<li>'Интересные факты'</li>\n",
       "\t<li>''</li>\n",
       "\t<li><span style=white-space:pre-wrap>'    В индийском фильме «Робот», снятом в 2010-м году, слова «Hello, world!» стали первой фразой, произнесённой андроидом Чити-Бабу.'</span></li>\n",
       "\t<li><span style=white-space:pre-wrap>'    В среде поклонников языка Perl вместо «Hello, world!» используется фраза «Just another Perl hacker» («Просто ещё один Перл-хакер»).'</span></li>\n",
       "\t<li><span style=white-space:pre-wrap>'    В игре Assassin’s Creed: Revelations объект шестнадцать говорит эту фразу при встрече в анимусе.'</span></li>\n",
       "</ol>\n"
      ],
      "text/latex": [
       "\\begin{enumerate*}\n",
       "\\item 'Материал из Википедии — свободной энциклопедии'\n",
       "\\item 'Пример «Hello world» с графическим интерфейсом на GTK+. На заднем плане gedit с исходным кодом на Perl'\n",
       "\\item '«Hello world» на графическом языке Piet'\n",
       "\\item ''\n",
       "\\item '«Hello, world!» — программа, результатом работы которой является вывод на экран или иное устройство фразы «Hello, world!» (в дословном переводе с английского — «Привет, мир!»; представляет собой распространённое неформальное приветствие, близкое к русскому «всем привет!»). Также используются вариации с другой пунктуацией или регистром — например, «Hello World». Обычно это первый пример программы в учебниках по программированию, и для многих студентов такая программа является первым опытом при изучении нового языка.'\n",
       "\\item ''\n",
       "\\item 'Такая постановка задачи обращает внимание учащегося сразу на несколько ключевых моментов языка программирования, главным из которых является базовая структура программы.'\n",
       "\\item ''\n",
       "\\item 'Хотя небольшие тестовые примеры использовались с тех самых пор, как появились компьютеры, традиция использования фразы «Hello, world!» в качестве тестового сообщения была введена в книге «Язык программирования Си» Брайана Кернигана и Денниса Ритчи, опубликованной в 1978 году.'\n",
       "\\item ''\n",
       "\\item 'Содержание'\n",
       "\\item ''\n",
       "\\item '    1 Перевод на русский язык'\n",
       "\\item '    2 Интересные факты'\n",
       "\\item '    3 Примеры'\n",
       "\\item '    4 Маргинальные примеры'\n",
       "\\item '    5 Другие программы'\n",
       "\\item '    6 Примечания'\n",
       "\\item '    7 Ссылки'\n",
       "\\item ''\n",
       "\\item 'Перевод на русский язык'\n",
       "\\item ''\n",
       "\\item 'Русскоязычные программисты и технические переводчики традиционно переводят слово world в его основном значении — «мир, свет, вселенная», отчего из «hello world» получается дословное «привет, мир». Объясняется такой перевод тем, что программа, начиная работу, как бы рождается и приветствует мир, в который она приходит.'\n",
       "\\item ''\n",
       "\\item 'Более знакомые с тонкостями английского языка указывают на то, что у world имеются и другие значения — «народ», «общество», «человечество»,{[}1{]} а «hello world» является распространенным неформальным приветствием, адресованным неопределённому кругу лиц (людей, а не просто произвольных объектов или природе в целом). Поэтому переводить приветствие следует как «всем привет», «привет, народ», «здорово, люди» и т. п., что подтверждается англоязычными программистами.{[}2{]}{[}3{]}'\n",
       "\\item ''\n",
       "\\item 'В аналогичном смысле слово world применяется при назначении прав доступа (owner, group, world) в операционных системах UNIX, для которых был разработан язык C, откуда и пошла традиция выводить «hello world» в качестве приветствия. owner означает владельца объекта, group — группу пользователей, в которую входит владелец, а world — всех остальных пользователей системы.'\n",
       "\\item 'Интересные факты'\n",
       "\\item ''\n",
       "\\item '    В индийском фильме «Робот», снятом в 2010-м году, слова «Hello, world!» стали первой фразой, произнесённой андроидом Чити-Бабу.'\n",
       "\\item '    В среде поклонников языка Perl вместо «Hello, world!» используется фраза «Just another Perl hacker» («Просто ещё один Перл-хакер»).'\n",
       "\\item '    В игре Assassin’s Creed: Revelations объект шестнадцать говорит эту фразу при встрече в анимусе.'\n",
       "\\end{enumerate*}\n"
      ],
      "text/markdown": [
       "1. 'Материал из Википедии — свободной энциклопедии'\n",
       "2. 'Пример «Hello world» с графическим интерфейсом на GTK+. На заднем плане gedit с исходным кодом на Perl'\n",
       "3. '«Hello world» на графическом языке Piet'\n",
       "4. ''\n",
       "5. '«Hello, world!» — программа, результатом работы которой является вывод на экран или иное устройство фразы «Hello, world!» (в дословном переводе с английского — «Привет, мир!»; представляет собой распространённое неформальное приветствие, близкое к русскому «всем привет!»). Также используются вариации с другой пунктуацией или регистром — например, «Hello World». Обычно это первый пример программы в учебниках по программированию, и для многих студентов такая программа является первым опытом при изучении нового языка.'\n",
       "6. ''\n",
       "7. 'Такая постановка задачи обращает внимание учащегося сразу на несколько ключевых моментов языка программирования, главным из которых является базовая структура программы.'\n",
       "8. ''\n",
       "9. 'Хотя небольшие тестовые примеры использовались с тех самых пор, как появились компьютеры, традиция использования фразы «Hello, world!» в качестве тестового сообщения была введена в книге «Язык программирования Си» Брайана Кернигана и Денниса Ритчи, опубликованной в 1978 году.'\n",
       "10. ''\n",
       "11. 'Содержание'\n",
       "12. ''\n",
       "13. <span style=white-space:pre-wrap>'    1 Перевод на русский язык'</span>\n",
       "14. <span style=white-space:pre-wrap>'    2 Интересные факты'</span>\n",
       "15. <span style=white-space:pre-wrap>'    3 Примеры'</span>\n",
       "16. <span style=white-space:pre-wrap>'    4 Маргинальные примеры'</span>\n",
       "17. <span style=white-space:pre-wrap>'    5 Другие программы'</span>\n",
       "18. <span style=white-space:pre-wrap>'    6 Примечания'</span>\n",
       "19. <span style=white-space:pre-wrap>'    7 Ссылки'</span>\n",
       "20. ''\n",
       "21. 'Перевод на русский язык'\n",
       "22. ''\n",
       "23. 'Русскоязычные программисты и технические переводчики традиционно переводят слово world в его основном значении — «мир, свет, вселенная», отчего из «hello world» получается дословное «привет, мир». Объясняется такой перевод тем, что программа, начиная работу, как бы рождается и приветствует мир, в который она приходит.'\n",
       "24. ''\n",
       "25. 'Более знакомые с тонкостями английского языка указывают на то, что у world имеются и другие значения — «народ», «общество», «человечество»,[1] а «hello world» является распространенным неформальным приветствием, адресованным неопределённому кругу лиц (людей, а не просто произвольных объектов или природе в целом). Поэтому переводить приветствие следует как «всем привет», «привет, народ», «здорово, люди» и т. п., что подтверждается англоязычными программистами.[2][3]'\n",
       "26. ''\n",
       "27. 'В аналогичном смысле слово world применяется при назначении прав доступа (owner, group, world) в операционных системах UNIX, для которых был разработан язык C, откуда и пошла традиция выводить «hello world» в качестве приветствия. owner означает владельца объекта, group — группу пользователей, в которую входит владелец, а world — всех остальных пользователей системы.'\n",
       "28. 'Интересные факты'\n",
       "29. ''\n",
       "30. <span style=white-space:pre-wrap>'    В индийском фильме «Робот», снятом в 2010-м году, слова «Hello, world!» стали первой фразой, произнесённой андроидом Чити-Бабу.'</span>\n",
       "31. <span style=white-space:pre-wrap>'    В среде поклонников языка Perl вместо «Hello, world!» используется фраза «Just another Perl hacker» («Просто ещё один Перл-хакер»).'</span>\n",
       "32. <span style=white-space:pre-wrap>'    В игре Assassin’s Creed: Revelations объект шестнадцать говорит эту фразу при встрече в анимусе.'</span>\n",
       "\n",
       "\n"
      ],
      "text/plain": [
       " [1] \"Материал из Википедии — свободной энциклопедии\"                                                                                                                                                                                                                                                                                                                                                                                                                                                                                          \n",
       " [2] \"Пример «Hello world» с графическим интерфейсом на GTK+. На заднем плане gedit с исходным кодом на Perl\"                                                                                                                                                                                                                                                                                                                                                                                                                                  \n",
       " [3] \"«Hello world» на графическом языке Piet\"                                                                                                                                                                                                                                                                                                                                                                                                                                                                                                 \n",
       " [4] \"\"                                                                                                                                                                                                                                                                                                                                                                                                                                                                                                                                        \n",
       " [5] \"«Hello, world!» — программа, результатом работы которой является вывод на экран или иное устройство фразы «Hello, world!» (в дословном переводе с английского — «Привет, мир!»; представляет собой распространённое неформальное приветствие, близкое к русскому «всем привет!»). Также используются вариации с другой пунктуацией или регистром — например, «Hello World». Обычно это первый пример программы в учебниках по программированию, и для многих студентов такая программа является первым опытом при изучении нового языка.\"\n",
       " [6] \"\"                                                                                                                                                                                                                                                                                                                                                                                                                                                                                                                                        \n",
       " [7] \"Такая постановка задачи обращает внимание учащегося сразу на несколько ключевых моментов языка программирования, главным из которых является базовая структура программы.\"                                                                                                                                                                                                                                                                                                                                                               \n",
       " [8] \"\"                                                                                                                                                                                                                                                                                                                                                                                                                                                                                                                                        \n",
       " [9] \"Хотя небольшие тестовые примеры использовались с тех самых пор, как появились компьютеры, традиция использования фразы «Hello, world!» в качестве тестового сообщения была введена в книге «Язык программирования Си» Брайана Кернигана и Денниса Ритчи, опубликованной в 1978 году.\"                                                                                                                                                                                                                                                    \n",
       "[10] \"\"                                                                                                                                                                                                                                                                                                                                                                                                                                                                                                                                        \n",
       "[11] \"Содержание\"                                                                                                                                                                                                                                                                                                                                                                                                                                                                                                                              \n",
       "[12] \"\"                                                                                                                                                                                                                                                                                                                                                                                                                                                                                                                                        \n",
       "[13] \"    1 Перевод на русский язык\"                                                                                                                                                                                                                                                                                                                                                                                                                                                                                                           \n",
       "[14] \"    2 Интересные факты\"                                                                                                                                                                                                                                                                                                                                                                                                                                                                                                                  \n",
       "[15] \"    3 Примеры\"                                                                                                                                                                                                                                                                                                                                                                                                                                                                                                                           \n",
       "[16] \"    4 Маргинальные примеры\"                                                                                                                                                                                                                                                                                                                                                                                                                                                                                                              \n",
       "[17] \"    5 Другие программы\"                                                                                                                                                                                                                                                                                                                                                                                                                                                                                                                  \n",
       "[18] \"    6 Примечания\"                                                                                                                                                                                                                                                                                                                                                                                                                                                                                                                        \n",
       "[19] \"    7 Ссылки\"                                                                                                                                                                                                                                                                                                                                                                                                                                                                                                                            \n",
       "[20] \"\"                                                                                                                                                                                                                                                                                                                                                                                                                                                                                                                                        \n",
       "[21] \"Перевод на русский язык\"                                                                                                                                                                                                                                                                                                                                                                                                                                                                                                                 \n",
       "[22] \"\"                                                                                                                                                                                                                                                                                                                                                                                                                                                                                                                                        \n",
       "[23] \"Русскоязычные программисты и технические переводчики традиционно переводят слово world в его основном значении — «мир, свет, вселенная», отчего из «hello world» получается дословное «привет, мир». Объясняется такой перевод тем, что программа, начиная работу, как бы рождается и приветствует мир, в который она приходит.\"                                                                                                                                                                                                         \n",
       "[24] \"\"                                                                                                                                                                                                                                                                                                                                                                                                                                                                                                                                        \n",
       "[25] \"Более знакомые с тонкостями английского языка указывают на то, что у world имеются и другие значения — «народ», «общество», «человечество»,[1] а «hello world» является распространенным неформальным приветствием, адресованным неопределённому кругу лиц (людей, а не просто произвольных объектов или природе в целом). Поэтому переводить приветствие следует как «всем привет», «привет, народ», «здорово, люди» и т. п., что подтверждается англоязычными программистами.[2][3]\"                                                   \n",
       "[26] \"\"                                                                                                                                                                                                                                                                                                                                                                                                                                                                                                                                        \n",
       "[27] \"В аналогичном смысле слово world применяется при назначении прав доступа (owner, group, world) в операционных системах UNIX, для которых был разработан язык C, откуда и пошла традиция выводить «hello world» в качестве приветствия. owner означает владельца объекта, group — группу пользователей, в которую входит владелец, а world — всех остальных пользователей системы.\"                                                                                                                                                       \n",
       "[28] \"Интересные факты\"                                                                                                                                                                                                                                                                                                                                                                                                                                                                                                                        \n",
       "[29] \"\"                                                                                                                                                                                                                                                                                                                                                                                                                                                                                                                                        \n",
       "[30] \"    В индийском фильме «Робот», снятом в 2010-м году, слова «Hello, world!» стали первой фразой, произнесённой андроидом Чити-Бабу.\"                                                                                                                                                                                                                                                                                                                                                                                                     \n",
       "[31] \"    В среде поклонников языка Perl вместо «Hello, world!» используется фраза «Just another Perl hacker» («Просто ещё один Перл-хакер»).\"                                                                                                                                                                                                                                                                                                                                                                                                 \n",
       "[32] \"    В игре Assassin’s Creed: Revelations объект шестнадцать говорит эту фразу при встрече в анимусе.\"                                                                                                                                                                                                                                                                                                                                                                                                                                    "
      ]
     },
     "metadata": {},
     "output_type": "display_data"
    }
   ],
   "source": [
    "# Exercise 3\n",
    "# encoding has been retrieved by opening the file in notepad,\n",
    "# then doing File-> Save as...\n",
    "helloworld <- readLines(con = \"data/helloworld.txt\", encoding = \"UTF-8\")\n",
    "helloworld"
   ]
  },
  {
   "cell_type": "code",
   "execution_count": 32,
   "metadata": {},
   "outputs": [
    {
     "data": {
      "text/html": [
       "<ol class=list-inline>\n",
       "\t<li>'Ceci est la vérité'</li>\n",
       "\t<li>'Je n\\'aime pas ça'</li>\n",
       "\t<li>'Helmut, Ich liebe dich'</li>\n",
       "\t<li>'90210'</li>\n",
       "</ol>\n"
      ],
      "text/latex": [
       "\\begin{enumerate*}\n",
       "\\item 'Ceci est la vérité'\n",
       "\\item 'Je n\\textbackslash{}'aime pas ça'\n",
       "\\item 'Helmut, Ich liebe dich'\n",
       "\\item '90210'\n",
       "\\end{enumerate*}\n"
      ],
      "text/markdown": [
       "1. 'Ceci est la vérité'\n",
       "2. 'Je n\\'aime pas ça'\n",
       "3. 'Helmut, Ich liebe dich'\n",
       "4. '90210'\n",
       "\n",
       "\n"
      ],
      "text/plain": [
       "[1] \"Ceci est la vérité\"     \"Je n'aime pas ça\"       \"Helmut, Ich liebe dich\"\n",
       "[4] \"90210\"                 "
      ]
     },
     "metadata": {},
     "output_type": "display_data"
    }
   ],
   "source": [
    "mystrings <- c(\"Ceci est la vérité\", \"Je n'aime pas ça\", \"Helmut, Ich liebe dich\", \"90210\")\n",
    "mystrings"
   ]
  },
  {
   "cell_type": "code",
   "execution_count": 34,
   "metadata": {},
   "outputs": [
    {
     "name": "stderr",
     "output_type": "stream",
     "text": [
      "also installing the dependency ‘tau’\n",
      "\n",
      "Updating HTML index of packages in '.Library'\n",
      "Making 'packages.html' ... done\n"
     ]
    },
    {
     "data": {
      "text/html": [
       "<ol class=list-inline>\n",
       "\t<li>'french'</li>\n",
       "\t<li>'lithuanian'</li>\n",
       "\t<li>'german'</li>\n",
       "\t<li>NA</li>\n",
       "</ol>\n"
      ],
      "text/latex": [
       "\\begin{enumerate*}\n",
       "\\item 'french'\n",
       "\\item 'lithuanian'\n",
       "\\item 'german'\n",
       "\\item NA\n",
       "\\end{enumerate*}\n"
      ],
      "text/markdown": [
       "1. 'french'\n",
       "2. 'lithuanian'\n",
       "3. 'german'\n",
       "4. NA\n",
       "\n",
       "\n"
      ],
      "text/plain": [
       "[1] \"french\"     \"lithuanian\" \"german\"     NA          "
      ]
     },
     "metadata": {},
     "output_type": "display_data"
    }
   ],
   "source": [
    "# Example from slides\n",
    "install.packages(\"textcat\")\n",
    "library(textcat)\n",
    "textcat(mystrings)"
   ]
  },
  {
   "cell_type": "code",
   "execution_count": 35,
   "metadata": {},
   "outputs": [
    {
     "data": {
      "text/html": [
       "<ol class=list-inline>\n",
       "\t<li>'french'</li>\n",
       "\t<li>'french'</li>\n",
       "\t<li>'german'</li>\n",
       "\t<li>NA</li>\n",
       "</ol>\n"
      ],
      "text/latex": [
       "\\begin{enumerate*}\n",
       "\\item 'french'\n",
       "\\item 'french'\n",
       "\\item 'german'\n",
       "\\item NA\n",
       "\\end{enumerate*}\n"
      ],
      "text/markdown": [
       "1. 'french'\n",
       "2. 'french'\n",
       "3. 'german'\n",
       "4. NA\n",
       "\n",
       "\n"
      ],
      "text/plain": [
       "[1] \"french\" \"french\" \"german\" NA      "
      ]
     },
     "metadata": {},
     "output_type": "display_data"
    }
   ],
   "source": [
    "textcat(mystrings,\n",
    "p = TC_char_profiles[c(\"dutch\",\"english\",\"french\",\"german\")],\n",
    "method = \"CT\")"
   ]
  },
  {
   "cell_type": "code",
   "execution_count": 36,
   "metadata": {},
   "outputs": [
    {
     "data": {
      "text/html": [
       "'nl'"
      ],
      "text/latex": [
       "'nl'"
      ],
      "text/markdown": [
       "'nl'"
      ],
      "text/plain": [
       "[1] \"nl\""
      ]
     },
     "metadata": {},
     "output_type": "display_data"
    }
   ],
   "source": [
    "textcat(\"Marieke gaat om water\", p = textcat::ECIMCI_profiles)"
   ]
  },
  {
   "cell_type": "code",
   "execution_count": 37,
   "metadata": {},
   "outputs": [
    {
     "data": {
      "text/html": [
       "'afrikaans'"
      ],
      "text/latex": [
       "'afrikaans'"
      ],
      "text/markdown": [
       "'afrikaans'"
      ],
      "text/plain": [
       "[1] \"afrikaans\""
      ]
     },
     "metadata": {},
     "output_type": "display_data"
    }
   ],
   "source": [
    "textcat(\"Marieke gaat om water\", p = textcat::TC_char_profiles)"
   ]
  },
  {
   "cell_type": "code",
   "execution_count": 38,
   "metadata": {},
   "outputs": [
    {
     "data": {
      "text/html": [
       "'afrikaans'"
      ],
      "text/latex": [
       "'afrikaans'"
      ],
      "text/markdown": [
       "'afrikaans'"
      ],
      "text/plain": [
       "[1] \"afrikaans\""
      ]
     },
     "metadata": {},
     "output_type": "display_data"
    }
   ],
   "source": [
    "textcat(\"Marieke gaat om water\", p = textcat::TC_byte_profiles)"
   ]
  },
  {
   "cell_type": "code",
   "execution_count": 40,
   "metadata": {},
   "outputs": [
    {
     "name": "stderr",
     "output_type": "stream",
     "text": [
      "Updating HTML index of packages in '.Library'\n",
      "Making 'packages.html' ... done\n"
     ]
    },
    {
     "data": {
      "text/html": [
       "<ol class=list-inline>\n",
       "\t<li>'en'</li>\n",
       "\t<li>'fr'</li>\n",
       "\t<li>'nl'</li>\n",
       "</ol>\n"
      ],
      "text/latex": [
       "\\begin{enumerate*}\n",
       "\\item 'en'\n",
       "\\item 'fr'\n",
       "\\item 'nl'\n",
       "\\end{enumerate*}\n"
      ],
      "text/markdown": [
       "1. 'en'\n",
       "2. 'fr'\n",
       "3. 'nl'\n",
       "\n",
       "\n"
      ],
      "text/plain": [
       "[1] \"en\" \"fr\" \"nl\""
      ]
     },
     "metadata": {},
     "output_type": "display_data"
    }
   ],
   "source": [
    "# Google's Compact Language detector\n",
    "install.packages(\"cld2\")\n",
    "library(cld2)\n",
    "x <- c(\"To be or not to be?\", \"Ce n'est pas grave.\", \"Nou breekt mijn klomp!\")\n",
    "detect_language(x)"
   ]
  },
  {
   "cell_type": "code",
   "execution_count": 44,
   "metadata": {},
   "outputs": [
    {
     "data": {
      "text/html": [
       "'slovenian-iso8859_2'"
      ],
      "text/latex": [
       "'slovenian-iso8859\\_2'"
      ],
      "text/markdown": [
       "'slovenian-iso8859_2'"
      ],
      "text/plain": [
       "[1] \"slovenian-iso8859_2\""
      ]
     },
     "metadata": {},
     "output_type": "display_data"
    }
   ],
   "source": [
    "## Languages\n",
    "# Exercise 1\n",
    "textcat(\"I love R.\")"
   ]
  },
  {
   "cell_type": "code",
   "execution_count": 42,
   "metadata": {},
   "outputs": [
    {
     "data": {
      "text/html": [
       "'french'"
      ],
      "text/latex": [
       "'french'"
      ],
      "text/markdown": [
       "'french'"
      ],
      "text/plain": [
       "[1] \"french\""
      ]
     },
     "metadata": {},
     "output_type": "display_data"
    }
   ],
   "source": [
    "textcat(\"J'aime R.\")"
   ]
  },
  {
   "cell_type": "code",
   "execution_count": 43,
   "metadata": {},
   "outputs": [
    {
     "data": {
      "text/html": [
       "'dutch'"
      ],
      "text/latex": [
       "'dutch'"
      ],
      "text/markdown": [
       "'dutch'"
      ],
      "text/plain": [
       "[1] \"dutch\""
      ]
     },
     "metadata": {},
     "output_type": "display_data"
    }
   ],
   "source": [
    "textcat(\"I houd van R.\")"
   ]
  },
  {
   "cell_type": "code",
   "execution_count": 47,
   "metadata": {},
   "outputs": [
    {
     "data": {
      "text/html": [
       "<ol class=list-inline>\n",
       "\t<li>'russian-windows1251'</li>\n",
       "\t<li>'russian-iso8859_5'</li>\n",
       "\t<li>'russian-iso8859_5'</li>\n",
       "\t<li>NA</li>\n",
       "\t<li>'russian-koi8_r'</li>\n",
       "\t<li>NA</li>\n",
       "\t<li>'russian-iso8859_5'</li>\n",
       "\t<li>NA</li>\n",
       "\t<li>'russian-koi8_r'</li>\n",
       "\t<li>NA</li>\n",
       "\t<li>'russian-koi8_r'</li>\n",
       "\t<li>NA</li>\n",
       "\t<li>'russian-iso8859_5'</li>\n",
       "\t<li>'russian-koi8_r'</li>\n",
       "\t<li>'russian-koi8_r'</li>\n",
       "\t<li>'russian-koi8_r'</li>\n",
       "\t<li>'russian-koi8_r'</li>\n",
       "\t<li>'bulgarian-iso8859_5'</li>\n",
       "\t<li>'russian-windows1251'</li>\n",
       "\t<li>NA</li>\n",
       "\t<li>'russian-iso8859_5'</li>\n",
       "\t<li>NA</li>\n",
       "\t<li>'russian-windows1251'</li>\n",
       "\t<li>NA</li>\n",
       "\t<li>'russian-koi8_r'</li>\n",
       "\t<li>NA</li>\n",
       "\t<li>'russian-koi8_r'</li>\n",
       "\t<li>'russian-koi8_r'</li>\n",
       "\t<li>NA</li>\n",
       "\t<li>'russian-iso8859_5'</li>\n",
       "\t<li>'russian-windows1251'</li>\n",
       "\t<li>'russian-windows1251'</li>\n",
       "</ol>\n"
      ],
      "text/latex": [
       "\\begin{enumerate*}\n",
       "\\item 'russian-windows1251'\n",
       "\\item 'russian-iso8859\\_5'\n",
       "\\item 'russian-iso8859\\_5'\n",
       "\\item NA\n",
       "\\item 'russian-koi8\\_r'\n",
       "\\item NA\n",
       "\\item 'russian-iso8859\\_5'\n",
       "\\item NA\n",
       "\\item 'russian-koi8\\_r'\n",
       "\\item NA\n",
       "\\item 'russian-koi8\\_r'\n",
       "\\item NA\n",
       "\\item 'russian-iso8859\\_5'\n",
       "\\item 'russian-koi8\\_r'\n",
       "\\item 'russian-koi8\\_r'\n",
       "\\item 'russian-koi8\\_r'\n",
       "\\item 'russian-koi8\\_r'\n",
       "\\item 'bulgarian-iso8859\\_5'\n",
       "\\item 'russian-windows1251'\n",
       "\\item NA\n",
       "\\item 'russian-iso8859\\_5'\n",
       "\\item NA\n",
       "\\item 'russian-windows1251'\n",
       "\\item NA\n",
       "\\item 'russian-koi8\\_r'\n",
       "\\item NA\n",
       "\\item 'russian-koi8\\_r'\n",
       "\\item 'russian-koi8\\_r'\n",
       "\\item NA\n",
       "\\item 'russian-iso8859\\_5'\n",
       "\\item 'russian-windows1251'\n",
       "\\item 'russian-windows1251'\n",
       "\\end{enumerate*}\n"
      ],
      "text/markdown": [
       "1. 'russian-windows1251'\n",
       "2. 'russian-iso8859_5'\n",
       "3. 'russian-iso8859_5'\n",
       "4. NA\n",
       "5. 'russian-koi8_r'\n",
       "6. NA\n",
       "7. 'russian-iso8859_5'\n",
       "8. NA\n",
       "9. 'russian-koi8_r'\n",
       "10. NA\n",
       "11. 'russian-koi8_r'\n",
       "12. NA\n",
       "13. 'russian-iso8859_5'\n",
       "14. 'russian-koi8_r'\n",
       "15. 'russian-koi8_r'\n",
       "16. 'russian-koi8_r'\n",
       "17. 'russian-koi8_r'\n",
       "18. 'bulgarian-iso8859_5'\n",
       "19. 'russian-windows1251'\n",
       "20. NA\n",
       "21. 'russian-iso8859_5'\n",
       "22. NA\n",
       "23. 'russian-windows1251'\n",
       "24. NA\n",
       "25. 'russian-koi8_r'\n",
       "26. NA\n",
       "27. 'russian-koi8_r'\n",
       "28. 'russian-koi8_r'\n",
       "29. NA\n",
       "30. 'russian-iso8859_5'\n",
       "31. 'russian-windows1251'\n",
       "32. 'russian-windows1251'\n",
       "\n",
       "\n"
      ],
      "text/plain": [
       " [1] \"russian-windows1251\" \"russian-iso8859_5\"   \"russian-iso8859_5\"  \n",
       " [4] NA                    \"russian-koi8_r\"      NA                   \n",
       " [7] \"russian-iso8859_5\"   NA                    \"russian-koi8_r\"     \n",
       "[10] NA                    \"russian-koi8_r\"      NA                   \n",
       "[13] \"russian-iso8859_5\"   \"russian-koi8_r\"      \"russian-koi8_r\"     \n",
       "[16] \"russian-koi8_r\"      \"russian-koi8_r\"      \"bulgarian-iso8859_5\"\n",
       "[19] \"russian-windows1251\" NA                    \"russian-iso8859_5\"  \n",
       "[22] NA                    \"russian-windows1251\" NA                   \n",
       "[25] \"russian-koi8_r\"      NA                    \"russian-koi8_r\"     \n",
       "[28] \"russian-koi8_r\"      NA                    \"russian-iso8859_5\"  \n",
       "[31] \"russian-windows1251\" \"russian-windows1251\""
      ]
     },
     "metadata": {},
     "output_type": "display_data"
    }
   ],
   "source": [
    "# Exercise 2\n",
    "textcat(helloworld)"
   ]
  },
  {
   "cell_type": "code",
   "execution_count": 48,
   "metadata": {},
   "outputs": [
    {
     "data": {
      "text/html": [
       "<ol class=list-inline>\n",
       "\t<li>NA</li>\n",
       "\t<li>NA</li>\n",
       "\t<li>NA</li>\n",
       "\t<li>NA</li>\n",
       "\t<li>NA</li>\n",
       "\t<li>NA</li>\n",
       "\t<li>NA</li>\n",
       "\t<li>NA</li>\n",
       "\t<li>NA</li>\n",
       "\t<li>NA</li>\n",
       "\t<li>NA</li>\n",
       "\t<li>NA</li>\n",
       "\t<li>NA</li>\n",
       "\t<li>NA</li>\n",
       "\t<li>NA</li>\n",
       "\t<li>NA</li>\n",
       "\t<li>NA</li>\n",
       "\t<li>NA</li>\n",
       "\t<li>NA</li>\n",
       "\t<li>NA</li>\n",
       "\t<li>NA</li>\n",
       "\t<li>NA</li>\n",
       "\t<li>NA</li>\n",
       "\t<li>NA</li>\n",
       "\t<li>NA</li>\n",
       "\t<li>NA</li>\n",
       "\t<li>NA</li>\n",
       "\t<li>NA</li>\n",
       "\t<li>NA</li>\n",
       "\t<li>NA</li>\n",
       "\t<li>NA</li>\n",
       "\t<li>NA</li>\n",
       "</ol>\n"
      ],
      "text/latex": [
       "\\begin{enumerate*}\n",
       "\\item NA\n",
       "\\item NA\n",
       "\\item NA\n",
       "\\item NA\n",
       "\\item NA\n",
       "\\item NA\n",
       "\\item NA\n",
       "\\item NA\n",
       "\\item NA\n",
       "\\item NA\n",
       "\\item NA\n",
       "\\item NA\n",
       "\\item NA\n",
       "\\item NA\n",
       "\\item NA\n",
       "\\item NA\n",
       "\\item NA\n",
       "\\item NA\n",
       "\\item NA\n",
       "\\item NA\n",
       "\\item NA\n",
       "\\item NA\n",
       "\\item NA\n",
       "\\item NA\n",
       "\\item NA\n",
       "\\item NA\n",
       "\\item NA\n",
       "\\item NA\n",
       "\\item NA\n",
       "\\item NA\n",
       "\\item NA\n",
       "\\item NA\n",
       "\\end{enumerate*}\n"
      ],
      "text/markdown": [
       "1. NA\n",
       "2. NA\n",
       "3. NA\n",
       "4. NA\n",
       "5. NA\n",
       "6. NA\n",
       "7. NA\n",
       "8. NA\n",
       "9. NA\n",
       "10. NA\n",
       "11. NA\n",
       "12. NA\n",
       "13. NA\n",
       "14. NA\n",
       "15. NA\n",
       "16. NA\n",
       "17. NA\n",
       "18. NA\n",
       "19. NA\n",
       "20. NA\n",
       "21. NA\n",
       "22. NA\n",
       "23. NA\n",
       "24. NA\n",
       "25. NA\n",
       "26. NA\n",
       "27. NA\n",
       "28. NA\n",
       "29. NA\n",
       "30. NA\n",
       "31. NA\n",
       "32. NA\n",
       "\n",
       "\n"
      ],
      "text/plain": [
       " [1] NA NA NA NA NA NA NA NA NA NA NA NA NA NA NA NA NA NA NA NA NA NA NA NA NA\n",
       "[26] NA NA NA NA NA NA NA"
      ]
     },
     "metadata": {},
     "output_type": "display_data"
    }
   ],
   "source": [
    "textcat(helloworld,\n",
    "p = TC_char_profiles[c(\"dutch\",\"english\",\"french\",\"german\", 'russian')],\n",
    "method = \"CT\")"
   ]
  },
  {
   "cell_type": "code",
   "execution_count": 50,
   "metadata": {},
   "outputs": [
    {
     "data": {
      "text/html": [
       "<ol class=list-inline>\n",
       "\t<li>'ru'</li>\n",
       "\t<li>NA</li>\n",
       "\t<li>'ru'</li>\n",
       "\t<li>NA</li>\n",
       "\t<li>'ru'</li>\n",
       "\t<li>NA</li>\n",
       "\t<li>'ru'</li>\n",
       "\t<li>NA</li>\n",
       "\t<li>'ru'</li>\n",
       "\t<li>NA</li>\n",
       "\t<li>'ru'</li>\n",
       "\t<li>NA</li>\n",
       "\t<li>'ru'</li>\n",
       "\t<li>'ru'</li>\n",
       "\t<li>NA</li>\n",
       "\t<li>'ru'</li>\n",
       "\t<li>'ru'</li>\n",
       "\t<li>NA</li>\n",
       "\t<li>NA</li>\n",
       "\t<li>NA</li>\n",
       "\t<li>'ru'</li>\n",
       "\t<li>NA</li>\n",
       "\t<li>'ru'</li>\n",
       "\t<li>NA</li>\n",
       "\t<li>'ru'</li>\n",
       "\t<li>NA</li>\n",
       "\t<li>'ru'</li>\n",
       "\t<li>'ru'</li>\n",
       "\t<li>NA</li>\n",
       "\t<li>'ru'</li>\n",
       "\t<li>'ru'</li>\n",
       "\t<li>'ru'</li>\n",
       "</ol>\n"
      ],
      "text/latex": [
       "\\begin{enumerate*}\n",
       "\\item 'ru'\n",
       "\\item NA\n",
       "\\item 'ru'\n",
       "\\item NA\n",
       "\\item 'ru'\n",
       "\\item NA\n",
       "\\item 'ru'\n",
       "\\item NA\n",
       "\\item 'ru'\n",
       "\\item NA\n",
       "\\item 'ru'\n",
       "\\item NA\n",
       "\\item 'ru'\n",
       "\\item 'ru'\n",
       "\\item NA\n",
       "\\item 'ru'\n",
       "\\item 'ru'\n",
       "\\item NA\n",
       "\\item NA\n",
       "\\item NA\n",
       "\\item 'ru'\n",
       "\\item NA\n",
       "\\item 'ru'\n",
       "\\item NA\n",
       "\\item 'ru'\n",
       "\\item NA\n",
       "\\item 'ru'\n",
       "\\item 'ru'\n",
       "\\item NA\n",
       "\\item 'ru'\n",
       "\\item 'ru'\n",
       "\\item 'ru'\n",
       "\\end{enumerate*}\n"
      ],
      "text/markdown": [
       "1. 'ru'\n",
       "2. NA\n",
       "3. 'ru'\n",
       "4. NA\n",
       "5. 'ru'\n",
       "6. NA\n",
       "7. 'ru'\n",
       "8. NA\n",
       "9. 'ru'\n",
       "10. NA\n",
       "11. 'ru'\n",
       "12. NA\n",
       "13. 'ru'\n",
       "14. 'ru'\n",
       "15. NA\n",
       "16. 'ru'\n",
       "17. 'ru'\n",
       "18. NA\n",
       "19. NA\n",
       "20. NA\n",
       "21. 'ru'\n",
       "22. NA\n",
       "23. 'ru'\n",
       "24. NA\n",
       "25. 'ru'\n",
       "26. NA\n",
       "27. 'ru'\n",
       "28. 'ru'\n",
       "29. NA\n",
       "30. 'ru'\n",
       "31. 'ru'\n",
       "32. 'ru'\n",
       "\n",
       "\n"
      ],
      "text/plain": [
       " [1] \"ru\" NA   \"ru\" NA   \"ru\" NA   \"ru\" NA   \"ru\" NA   \"ru\" NA   \"ru\" \"ru\" NA  \n",
       "[16] \"ru\" \"ru\" NA   NA   NA   \"ru\" NA   \"ru\" NA   \"ru\" NA   \"ru\" \"ru\" NA   \"ru\"\n",
       "[31] \"ru\" \"ru\""
      ]
     },
     "metadata": {},
     "output_type": "display_data"
    }
   ],
   "source": [
    "detect_language(helloworld)"
   ]
  },
  {
   "cell_type": "code",
   "execution_count": 61,
   "metadata": {},
   "outputs": [
    {
     "name": "stderr",
     "output_type": "stream",
     "text": [
      "Updating HTML index of packages in '.Library'\n",
      "Making 'packages.html' ... done\n"
     ]
    },
    {
     "data": {
      "text/html": [
       "<ol class=list-inline>\n",
       "\t<li>'Gwen fue una magnifica anfitriona. El motivo de mi viaje a Bruselas era la busqueda de un apartamento y Gwen me ayudo en todo momento tanto para las paginas en las que debia buscar como en las zonas que me aconsejaba. Ademas es muy simpatica y agradable. Me dejo utilizar su Ipad para hacer skype con mis padres asi como utilizar su ordenador para buscar apartamentos. El ultimo dia, ademas, me acompano a la estacion de trenes con su coche ya que iba con dos maletas grandes. Por supuesto, la casa es como aparece en las fotos. En definitiva un sitio mas que recomendable!!!!'</li>\n",
       "\t<li>'Aurelie fue muy atenta y comunicativa. Nos dio mapas, concejos turisticos y de transporte para disfrutar Bruselas y Brujas. Fue muy amable al prestarnos sus juegos de tablero para jugar.\\nSu departamento es muy lindo y acogedor, muy luminoso y comodo.\\n'</li>\n",
       "</ol>\n"
      ],
      "text/latex": [
       "\\begin{enumerate*}\n",
       "\\item 'Gwen fue una magnifica anfitriona. El motivo de mi viaje a Bruselas era la busqueda de un apartamento y Gwen me ayudo en todo momento tanto para las paginas en las que debia buscar como en las zonas que me aconsejaba. Ademas es muy simpatica y agradable. Me dejo utilizar su Ipad para hacer skype con mis padres asi como utilizar su ordenador para buscar apartamentos. El ultimo dia, ademas, me acompano a la estacion de trenes con su coche ya que iba con dos maletas grandes. Por supuesto, la casa es como aparece en las fotos. En definitiva un sitio mas que recomendable!!!!'\n",
       "\\item 'Aurelie fue muy atenta y comunicativa. Nos dio mapas, concejos turisticos y de transporte para disfrutar Bruselas y Brujas. Fue muy amable al prestarnos sus juegos de tablero para jugar.\\textbackslash{}nSu departamento es muy lindo y acogedor, muy luminoso y comodo.\\textbackslash{}n'\n",
       "\\end{enumerate*}\n"
      ],
      "text/markdown": [
       "1. 'Gwen fue una magnifica anfitriona. El motivo de mi viaje a Bruselas era la busqueda de un apartamento y Gwen me ayudo en todo momento tanto para las paginas en las que debia buscar como en las zonas que me aconsejaba. Ademas es muy simpatica y agradable. Me dejo utilizar su Ipad para hacer skype con mis padres asi como utilizar su ordenador para buscar apartamentos. El ultimo dia, ademas, me acompano a la estacion de trenes con su coche ya que iba con dos maletas grandes. Por supuesto, la casa es como aparece en las fotos. En definitiva un sitio mas que recomendable!!!!'\n",
       "2. 'Aurelie fue muy atenta y comunicativa. Nos dio mapas, concejos turisticos y de transporte para disfrutar Bruselas y Brujas. Fue muy amable al prestarnos sus juegos de tablero para jugar.\\nSu departamento es muy lindo y acogedor, muy luminoso y comodo.\\n'\n",
       "\n",
       "\n"
      ],
      "text/plain": [
       "[1] \"Gwen fue una magnifica anfitriona. El motivo de mi viaje a Bruselas era la busqueda de un apartamento y Gwen me ayudo en todo momento tanto para las paginas en las que debia buscar como en las zonas que me aconsejaba. Ademas es muy simpatica y agradable. Me dejo utilizar su Ipad para hacer skype con mis padres asi como utilizar su ordenador para buscar apartamentos. El ultimo dia, ademas, me acompano a la estacion de trenes con su coche ya que iba con dos maletas grandes. Por supuesto, la casa es como aparece en las fotos. En definitiva un sitio mas que recomendable!!!!\"\n",
       "[2] \"Aurelie fue muy atenta y comunicativa. Nos dio mapas, concejos turisticos y de transporte para disfrutar Bruselas y Brujas. Fue muy amable al prestarnos sus juegos de tablero para jugar.\\nSu departamento es muy lindo y acogedor, muy luminoso y comodo.\\n\"                                                                                                                                                                                                                                                                                                                                   "
      ]
     },
     "metadata": {},
     "output_type": "display_data"
    }
   ],
   "source": [
    "# Exercise 3\n",
    "install.packages(\"udpipe\")\n",
    "library(udpipe)\n",
    "data(\"brussels_reviews\", package = \"udpipe\")\n",
    "brussels_reviews$feedback[1:2]"
   ]
  },
  {
   "cell_type": "code",
   "execution_count": 65,
   "metadata": {},
   "outputs": [
    {
     "data": {
      "text/html": [
       "<table>\n",
       "<thead><tr><th scope=col>id</th><th scope=col>listing_id</th><th scope=col>feedback</th><th scope=col>language</th></tr></thead>\n",
       "<tbody>\n",
       "\t<tr><td>32198807                                                                                                                                                                                                                                                                                                                                                                                                                                                                                                                                                                                        </td><td>1291276                                                                                                                                                                                                                                                                                                                                                                                                                                                                                                                                                                                         </td><td>Gwen fue una magnifica anfitriona. El motivo de mi viaje a Bruselas era la busqueda de un apartamento y Gwen me ayudo en todo momento tanto para las paginas en las que debia buscar como en las zonas que me aconsejaba. Ademas es muy simpatica y agradable. Me dejo utilizar su Ipad para hacer skype con mis padres asi como utilizar su ordenador para buscar apartamentos. El ultimo dia, ademas, me acompano a la estacion de trenes con su coche ya que iba con dos maletas grandes. Por supuesto, la casa es como aparece en las fotos. En definitiva un sitio mas que recomendable!!!!</td><td>es                                                                                                                                                                                                                                                                                                                                                                                                                                                                                                                                                                                              </td></tr>\n",
       "\t<tr><td>12919832                                                                                                                                                                                                                                                                                                                                                                                                                                                                                                                                                                                        </td><td>1274584                                                                                                                                                                                                                                                                                                                                                                                                                                                                                                                                                                                         </td><td>Aurelie fue muy atenta y comunicativa. Nos dio mapas, concejos turisticos y de transporte para disfrutar Bruselas y Brujas. Fue muy amable al prestarnos sus juegos de tablero para jugar.\n",
       "Su departamento es muy lindo y acogedor, muy luminoso y comodo.\n",
       "                                                                                                                                                                                                                                                                                                                                   </td><td>es                                                                                                                                                                                                                                                                                                                                                                                                                                                                                                                                                                                              </td></tr>\n",
       "\t<tr><td>23786310                                                                                                                                                                                                                                                                                                                                                                                                                                                                                                                                                                                        </td><td>1991750                                                                                                                                                                                                                                                                                                                                                                                                                                                                                                                                                                                         </td><td>La estancia fue muy agradable. Gabriel es muy atento y esta dispuesto a ayudar en todo lo que necesites. La casa y la habitacion son muy acogedoras, aunque por las mananas en el salon hace un poco de frio. \n",
       "El barrio es muy cercano al centro, en 10-15m estas en la Grand Place.\n",
       "En general una muy buena experiencia!                                                                                                                                                                                                                                                                   </td><td>es                                                                                                                                                                                                                                                                                                                                                                                                                                                                                                                                                                                              </td></tr>\n",
       "\t<tr><td>20048068                                                                                                                                                                                                                                                                                                                                                                                                                                                                                                                                                                                        </td><td>2576349                                                                                                                                                                                                                                                                                                                                                                                                                                                                                                                                                                                         </td><td>Excelente espacio, excelente anfitriona, un lugar accessible economicamente y cerca de los lugares turisticos sin necesitad de gastar mucho en bus y tranvia para llegar a ellos. La agradecimos por su disponibilidad y sus consejos de bars bien padrisimos!                                                                                                                                                                                                                                                                                                                                  </td><td>es                                                                                                                                                                                                                                                                                                                                                                                                                                                                                                                                                                                              </td></tr>\n",
       "\t<tr><td>17571798                                                                                                                                                                                                                                                                                                                                                                                                                                                                                                                                                                                        </td><td>1866754                                                                                                                                                                                                                                                                                                                                                                                                                                                                                                                                                                                         </td><td>Nos sentimos como en nuestra propia casa. La ubicacion es perfecta, mucho  mas centrica de lo que esperabamos. A tan solo 10 minutos de La Grand Place. Fue muy amable y atento con nosotros. El apartamento esta nuevo, muy buen cuidado y la decoracion es genial!! Repetiria seguro!!                                                                                                                                                                                                                                                                                                        </td><td>es                                                                                                                                                                                                                                                                                                                                                                                                                                                                                                                                                                                              </td></tr>\n",
       "\t<tr><td>28394425                                                                                                                                                                                                                                                                                                                                                                                                                                                                                                                                                                                        </td><td>5247223                                                                                                                                                                                                                                                                                                                                                                                                                                                                                                                                                                                         </td><td>Thomas es un excelente anfitrion y persona. Tuvimos un inconveniente pues ibamos a hospedarnos 3 amigos en su casa, yo no pude hospedarme debido a un inconveniente personal, Thomas no tuvo ningun inconveniente en que se modificara la reserva de tres a dos huespedes. Mis amigos estuvieron muy contentos en casa de Thomas, me indicaron que esta bien situado, que Thomas es una persona muy agradable y que el piso esta en muy buenas condiciones. Muchas gracias por todo Thomas.                                                                                                     </td><td>es                                                                                                                                                                                                                                                                                                                                                                                                                                                                                                                                                                                              </td></tr>\n",
       "</tbody>\n",
       "</table>\n"
      ],
      "text/latex": [
       "\\begin{tabular}{r|llll}\n",
       " id & listing\\_id & feedback & language\\\\\n",
       "\\hline\n",
       "\t 32198807                                                                                                                                                                                                                                                                                                                                                                                                                                                                                                                                                                                         & 1291276                                                                                                                                                                                                                                                                                                                                                                                                                                                                                                                                                                                          & Gwen fue una magnifica anfitriona. El motivo de mi viaje a Bruselas era la busqueda de un apartamento y Gwen me ayudo en todo momento tanto para las paginas en las que debia buscar como en las zonas que me aconsejaba. Ademas es muy simpatica y agradable. Me dejo utilizar su Ipad para hacer skype con mis padres asi como utilizar su ordenador para buscar apartamentos. El ultimo dia, ademas, me acompano a la estacion de trenes con su coche ya que iba con dos maletas grandes. Por supuesto, la casa es como aparece en las fotos. En definitiva un sitio mas que recomendable!!!! & es                                                                                                                                                                                                                                                                                                                                                                                                                                                                                                                                                                                              \\\\\n",
       "\t 12919832                                                                                                                                                                                                                                                                                                                                                                                                                                                                                                                                                                                         & 1274584                                                                                                                                                                                                                                                                                                                                                                                                                                                                                                                                                                                          & Aurelie fue muy atenta y comunicativa. Nos dio mapas, concejos turisticos y de transporte para disfrutar Bruselas y Brujas. Fue muy amable al prestarnos sus juegos de tablero para jugar.\n",
       "Su departamento es muy lindo y acogedor, muy luminoso y comodo.\n",
       "                                                                                                                                                                                                                                                                                                                                    & es                                                                                                                                                                                                                                                                                                                                                                                                                                                                                                                                                                                              \\\\\n",
       "\t 23786310                                                                                                                                                                                                                                                                                                                                                                                                                                                                                                                                                                                         & 1991750                                                                                                                                                                                                                                                                                                                                                                                                                                                                                                                                                                                          & La estancia fue muy agradable. Gabriel es muy atento y esta dispuesto a ayudar en todo lo que necesites. La casa y la habitacion son muy acogedoras, aunque por las mananas en el salon hace un poco de frio. \n",
       "El barrio es muy cercano al centro, en 10-15m estas en la Grand Place.\n",
       "En general una muy buena experiencia!                                                                                                                                                                                                                                                                    & es                                                                                                                                                                                                                                                                                                                                                                                                                                                                                                                                                                                              \\\\\n",
       "\t 20048068                                                                                                                                                                                                                                                                                                                                                                                                                                                                                                                                                                                         & 2576349                                                                                                                                                                                                                                                                                                                                                                                                                                                                                                                                                                                          & Excelente espacio, excelente anfitriona, un lugar accessible economicamente y cerca de los lugares turisticos sin necesitad de gastar mucho en bus y tranvia para llegar a ellos. La agradecimos por su disponibilidad y sus consejos de bars bien padrisimos!                                                                                                                                                                                                                                                                                                                                   & es                                                                                                                                                                                                                                                                                                                                                                                                                                                                                                                                                                                              \\\\\n",
       "\t 17571798                                                                                                                                                                                                                                                                                                                                                                                                                                                                                                                                                                                         & 1866754                                                                                                                                                                                                                                                                                                                                                                                                                                                                                                                                                                                          & Nos sentimos como en nuestra propia casa. La ubicacion es perfecta, mucho  mas centrica de lo que esperabamos. A tan solo 10 minutos de La Grand Place. Fue muy amable y atento con nosotros. El apartamento esta nuevo, muy buen cuidado y la decoracion es genial!! Repetiria seguro!!                                                                                                                                                                                                                                                                                                         & es                                                                                                                                                                                                                                                                                                                                                                                                                                                                                                                                                                                              \\\\\n",
       "\t 28394425                                                                                                                                                                                                                                                                                                                                                                                                                                                                                                                                                                                         & 5247223                                                                                                                                                                                                                                                                                                                                                                                                                                                                                                                                                                                          & Thomas es un excelente anfitrion y persona. Tuvimos un inconveniente pues ibamos a hospedarnos 3 amigos en su casa, yo no pude hospedarme debido a un inconveniente personal, Thomas no tuvo ningun inconveniente en que se modificara la reserva de tres a dos huespedes. Mis amigos estuvieron muy contentos en casa de Thomas, me indicaron que esta bien situado, que Thomas es una persona muy agradable y que el piso esta en muy buenas condiciones. Muchas gracias por todo Thomas.                                                                                                      & es                                                                                                                                                                                                                                                                                                                                                                                                                                                                                                                                                                                              \\\\\n",
       "\\end{tabular}\n"
      ],
      "text/markdown": [
       "\n",
       "id | listing_id | feedback | language | \n",
       "|---|---|---|---|---|---|\n",
       "| 32198807                                                                                                                                                                                                                                                                                                                                                                                                                                                                                                                                                                                         | 1291276                                                                                                                                                                                                                                                                                                                                                                                                                                                                                                                                                                                          | Gwen fue una magnifica anfitriona. El motivo de mi viaje a Bruselas era la busqueda de un apartamento y Gwen me ayudo en todo momento tanto para las paginas en las que debia buscar como en las zonas que me aconsejaba. Ademas es muy simpatica y agradable. Me dejo utilizar su Ipad para hacer skype con mis padres asi como utilizar su ordenador para buscar apartamentos. El ultimo dia, ademas, me acompano a la estacion de trenes con su coche ya que iba con dos maletas grandes. Por supuesto, la casa es como aparece en las fotos. En definitiva un sitio mas que recomendable!!!! | es                                                                                                                                                                                                                                                                                                                                                                                                                                                                                                                                                                                               | \n",
       "| 12919832                                                                                                                                                                                                                                                                                                                                                                                                                                                                                                                                                                                         | 1274584                                                                                                                                                                                                                                                                                                                                                                                                                                                                                                                                                                                          | Aurelie fue muy atenta y comunicativa. Nos dio mapas, concejos turisticos y de transporte para disfrutar Bruselas y Brujas. Fue muy amable al prestarnos sus juegos de tablero para jugar.\n",
       "Su departamento es muy lindo y acogedor, muy luminoso y comodo.\n",
       "                                                                                                                                                                                                                                                                                                                                    | es                                                                                                                                                                                                                                                                                                                                                                                                                                                                                                                                                                                               | \n",
       "| 23786310                                                                                                                                                                                                                                                                                                                                                                                                                                                                                                                                                                                         | 1991750                                                                                                                                                                                                                                                                                                                                                                                                                                                                                                                                                                                          | La estancia fue muy agradable. Gabriel es muy atento y esta dispuesto a ayudar en todo lo que necesites. La casa y la habitacion son muy acogedoras, aunque por las mananas en el salon hace un poco de frio. \n",
       "El barrio es muy cercano al centro, en 10-15m estas en la Grand Place.\n",
       "En general una muy buena experiencia!                                                                                                                                                                                                                                                                    | es                                                                                                                                                                                                                                                                                                                                                                                                                                                                                                                                                                                               | \n",
       "| 20048068                                                                                                                                                                                                                                                                                                                                                                                                                                                                                                                                                                                         | 2576349                                                                                                                                                                                                                                                                                                                                                                                                                                                                                                                                                                                          | Excelente espacio, excelente anfitriona, un lugar accessible economicamente y cerca de los lugares turisticos sin necesitad de gastar mucho en bus y tranvia para llegar a ellos. La agradecimos por su disponibilidad y sus consejos de bars bien padrisimos!                                                                                                                                                                                                                                                                                                                                   | es                                                                                                                                                                                                                                                                                                                                                                                                                                                                                                                                                                                               | \n",
       "| 17571798                                                                                                                                                                                                                                                                                                                                                                                                                                                                                                                                                                                         | 1866754                                                                                                                                                                                                                                                                                                                                                                                                                                                                                                                                                                                          | Nos sentimos como en nuestra propia casa. La ubicacion es perfecta, mucho  mas centrica de lo que esperabamos. A tan solo 10 minutos de La Grand Place. Fue muy amable y atento con nosotros. El apartamento esta nuevo, muy buen cuidado y la decoracion es genial!! Repetiria seguro!!                                                                                                                                                                                                                                                                                                         | es                                                                                                                                                                                                                                                                                                                                                                                                                                                                                                                                                                                               | \n",
       "| 28394425                                                                                                                                                                                                                                                                                                                                                                                                                                                                                                                                                                                         | 5247223                                                                                                                                                                                                                                                                                                                                                                                                                                                                                                                                                                                          | Thomas es un excelente anfitrion y persona. Tuvimos un inconveniente pues ibamos a hospedarnos 3 amigos en su casa, yo no pude hospedarme debido a un inconveniente personal, Thomas no tuvo ningun inconveniente en que se modificara la reserva de tres a dos huespedes. Mis amigos estuvieron muy contentos en casa de Thomas, me indicaron que esta bien situado, que Thomas es una persona muy agradable y que el piso esta en muy buenas condiciones. Muchas gracias por todo Thomas.                                                                                                      | es                                                                                                                                                                                                                                                                                                                                                                                                                                                                                                                                                                                               | \n",
       "\n",
       "\n"
      ],
      "text/plain": [
       "  id       listing_id\n",
       "1 32198807 1291276   \n",
       "2 12919832 1274584   \n",
       "3 23786310 1991750   \n",
       "4 20048068 2576349   \n",
       "5 17571798 1866754   \n",
       "6 28394425 5247223   \n",
       "  feedback                                                                                                                                                                                                                                                                                                                                                                                                                                                                                                                                                                                        \n",
       "1 Gwen fue una magnifica anfitriona. El motivo de mi viaje a Bruselas era la busqueda de un apartamento y Gwen me ayudo en todo momento tanto para las paginas en las que debia buscar como en las zonas que me aconsejaba. Ademas es muy simpatica y agradable. Me dejo utilizar su Ipad para hacer skype con mis padres asi como utilizar su ordenador para buscar apartamentos. El ultimo dia, ademas, me acompano a la estacion de trenes con su coche ya que iba con dos maletas grandes. Por supuesto, la casa es como aparece en las fotos. En definitiva un sitio mas que recomendable!!!!\n",
       "2 Aurelie fue muy atenta y comunicativa. Nos dio mapas, concejos turisticos y de transporte para disfrutar Bruselas y Brujas. Fue muy amable al prestarnos sus juegos de tablero para jugar.\\nSu departamento es muy lindo y acogedor, muy luminoso y comodo.\\n                                                                                                                                                                                                                                                                                                                                   \n",
       "3 La estancia fue muy agradable. Gabriel es muy atento y esta dispuesto a ayudar en todo lo que necesites. La casa y la habitacion son muy acogedoras, aunque por las mananas en el salon hace un poco de frio. \\nEl barrio es muy cercano al centro, en 10-15m estas en la Grand Place.\\nEn general una muy buena experiencia!                                                                                                                                                                                                                                                                   \n",
       "4 Excelente espacio, excelente anfitriona, un lugar accessible economicamente y cerca de los lugares turisticos sin necesitad de gastar mucho en bus y tranvia para llegar a ellos. La agradecimos por su disponibilidad y sus consejos de bars bien padrisimos!                                                                                                                                                                                                                                                                                                                                  \n",
       "5 Nos sentimos como en nuestra propia casa. La ubicacion es perfecta, mucho  mas centrica de lo que esperabamos. A tan solo 10 minutos de La Grand Place. Fue muy amable y atento con nosotros. El apartamento esta nuevo, muy buen cuidado y la decoracion es genial!! Repetiria seguro!!                                                                                                                                                                                                                                                                                                        \n",
       "6 Thomas es un excelente anfitrion y persona. Tuvimos un inconveniente pues ibamos a hospedarnos 3 amigos en su casa, yo no pude hospedarme debido a un inconveniente personal, Thomas no tuvo ningun inconveniente en que se modificara la reserva de tres a dos huespedes. Mis amigos estuvieron muy contentos en casa de Thomas, me indicaron que esta bien situado, que Thomas es una persona muy agradable y que el piso esta en muy buenas condiciones. Muchas gracias por todo Thomas.                                                                                                     \n",
       "  language\n",
       "1 es      \n",
       "2 es      \n",
       "3 es      \n",
       "4 es      \n",
       "5 es      \n",
       "6 es      "
      ]
     },
     "metadata": {},
     "output_type": "display_data"
    }
   ],
   "source": [
    "brussels_reviews$language <- detect_language(brussels_reviews$feedback)\n",
    "head(brussels_reviews)"
   ]
  },
  {
   "cell_type": "code",
   "execution_count": 66,
   "metadata": {},
   "outputs": [
    {
     "data": {
      "text/plain": [
       "\n",
       " en  es  fr  nl \n",
       "  1 499 498 500 "
      ]
     },
     "metadata": {},
     "output_type": "display_data"
    }
   ],
   "source": [
    "occurences <- table(brussels_reviews$language)\n",
    "occurences"
   ]
  },
  {
   "cell_type": "code",
   "execution_count": 67,
   "metadata": {},
   "outputs": [
    {
     "data": {
      "text/plain": [
       "\n",
       "          en           es           fr           nl \n",
       "0.0006675567 0.3331108144 0.3324432577 0.3337783712 "
      ]
     },
     "metadata": {},
     "output_type": "display_data"
    }
   ],
   "source": [
    "frequencies <- occurences / sum(occurences)\n",
    "frequencies"
   ]
  }
 ],
 "metadata": {
  "kernelspec": {
   "display_name": "R",
   "language": "R",
   "name": "ir"
  },
  "language_info": {
   "codemirror_mode": "r",
   "file_extension": ".r",
   "mimetype": "text/x-r-source",
   "name": "R",
   "pygments_lexer": "r",
   "version": "3.4.1"
  }
 },
 "nbformat": 4,
 "nbformat_minor": 2
}
