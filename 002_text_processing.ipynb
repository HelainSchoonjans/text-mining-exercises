{
 "cells": [
  {
   "cell_type": "code",
   "execution_count": 1,
   "metadata": {},
   "outputs": [
    {
     "data": {
      "text/html": [
       "'abc_def_123_go ahead'"
      ],
      "text/latex": [
       "'abc\\_def\\_123\\_go ahead'"
      ],
      "text/markdown": [
       "'abc_def_123_go ahead'"
      ],
      "text/plain": [
       "[1] \"abc_def_123_go ahead\""
      ]
     },
     "metadata": {},
     "output_type": "display_data"
    }
   ],
   "source": [
    "# paste: collapsing several strings in 1 or combining strings\n",
    "# paste example 1\n",
    "x <- c(\"abc\", \"def\", \"123\", \"go ahead\")\n",
    "paste(x, collapse = \"_\")"
   ]
  },
  {
   "cell_type": "code",
   "execution_count": 2,
   "metadata": {},
   "outputs": [
    {
     "data": {
      "text/html": [
       "<ol class=list-inline>\n",
       "\t<li>'abc-1'</li>\n",
       "\t<li>'def-2'</li>\n",
       "\t<li>'123-3'</li>\n",
       "\t<li>'go ahead-4'</li>\n",
       "</ol>\n"
      ],
      "text/latex": [
       "\\begin{enumerate*}\n",
       "\\item 'abc-1'\n",
       "\\item 'def-2'\n",
       "\\item '123-3'\n",
       "\\item 'go ahead-4'\n",
       "\\end{enumerate*}\n"
      ],
      "text/markdown": [
       "1. 'abc-1'\n",
       "2. 'def-2'\n",
       "3. '123-3'\n",
       "4. 'go ahead-4'\n",
       "\n",
       "\n"
      ],
      "text/plain": [
       "[1] \"abc-1\"      \"def-2\"      \"123-3\"      \"go ahead-4\""
      ]
     },
     "metadata": {},
     "output_type": "display_data"
    }
   ],
   "source": [
    "# paste example 2\n",
    "paste(x, 1:4, sep = \"-\")"
   ]
  },
  {
   "cell_type": "code",
   "execution_count": 3,
   "metadata": {},
   "outputs": [
    {
     "data": {
      "text/html": [
       "<ol class=list-inline>\n",
       "\t<li>'INSERT INTO customers VALUES(1, \\'person1\\')'</li>\n",
       "\t<li>'INSERT INTO customers VALUES(2, \\'xyz\\')'</li>\n",
       "</ol>\n"
      ],
      "text/latex": [
       "\\begin{enumerate*}\n",
       "\\item 'INSERT INTO customers VALUES(1, \\textbackslash{}'person1\\textbackslash{}')'\n",
       "\\item 'INSERT INTO customers VALUES(2, \\textbackslash{}'xyz\\textbackslash{}')'\n",
       "\\end{enumerate*}\n"
      ],
      "text/markdown": [
       "1. 'INSERT INTO customers VALUES(1, \\'person1\\')'\n",
       "2. 'INSERT INTO customers VALUES(2, \\'xyz\\')'\n",
       "\n",
       "\n"
      ],
      "text/plain": [
       "[1] \"INSERT INTO customers VALUES(1, 'person1')\"\n",
       "[2] \"INSERT INTO customers VALUES(2, 'xyz')\"    "
      ]
     },
     "metadata": {},
     "output_type": "display_data"
    }
   ],
   "source": [
    "# sprintf: inject a string in another\n",
    "# sprintf example 1\n",
    "sprintf(\"INSERT INTO customers VALUES(%s, '%s')\", 1:2, c(\"person1\", \"xyz\"))"
   ]
  },
  {
   "cell_type": "code",
   "execution_count": 4,
   "metadata": {},
   "outputs": [
    {
     "data": {
      "text/html": [
       "'Hélain Schoonjans'"
      ],
      "text/latex": [
       "'Hélain Schoonjans'"
      ],
      "text/markdown": [
       "'Hélain Schoonjans'"
      ],
      "text/plain": [
       "[1] \"Hélain Schoonjans\""
      ]
     },
     "metadata": {},
     "output_type": "display_data"
    }
   ],
   "source": [
    "paste(c(\"Hélain\", \"Schoonjans\"), collapse = \" \")"
   ]
  },
  {
   "cell_type": "code",
   "execution_count": null,
   "metadata": {},
   "outputs": [],
   "source": []
  }
 ],
 "metadata": {
  "kernelspec": {
   "display_name": "R",
   "language": "R",
   "name": "ir"
  },
  "language_info": {
   "codemirror_mode": "r",
   "file_extension": ".r",
   "mimetype": "text/x-r-source",
   "name": "R",
   "pygments_lexer": "r",
   "version": "3.4.1"
  }
 },
 "nbformat": 4,
 "nbformat_minor": 2
}
