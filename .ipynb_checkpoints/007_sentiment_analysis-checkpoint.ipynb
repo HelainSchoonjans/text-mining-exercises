{
 "cells": [
  {
   "cell_type": "code",
   "execution_count": 3,
   "metadata": {},
   "outputs": [
    {
     "name": "stderr",
     "output_type": "stream",
     "text": [
      "also installing the dependency ‘openNLPdata’\n",
      "\n",
      "Warning message in install.packages(\"openNLP\"):\n",
      "“installation of package ‘openNLPdata’ had non-zero exit status”Warning message in install.packages(\"openNLP\"):\n",
      "“installation of package ‘openNLP’ had non-zero exit status”Updating HTML index of packages in '.Library'\n",
      "Making 'packages.html' ... done\n",
      "Updating HTML index of packages in '.Library'\n",
      "Making 'packages.html' ... done\n",
      "also installing the dependencies ‘openNLPdata’, ‘xlsxjars’, ‘openNLP’, ‘venneuler’, ‘xlsx’\n",
      "\n",
      "Warning message in install.packages(\"qdap\"):\n",
      "“installation of package ‘openNLPdata’ had non-zero exit status”Warning message in install.packages(\"qdap\"):\n",
      "“installation of package ‘xlsxjars’ had non-zero exit status”Warning message in install.packages(\"qdap\"):\n",
      "“installation of package ‘venneuler’ had non-zero exit status”Warning message in install.packages(\"qdap\"):\n",
      "“installation of package ‘openNLP’ had non-zero exit status”Warning message in install.packages(\"qdap\"):\n",
      "“installation of package ‘xlsx’ had non-zero exit status”Warning message in install.packages(\"qdap\"):\n",
      "“installation of package ‘qdap’ had non-zero exit status”Updating HTML index of packages in '.Library'\n",
      "Making 'packages.html' ... done\n"
     ]
    },
    {
     "ename": "ERROR",
     "evalue": "Error in library(qdap): there is no package called ‘qdap’\n",
     "output_type": "error",
     "traceback": [
      "Error in library(qdap): there is no package called ‘qdap’\nTraceback:\n",
      "1. library(qdap)",
      "2. stop(txt, domain = NA)"
     ]
    }
   ],
   "source": [
    "# Sentiment analysis: identify and extract subjective information in source materials\n",
    "install.packages(\"openNLP\")\n",
    "install.packages('openNLPmodels.en', repos=\"http://datacube.wu.ac.at/\",type=\"source\")\n",
    "install.packages(\"qdap\")\n",
    "library(qdap)\n",
    "data(key.pol)\n",
    "head(key.pol, 3)"
   ]
  },
  {
   "cell_type": "code",
   "execution_count": 4,
   "metadata": {},
   "outputs": [
    {
     "ename": "ERROR",
     "evalue": "Error in table(key.pol$y): object 'key.pol' not found\n",
     "output_type": "error",
     "traceback": [
      "Error in table(key.pol$y): object 'key.pol' not found\nTraceback:\n",
      "1. table(key.pol$y)"
     ]
    }
   ],
   "source": [
    "table(key.pol$y)"
   ]
  },
  {
   "cell_type": "code",
   "execution_count": 5,
   "metadata": {},
   "outputs": [
    {
     "ename": "ERROR",
     "evalue": "Error in tolower(mymovies$tomatoConsensus): object 'mymovies' not found\n",
     "output_type": "error",
     "traceback": [
      "Error in tolower(mymovies$tomatoConsensus): object 'mymovies' not found\nTraceback:\n",
      "1. tolower(mymovies$tomatoConsensus)"
     ]
    }
   ],
   "source": [
    "txt <- tolower(mymovies$tomatoConsensus)\n",
    "sentiments <- polarity(txt, polarity.frame = qdapDictionaries::key.pol,\n",
    "negators = qdapDictionaries::negation.words,\n",
    "                   n.before = 4, n.after = 2,\n",
    "                   amplifiers = qdapDictionaries::amplification.words,\n",
    "                   deamplifiers = qdapDictionaries::deamplification.words,\n",
    "                   amplifier.weight = 0.8,\n",
    "constrain = TRUE)\n",
    "## Add a column called sentiment to the data.frame\n",
    "mymovies$sentiment <- sentiments$all$polarity\n",
    "## General output\n",
    "sentiments$group\n",
    "## Structure of the detailed output\n",
    "str(sentiments$all)"
   ]
  },
  {
   "cell_type": "code",
   "execution_count": 6,
   "metadata": {},
   "outputs": [
    {
     "name": "stderr",
     "output_type": "stream",
     "text": [
      "corrplot 0.84 loaded\n"
     ]
    },
    {
     "ename": "ERROR",
     "evalue": "Error in truehist(mymovies$sentiment, col = \"lightblue\", main = \"Sentiment distribution\"): object 'mymovies' not found\n",
     "output_type": "error",
     "traceback": [
      "Error in truehist(mymovies$sentiment, col = \"lightblue\", main = \"Sentiment distribution\"): object 'mymovies' not found\nTraceback:\n",
      "1. truehist(mymovies$sentiment, col = \"lightblue\", main = \"Sentiment distribution\")"
     ]
    }
   ],
   "source": [
    "library(corrplot)\n",
    "library(MASS)\n",
    "par(mfrow = c(1, 2))\n",
    "truehist(mymovies$sentiment, \n",
    "         col = \"lightblue\", \n",
    "         main = \"Sentiment distribution\")\n",
    "m <- cor(mymovies[c(\"sentiment\", \"tomatoMeter\", \"tomatoRating\", \"imdbRating\", \"imdbVotes\")], \n",
    "         method = \"pearson\", use = \"pairwise.complete.obs\")\n",
    "corrplot(m, method=\"number\", main = \"\\n\\nCorrelation sentiment vs movie metrics\")"
   ]
  },
  {
   "cell_type": "code",
   "execution_count": 7,
   "metadata": {},
   "outputs": [
    {
     "ename": "ERROR",
     "evalue": "Error in which(sentiments$all$polarity != 0): object 'sentiments' not found\n",
     "output_type": "error",
     "traceback": [
      "Error in which(sentiments$all$polarity != 0): object 'sentiments' not found\nTraceback:\n",
      "1. sample(which(sentiments$all$polarity != 0), 10)",
      "2. which(sentiments$all$polarity != 0)"
     ]
    }
   ],
   "source": [
    "idx <- sample(which(sentiments$all$polarity != 0), 10)\n",
    "sentiments$all[idx, c(\"all\", \"wc\", \"polarity\", \"pos.words\", \"neg.words\")]"
   ]
  },
  {
   "cell_type": "code",
   "execution_count": null,
   "metadata": {},
   "outputs": [],
   "source": [
    "# exercise 1: Perform a sentiment analysis on the movie plot "
   ]
  },
  {
   "cell_type": "code",
   "execution_count": null,
   "metadata": {},
   "outputs": [],
   "source": [
    "# exercise 2: Is the sentiment of the brussels airbnb customer feedback linked to the price?"
   ]
  }
 ],
 "metadata": {
  "kernelspec": {
   "display_name": "R",
   "language": "R",
   "name": "ir"
  },
  "language_info": {
   "codemirror_mode": "r",
   "file_extension": ".r",
   "mimetype": "text/x-r-source",
   "name": "R",
   "pygments_lexer": "r",
   "version": "3.4.1"
  }
 },
 "nbformat": 4,
 "nbformat_minor": 2
}
