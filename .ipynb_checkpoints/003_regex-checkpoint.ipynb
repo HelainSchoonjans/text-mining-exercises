{
 "cells": [
  {
   "cell_type": "code",
   "execution_count": 1,
   "metadata": {
    "collapsed": true
   },
   "outputs": [],
   "source": [
    "# Regular expressions\n",
    "expressions <- c(\"grep\", \"grepl\", \"sub\", \"gsub\", \"regexpr\", \"gregexpr\", \"regmatches\", \n",
    "                 \"strtrim\", \"agrep\", \"strsplit\")"
   ]
  },
  {
   "cell_type": "code",
   "execution_count": 2,
   "metadata": {},
   "outputs": [
    {
     "data": {
      "text/html": [
       "2"
      ],
      "text/latex": [
       "2"
      ],
      "text/markdown": [
       "2"
      ],
      "text/plain": [
       "[1] 2"
      ]
     },
     "metadata": {},
     "output_type": "display_data"
    }
   ],
   "source": [
    "# grep: detecting\n",
    "# search for pattern in vector\n",
    "# returns found elements\n",
    "grep(pattern=\"B\", x=c(\"A\", \"B\", \"C\", \"D\"))"
   ]
  },
  {
   "cell_type": "code",
   "execution_count": 3,
   "metadata": {},
   "outputs": [
    {
     "data": {
      "text/html": [
       "<ol class=list-inline>\n",
       "\t<li>1</li>\n",
       "\t<li>2</li>\n",
       "\t<li>3</li>\n",
       "</ol>\n"
      ],
      "text/latex": [
       "\\begin{enumerate*}\n",
       "\\item 1\n",
       "\\item 2\n",
       "\\item 3\n",
       "\\end{enumerate*}\n"
      ],
      "text/markdown": [
       "1. 1\n",
       "2. 2\n",
       "3. 3\n",
       "\n",
       "\n"
      ],
      "text/plain": [
       "[1] 1 2 3"
      ]
     },
     "metadata": {},
     "output_type": "display_data"
    }
   ],
   "source": [
    "x <- c(\"LStat\",\"lstat\",\"Leuven Statistics Research Center\", \"BNOSAC\", \"Belgium\", \"Waffels in Belgium\", \"Manneken Pis @ Atomium\")\n",
    "grep(pattern=\"stat\", x=x, ignore.case=TRUE)"
   ]
  },
  {
   "cell_type": "code",
   "execution_count": 4,
   "metadata": {},
   "outputs": [
    {
     "data": {
      "text/html": [
       "<ol class=list-inline>\n",
       "\t<li>4</li>\n",
       "\t<li>5</li>\n",
       "\t<li>6</li>\n",
       "\t<li>7</li>\n",
       "</ol>\n"
      ],
      "text/latex": [
       "\\begin{enumerate*}\n",
       "\\item 4\n",
       "\\item 5\n",
       "\\item 6\n",
       "\\item 7\n",
       "\\end{enumerate*}\n"
      ],
      "text/markdown": [
       "1. 4\n",
       "2. 5\n",
       "3. 6\n",
       "4. 7\n",
       "\n",
       "\n"
      ],
      "text/plain": [
       "[1] 4 5 6 7"
      ]
     },
     "metadata": {},
     "output_type": "display_data"
    }
   ],
   "source": [
    "grep(pattern=\"stat\", x=x, ignore.case=TRUE, invert=TRUE)"
   ]
  },
  {
   "cell_type": "code",
   "execution_count": 6,
   "metadata": {},
   "outputs": [
    {
     "data": {
      "text/html": [
       "<ol class=list-inline>\n",
       "\t<li>'LStat'</li>\n",
       "\t<li>'lstat'</li>\n",
       "</ol>\n"
      ],
      "text/latex": [
       "\\begin{enumerate*}\n",
       "\\item 'LStat'\n",
       "\\item 'lstat'\n",
       "\\end{enumerate*}\n"
      ],
      "text/markdown": [
       "1. 'LStat'\n",
       "2. 'lstat'\n",
       "\n",
       "\n"
      ],
      "text/plain": [
       "[1] \"LStat\" \"lstat\""
      ]
     },
     "metadata": {},
     "output_type": "display_data"
    }
   ],
   "source": [
    "grep(pattern=\"lstat\", x=x, ignore.case=TRUE, value=TRUE)"
   ]
  },
  {
   "cell_type": "code",
   "execution_count": 7,
   "metadata": {},
   "outputs": [
    {
     "data": {
      "text/html": [
       "<ol class=list-inline>\n",
       "\t<li>TRUE</li>\n",
       "\t<li>TRUE</li>\n",
       "\t<li>FALSE</li>\n",
       "\t<li>FALSE</li>\n",
       "\t<li>FALSE</li>\n",
       "\t<li>FALSE</li>\n",
       "\t<li>FALSE</li>\n",
       "</ol>\n"
      ],
      "text/latex": [
       "\\begin{enumerate*}\n",
       "\\item TRUE\n",
       "\\item TRUE\n",
       "\\item FALSE\n",
       "\\item FALSE\n",
       "\\item FALSE\n",
       "\\item FALSE\n",
       "\\item FALSE\n",
       "\\end{enumerate*}\n"
      ],
      "text/markdown": [
       "1. TRUE\n",
       "2. TRUE\n",
       "3. FALSE\n",
       "4. FALSE\n",
       "5. FALSE\n",
       "6. FALSE\n",
       "7. FALSE\n",
       "\n",
       "\n"
      ],
      "text/plain": [
       "[1]  TRUE  TRUE FALSE FALSE FALSE FALSE FALSE"
      ]
     },
     "metadata": {},
     "output_type": "display_data"
    }
   ],
   "source": [
    "grepl(pattern=\"lstat\", x=x, ignore.case=TRUE)"
   ]
  },
  {
   "cell_type": "code",
   "execution_count": 8,
   "metadata": {},
   "outputs": [
    {
     "data": {
      "text/html": [
       "'Belgium'"
      ],
      "text/latex": [
       "'Belgium'"
      ],
      "text/markdown": [
       "'Belgium'"
      ],
      "text/plain": [
       "[1] \"Belgium\""
      ]
     },
     "metadata": {},
     "output_type": "display_data"
    }
   ],
   "source": [
    "# ^ means starts with\n",
    "# $ means ends with\n",
    "# | means or\n",
    "\n",
    "x <- c(\"LStat\",\"lstat\",\"Leuven Statistics Research Center\", \"BNOSAC\", \"Belgium\", \"Waffels in Belgium\", \"Manneken Pis @ Atomium\")\n",
    "grep(pattern=\"^Bel\", x=x, value=TRUE)"
   ]
  },
  {
   "cell_type": "code",
   "execution_count": 9,
   "metadata": {},
   "outputs": [
    {
     "data": {
      "text/html": [
       "'lstat'"
      ],
      "text/latex": [
       "'lstat'"
      ],
      "text/markdown": [
       "'lstat'"
      ],
      "text/plain": [
       "[1] \"lstat\""
      ]
     },
     "metadata": {},
     "output_type": "display_data"
    }
   ],
   "source": [
    "grep(pattern=\"stat$\", x=x, value=TRUE)"
   ]
  },
  {
   "cell_type": "code",
   "execution_count": 10,
   "metadata": {},
   "outputs": [
    {
     "data": {
      "text/html": [
       "<ol class=list-inline>\n",
       "\t<li>'LStat'</li>\n",
       "\t<li>'Belgium'</li>\n",
       "</ol>\n"
      ],
      "text/latex": [
       "\\begin{enumerate*}\n",
       "\\item 'LStat'\n",
       "\\item 'Belgium'\n",
       "\\end{enumerate*}\n"
      ],
      "text/markdown": [
       "1. 'LStat'\n",
       "2. 'Belgium'\n",
       "\n",
       "\n"
      ],
      "text/plain": [
       "[1] \"LStat\"   \"Belgium\""
      ]
     },
     "metadata": {},
     "output_type": "display_data"
    }
   ],
   "source": [
    "grep(pattern=\"^Bel|Stat$\", x=x, value=TRUE)"
   ]
  },
  {
   "cell_type": "code",
   "execution_count": 11,
   "metadata": {
    "collapsed": true
   },
   "outputs": [],
   "source": [
    "#Other metacharacters\n",
    "#. matches everything except for the empty string ””.\n",
    "#+ The preceding item will be matched one or more times.\n",
    "#∗ The preceding item will be matched zero or more times.\n",
    "#? The preceding item is optional and will be matched at most once.\n",
    "#{n} The preceding item is matched exactly n times.\n",
    "#{n,} The preceding item is matched n or more times.\n",
    "#{n,m} The preceding item is matched at least n times, but not more than m times.\n",
    "#ˆ matches the empty string at the at the beginning of a line. When used in a character class (see explanation about character classes in the following slides) means to match any character but the following ones. \n",
    "# use () for grouping and [,] for character class brackets"
   ]
  },
  {
   "cell_type": "code",
   "execution_count": 13,
   "metadata": {},
   "outputs": [
    {
     "name": "stdout",
     "output_type": "stream",
     "text": [
      "[1] \"Gooool\"\n",
      "[1] \"Gooooaaal\"\n",
      "[1] \"Gooooaaal\"  \"GGooooaaal\"\n",
      "[1] \"Gooooaaal\" \"Gooaaal\"  \n",
      "[1] \"Ik haatIk haat smurfen\"\n"
     ]
    }
   ],
   "source": [
    "print(grep(pattern=\"Go{4}l\", x=c(\"Gooool\",\"Goooool\"), value=TRUE))\n",
    "print(grep(pattern=\"Go+a\", x=c(\"Gooooaaal\",\"Goooooobbbl\"), value=TRUE))\n",
    "print(grep(pattern=\"^GG?o*a\", x=c(\"Gooooaaal\",\"GGooooaaal\"), value=TRUE))\n",
    "print(grep(pattern=\"G.*a\", x=c(\"Gooooaaal\",\"Gooaaal\"), value=TRUE))\n",
    "print(grep(pattern=\"(Ik haat){2}\", x=c(\"Ik haat smurfen\",\"Ik haatIk haat smurfen\"), value=TRUE))\n",
    "# don't forget to escape the metacharacters with \\\\"
   ]
  },
  {
   "cell_type": "code",
   "execution_count": 14,
   "metadata": {},
   "outputs": [
    {
     "name": "stdout",
     "output_type": "stream",
     "text": [
      "[1] \"letter38\" \"window9\"  \"apple0\"  \n",
      "[1] \"nose\"    \"window9\"\n",
      "[1] \"letter38\" \"window9\" \n",
      "[1] \"abcdef\"  \"ABCDEFG\"\n",
      "[1] \"abcdef\"\n"
     ]
    }
   ],
   "source": [
    "# character classess\n",
    "# example: [a-zA-Z]\n",
    "# [:lower:] lower case in the current locale\n",
    "# [:upper:]\n",
    "# alphabetic characters [:alpha:]\n",
    "# space [:space:]\n",
    "# digits [:digit:]\n",
    "# punctuation chars [:punct:]\n",
    "\n",
    "# examples\n",
    "input1 <- c(\"nose\", \"letter38\", \"window9\", \"apple0\")\n",
    "print(grep(\"[[:digit:]]\", input1, value = TRUE))\n",
    "print(grep(\"[nco]\", input1, value = TRUE))\n",
    "print(grep(\"[39]\", input1, value = TRUE))\n",
    "\n",
    "input2 <- c(\"abcdef\", \"ABCDEFG\", \"IJK\")\n",
    "print(grep(\"[a-cA-D]\", input2, value = TRUE))\n",
    "print(grep(\"[[:lower:]]\", input2, value = TRUE))"
   ]
  },
  {
   "cell_type": "code",
   "execution_count": 15,
   "metadata": {},
   "outputs": [
    {
     "name": "stdout",
     "output_type": "stream",
     "text": [
      "[1] \"Leuven Statistiek Research\"\n",
      "[1] \"Leuven tistics \"\n",
      "[1] \"Leuven Statistics\"\n",
      "[1] \"abc..def\"\n",
      "[1] \"abcdef\"\n"
     ]
    }
   ],
   "source": [
    "# Replacing\n",
    "\n",
    "# sub : replacement of the first match\n",
    "# gsub : replacement of all matches\n",
    "\n",
    "print(gsub(pattern=\"Statistics\", replacement=\"Statistiek\", x=\"Leuven Statistics Research\"))\n",
    "print(gsub(pattern=\"Sta|Research\", replacement=\"\", x=\"Leuven Statistics Research\"))\n",
    "print(gsub(pattern=\" +\", replacement=\" \", x=\"Leuven Statistics\"))\n",
    "print(sub(pattern=\"\\\\.\", replacement=\"\", x=\"abc...def\"))\n",
    "print(gsub(pattern=\"\\\\.\", replacement=\"\", x=\"abc...def\"))"
   ]
  },
  {
   "cell_type": "code",
   "execution_count": 17,
   "metadata": {},
   "outputs": [
    {
     "name": "stdout",
     "output_type": "stream",
     "text": [
      "[1] \"I want to \"\n",
      "[1] \"break\"\n",
      "[1] \" free\"\n"
     ]
    }
   ],
   "source": [
    "# backreference to replace with (group)\n",
    "x <- \"I want to break free\"\n",
    "print(gsub(pattern = \"(.+)(break)(.+)\", replacement = \"\\\\1\", x))\n",
    "print(gsub(pattern = \"(.+)(break)(.+)\", replacement = \"\\\\2\", x))\n",
    "print(gsub(pattern = \"(.+)(break)(.+)\", replacement = \"\\\\3\", x))"
   ]
  },
  {
   "cell_type": "code",
   "execution_count": 18,
   "metadata": {},
   "outputs": [
    {
     "name": "stdout",
     "output_type": "stream",
     "text": [
      "[[1]]\n",
      "[1] 4 5 6\n",
      "attr(,\"match.length\")\n",
      "[1] 1 1 1\n",
      "attr(,\"useBytes\")\n",
      "[1] TRUE\n",
      "\n",
      "[[1]]\n",
      "[1]  8 19\n",
      "attr(,\"match.length\")\n",
      "[1] 3 8\n",
      "attr(,\"useBytes\")\n",
      "[1] TRUE\n",
      "\n",
      "[1] 8\n",
      "attr(,\"match.length\")\n",
      "[1] 3\n",
      "attr(,\"useBytes\")\n",
      "[1] TRUE\n"
     ]
    }
   ],
   "source": [
    "# regexpr and gregexpr to have infromation on where matches are found\n",
    "# regexpr gives the starting position of the first match\n",
    "# gregexpr gives the starting positions of every match\n",
    "\n",
    "print(gregexpr(pattern=\"\\\\.\", text=\"abc...def\"))\n",
    "txt <- \"Leuven Statistics Research Center\" \n",
    "print(gregexpr(pattern=\"Sta|Research\", text=txt))\n",
    "print(regexpr(pattern=\"Sta|Research\", text=txt))"
   ]
  },
  {
   "cell_type": "code",
   "execution_count": 20,
   "metadata": {},
   "outputs": [
    {
     "name": "stdout",
     "output_type": "stream",
     "text": [
      "[[1]]\n",
      "[1] \"Statistics Research \"\n",
      "\n",
      "[[1]]\n",
      "[1] \"Leuven \" \"Center\" \n",
      "\n",
      "[1] \"Analy\"\n"
     ]
    }
   ],
   "source": [
    "# result of gregexpr can be fed to regmatches to extract or replace the text\n",
    "txt <- \"Leuven Statistics Research Center\"\n",
    "print(regmatches(x=txt, gregexpr(pattern=\"Sta.+ |Research\", text=txt), invert=FALSE))\n",
    "print(regmatches(x=txt, gregexpr(pattern=\"Sta.+ |Research\", text=txt), invert=TRUE))\n",
    "# TODO: the following one does not work as in the example\n",
    "print(regmatches(x=txt, regexpr(pattern=\"Statis\", text=txt)) <- \"Analy\")"
   ]
  },
  {
   "cell_type": "code",
   "execution_count": 21,
   "metadata": {},
   "outputs": [
    {
     "name": "stdout",
     "output_type": "stream",
     "text": [
      "[[1]]\n",
      "[1] \"abc.\" \"def\" \n",
      "\n",
      "[[2]]\n",
      "character(0)\n",
      "\n",
      "[[1]]\n",
      "[1] \"abc\"  \" def\"\n",
      "\n",
      "[[2]]\n",
      "character(0)\n",
      "\n"
     ]
    }
   ],
   "source": [
    "# strsplit splits text by character or expression\n",
    "print(strsplit(x=c(\"abc. def\", \"\"), split=\" \"))\n",
    "print(strsplit(x=c(\"abc. def\", \"\"), split=\"\\\\.\"))"
   ]
  },
  {
   "cell_type": "code",
   "execution_count": 22,
   "metadata": {},
   "outputs": [
    {
     "name": "stdout",
     "output_type": "stream",
     "text": [
      "[1] \"c.\" \"34\"\n",
      "[1] \"abc\"  \"1234\"\n"
     ]
    }
   ],
   "source": [
    "# substr and strtrim to extract element from character data\n",
    "print(substr(x=c(\"abc. def\", \"123456789\"), start=3, stop=4))\n",
    "print(strtrim(x=c(\"abc\", \"123456789\"), width=4))"
   ]
  },
  {
   "cell_type": "code",
   "execution_count": 45,
   "metadata": {
    "collapsed": true
   },
   "outputs": [],
   "source": [
    "# Exercises\n",
    "\n",
    "d1 <- data.frame(id...of....patient = c(1, 2), patient....age = c(1, 2))\n",
    "d <- data.frame( id = c(11, 22, 33, 44, 55, 66, 77), drug = c(\"vitamin E\", \"vitamin ESTER-C\", \" vitamin E \", \"vitamin E(ointment)\", \"\", \"provitamin E\\n\", \"vit E\"), text = c(\"\", \" \", \"3 times a day after meal\", \"once a day\", \" \", \"\\t\", \"\\n \"), stringsAsFactors = FALSE)\n"
   ]
  },
  {
   "cell_type": "code",
   "execution_count": 46,
   "metadata": {},
   "outputs": [],
   "source": [
    "# Exercise 1\n",
    "# replace teh leading and trailing spaces\n",
    "\n",
    "trim <- function(input) {\n",
    "    gsub(pattern = \"^([:space:]+)([:alpha:]+.+[:alpha:]+)([:space:]+)$\", replacement = \"\\\\2\", input)\n",
    "}\n",
    "d[[\"drug\"]] <- trim(d[[\"drug\"]])"
   ]
  },
  {
   "cell_type": "code",
   "execution_count": 47,
   "metadata": {},
   "outputs": [
    {
     "data": {
      "text/html": [
       "<ol class=list-inline>\n",
       "\t<li>'id...of....patient'</li>\n",
       "\t<li>'patient....age'</li>\n",
       "</ol>\n"
      ],
      "text/latex": [
       "\\begin{enumerate*}\n",
       "\\item 'id...of....patient'\n",
       "\\item 'patient....age'\n",
       "\\end{enumerate*}\n"
      ],
      "text/markdown": [
       "1. 'id...of....patient'\n",
       "2. 'patient....age'\n",
       "\n",
       "\n"
      ],
      "text/plain": [
       "[1] \"id...of....patient\" \"patient....age\"    "
      ]
     },
     "metadata": {},
     "output_type": "display_data"
    }
   ],
   "source": [
    "# Exercise 2: replace the names of columns with good ones, using regex\n",
    "names(d1)"
   ]
  },
  {
   "cell_type": "code",
   "execution_count": 48,
   "metadata": {},
   "outputs": [
    {
     "data": {
      "text/html": [
       "<ol class=list-inline>\n",
       "\t<li>'id of patient'</li>\n",
       "\t<li>'patient age'</li>\n",
       "</ol>\n"
      ],
      "text/latex": [
       "\\begin{enumerate*}\n",
       "\\item 'id of patient'\n",
       "\\item 'patient age'\n",
       "\\end{enumerate*}\n"
      ],
      "text/markdown": [
       "1. 'id of patient'\n",
       "2. 'patient age'\n",
       "\n",
       "\n"
      ],
      "text/plain": [
       "[1] \"id of patient\" \"patient age\"  "
      ]
     },
     "metadata": {},
     "output_type": "display_data"
    }
   ],
   "source": [
    "names(d1) <- gsub(pattern = \"(\\\\.)+\", replacement = \" \", names(d1))\n",
    "names(d1)"
   ]
  },
  {
   "cell_type": "code",
   "execution_count": 49,
   "metadata": {},
   "outputs": [
    {
     "data": {
      "text/html": [
       "<ol class=list-inline>\n",
       "\t<li>'vitamin E'</li>\n",
       "\t<li>'vitamin ESTER-C'</li>\n",
       "\t<li>' vitamin E '</li>\n",
       "\t<li>'vitamin E(ointment)'</li>\n",
       "\t<li>'NA'</li>\n",
       "\t<li>'provitamin E\n",
       "'</li>\n",
       "\t<li>'vit E'</li>\n",
       "</ol>\n"
      ],
      "text/latex": [
       "\\begin{enumerate*}\n",
       "\\item 'vitamin E'\n",
       "\\item 'vitamin ESTER-C'\n",
       "\\item ' vitamin E '\n",
       "\\item 'vitamin E(ointment)'\n",
       "\\item 'NA'\n",
       "\\item 'provitamin E\n",
       "'\n",
       "\\item 'vit E'\n",
       "\\end{enumerate*}\n"
      ],
      "text/markdown": [
       "1. 'vitamin E'\n",
       "2. 'vitamin ESTER-C'\n",
       "3. ' vitamin E '\n",
       "4. 'vitamin E(ointment)'\n",
       "5. 'NA'\n",
       "6. 'provitamin E\n",
       "'\n",
       "7. 'vit E'\n",
       "\n",
       "\n"
      ],
      "text/plain": [
       "[1] \"vitamin E\"           \"vitamin ESTER-C\"     \" vitamin E \"        \n",
       "[4] \"vitamin E(ointment)\" NA                    \"provitamin E\\n\"     \n",
       "[7] \"vit E\"              "
      ]
     },
     "metadata": {},
     "output_type": "display_data"
    }
   ],
   "source": [
    "# Exercise 3 : Define drugs with the character strings with only spaces as missing data (NA)\n",
    "d[[\"drug\"]][grepl(pattern=\"^[:space:]*$\", x=d[[\"drug\"]], ignore.case=TRUE)] <- NA\n",
    "d[[\"drug\"]]"
   ]
  },
  {
   "cell_type": "code",
   "execution_count": 51,
   "metadata": {},
   "outputs": [
    {
     "data": {
      "text/html": [
       "'vitamin E'"
      ],
      "text/latex": [
       "'vitamin E'"
      ],
      "text/markdown": [
       "'vitamin E'"
      ],
      "text/plain": [
       "[1] \"vitamin E\""
      ]
     },
     "metadata": {},
     "output_type": "display_data"
    }
   ],
   "source": [
    "# exercise 4 : get all drugs with 'vitamin E' only\n",
    "d[[\"drug\"]][grepl(pattern = \"^vitamin E$\", x=d[[\"drug\"]])]"
   ]
  },
  {
   "cell_type": "code",
   "execution_count": 52,
   "metadata": {},
   "outputs": [
    {
     "data": {
      "text/html": [
       "'hotmail.com'"
      ],
      "text/latex": [
       "'hotmail.com'"
      ],
      "text/markdown": [
       "'hotmail.com'"
      ],
      "text/plain": [
       "[1] \"hotmail.com\""
      ]
     },
     "metadata": {},
     "output_type": "display_data"
    }
   ],
   "source": [
    "# exercise 5: extract email provider from email\n",
    "email <- \"my.email@hotmail.com\"\n",
    "\n",
    "gsub(pattern = \"^(.+)@(.+)$\", x=email, replacement = \"\\\\2\")"
   ]
  },
  {
   "cell_type": "code",
   "execution_count": null,
   "metadata": {
    "collapsed": true
   },
   "outputs": [],
   "source": []
  }
 ],
 "metadata": {
  "kernelspec": {
   "display_name": "R",
   "language": "R",
   "name": "ir"
  },
  "language_info": {
   "codemirror_mode": "r",
   "file_extension": ".r",
   "mimetype": "text/x-r-source",
   "name": "R",
   "pygments_lexer": "r",
   "version": "3.4.1"
  }
 },
 "nbformat": 4,
 "nbformat_minor": 2
}
