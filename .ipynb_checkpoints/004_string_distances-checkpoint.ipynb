{
 "cells": [
  {
   "cell_type": "code",
   "execution_count": 2,
   "metadata": {},
   "outputs": [],
   "source": [
    "# String distances\n",
    "# stringdist to compute distances between strings\n",
    "\n",
    "# adist: compute the levenstein distance between strings\n",
    "# agrep: approximate regulare expressions"
   ]
  },
  {
   "cell_type": "code",
   "execution_count": 3,
   "metadata": {},
   "outputs": [
    {
     "name": "stdout",
     "output_type": "stream",
     "text": [
      "     [,1] [,2] [,3] [,4] [,5] [,6]\n",
      "[1,]    0    9    8    1    2   19\n",
      "[1] \"Warner Bros Pictures\"   \"Warner Bro. Pictures\"   \"Warners Bros. Pictures\"\n",
      "[1] \"Warner Bros Pictures\"     \"Warner Bros.\"            \n",
      "[3] \"Warner Brothers\"          \"Warner Bro. Pictures\"    \n",
      "[5] \"Warners Bros. Pictures\"   \"Universal / Warner Bros.\"\n"
     ]
    }
   ],
   "source": [
    "# examples\n",
    "wb <- c(\"Warner Bros Pictures\", \"Warner Bros.\", \"Warner Brothers\", \"Warner Bro. Pictures\", \"Warners Bros. Pictures\", \"Universal / Warner Bros.\")\n",
    "print(adist(x = \"Warner Bros Pictures\", y = wb))\n",
    "print(agrep(pattern = \"Warner Bros Pictures\", x = wb, max.distance = 0.1, value=TRUE))\n",
    "print(agrep(pattern = \"Warner Bros Pictures\", x = wb, costs = list(insertions = 0.1, deletions = 0.5, substitutions = 1), max.distance = 0.1, value=TRUE))"
   ]
  },
  {
   "cell_type": "code",
   "execution_count": 4,
   "metadata": {},
   "outputs": [
    {
     "name": "stderr",
     "output_type": "stream",
     "text": [
      "Updating HTML index of packages in '.Library'\n",
      "Making 'packages.html' ... done\n"
     ]
    },
    {
     "data": {
      "text/html": [
       "<ol class=list-inline>\n",
       "\t<li>0</li>\n",
       "\t<li>9</li>\n",
       "\t<li>8</li>\n",
       "\t<li>1</li>\n",
       "\t<li>2</li>\n",
       "\t<li>19</li>\n",
       "</ol>\n"
      ],
      "text/latex": [
       "\\begin{enumerate*}\n",
       "\\item 0\n",
       "\\item 9\n",
       "\\item 8\n",
       "\\item 1\n",
       "\\item 2\n",
       "\\item 19\n",
       "\\end{enumerate*}\n"
      ],
      "text/markdown": [
       "1. 0\n",
       "2. 9\n",
       "3. 8\n",
       "4. 1\n",
       "5. 2\n",
       "6. 19\n",
       "\n",
       "\n"
      ],
      "text/plain": [
       "[1]  0  9  8  1  2 19"
      ]
     },
     "metadata": {},
     "output_type": "display_data"
    },
    {
     "data": {
      "text/html": [
       "<ol class=list-inline>\n",
       "\t<li>0</li>\n",
       "\t<li>10</li>\n",
       "\t<li>9</li>\n",
       "\t<li>2</li>\n",
       "\t<li>2</li>\n",
       "\t<li>22</li>\n",
       "</ol>\n"
      ],
      "text/latex": [
       "\\begin{enumerate*}\n",
       "\\item 0\n",
       "\\item 10\n",
       "\\item 9\n",
       "\\item 2\n",
       "\\item 2\n",
       "\\item 22\n",
       "\\end{enumerate*}\n"
      ],
      "text/markdown": [
       "1. 0\n",
       "2. 10\n",
       "3. 9\n",
       "4. 2\n",
       "5. 2\n",
       "6. 22\n",
       "\n",
       "\n"
      ],
      "text/plain": [
       "[1]  0 10  9  2  2 22"
      ]
     },
     "metadata": {},
     "output_type": "display_data"
    }
   ],
   "source": [
    "install.packages(\"stringdist\")\n",
    "require(stringdist) ## Get Hamming/Levehnstein distances\n",
    "stringdist(a = \"Warner Bros Pictures\", wb, method = \"hamming\")\n",
    "stringdist(a = \"Warner Bros Pictures\", wb, method = \"lv\")\n",
    "## Optimal String Alignment and Longest common substring distance\n",
    "stringdist(a = \"Warner Bros Pictures\", wb, method = \"osa\")\n",
    "stringdist(a = \"Warner Bros Pictures\", wb, method = \"lcs\")"
   ]
  },
  {
   "cell_type": "code",
   "execution_count": 5,
   "metadata": {},
   "outputs": [
    {
     "data": {
      "text/html": [
       "<ol class=list-inline>\n",
       "\t<li>TRUE</li>\n",
       "\t<li>FALSE</li>\n",
       "\t<li>FALSE</li>\n",
       "\t<li>FALSE</li>\n",
       "\t<li>FALSE</li>\n",
       "\t<li>FALSE</li>\n",
       "</ol>\n"
      ],
      "text/latex": [
       "\\begin{enumerate*}\n",
       "\\item TRUE\n",
       "\\item FALSE\n",
       "\\item FALSE\n",
       "\\item FALSE\n",
       "\\item FALSE\n",
       "\\item FALSE\n",
       "\\end{enumerate*}\n"
      ],
      "text/markdown": [
       "1. TRUE\n",
       "2. FALSE\n",
       "3. FALSE\n",
       "4. FALSE\n",
       "5. FALSE\n",
       "6. FALSE\n",
       "\n",
       "\n"
      ],
      "text/plain": [
       "[1]  TRUE FALSE FALSE FALSE FALSE FALSE"
      ]
     },
     "metadata": {},
     "output_type": "display_data"
    },
    {
     "data": {
      "text/html": [
       "<ol class=list-inline>\n",
       "\t<li>TRUE</li>\n",
       "\t<li>FALSE</li>\n",
       "\t<li>FALSE</li>\n",
       "\t<li>TRUE</li>\n",
       "\t<li>TRUE</li>\n",
       "\t<li>FALSE</li>\n",
       "</ol>\n"
      ],
      "text/latex": [
       "\\begin{enumerate*}\n",
       "\\item TRUE\n",
       "\\item FALSE\n",
       "\\item FALSE\n",
       "\\item TRUE\n",
       "\\item TRUE\n",
       "\\item FALSE\n",
       "\\end{enumerate*}\n"
      ],
      "text/markdown": [
       "1. TRUE\n",
       "2. FALSE\n",
       "3. FALSE\n",
       "4. TRUE\n",
       "5. TRUE\n",
       "6. FALSE\n",
       "\n",
       "\n"
      ],
      "text/plain": [
       "[1]  TRUE FALSE FALSE  TRUE  TRUE FALSE"
      ]
     },
     "metadata": {},
     "output_type": "display_data"
    }
   ],
   "source": [
    "# approximate operators\n",
    "wb %in% \"Warner Bros Pictures\"\n",
    "ain(x=wb, table=\"Warner Bros Pictures\", maxDist = 4, method = \"lv\")"
   ]
  },
  {
   "cell_type": "code",
   "execution_count": 6,
   "metadata": {},
   "outputs": [
    {
     "data": {
      "text/html": [
       "<table>\n",
       "<thead><tr><th></th><th scope=col>le</th><th scope=col>li</th><th scope=col>ei</th><th scope=col>il</th><th scope=col>la</th><th scope=col>el</th><th scope=col>al</th><th scope=col>ee</th></tr></thead>\n",
       "<tbody>\n",
       "\t<tr><th scope=row>a</th><td>1</td><td>1</td><td>1</td><td>1</td><td>1</td><td>0</td><td>1</td><td>0</td></tr>\n",
       "\t<tr><th scope=row>b</th><td>1</td><td>0</td><td>0</td><td>0</td><td>2</td><td>1</td><td>1</td><td>1</td></tr>\n",
       "</tbody>\n",
       "</table>\n"
      ],
      "text/latex": [
       "\\begin{tabular}{r|llllllll}\n",
       "  & le & li & ei & il & la & el & al & ee\\\\\n",
       "\\hline\n",
       "\ta & 1 & 1 & 1 & 1 & 1 & 0 & 1 & 0\\\\\n",
       "\tb & 1 & 0 & 0 & 0 & 2 & 1 & 1 & 1\\\\\n",
       "\\end{tabular}\n"
      ],
      "text/markdown": [
       "\n",
       "| <!--/--> | le | li | ei | il | la | el | al | ee | \n",
       "|---|---|\n",
       "| a | 1 | 1 | 1 | 1 | 1 | 0 | 1 | 0 | \n",
       "| b | 1 | 0 | 0 | 0 | 2 | 1 | 1 | 1 | \n",
       "\n",
       "\n"
      ],
      "text/plain": [
       "  le li ei il la el al ee\n",
       "a 1  1  1  1  1  0  1  0 \n",
       "b 1  0  0  0  2  1  1  1 "
      ]
     },
     "metadata": {},
     "output_type": "display_data"
    },
    {
     "data": {
      "text/html": [
       "0.625"
      ],
      "text/latex": [
       "0.625"
      ],
      "text/markdown": [
       "0.625"
      ],
      "text/plain": [
       "[1] 0.625"
      ]
     },
     "metadata": {},
     "output_type": "display_data"
    },
    {
     "data": {
      "text/html": [
       "6"
      ],
      "text/latex": [
       "6"
      ],
      "text/markdown": [
       "6"
      ],
      "text/plain": [
       "[1] 6"
      ]
     },
     "metadata": {},
     "output_type": "display_data"
    }
   ],
   "source": [
    "# qgram based distance\n",
    "qgrams(a = \"leilali\", b = \"leelala\", q = 2)\n",
    "stringdist('leilali', 'leelala', method='jaccard', q = 2) # 1 - ((3/8) in common)\n",
    "stringdist('leilali', 'leelala', method='qgram', q = 2) # sum of abs(row 1 - row 2)"
   ]
  },
  {
   "cell_type": "code",
   "execution_count": 7,
   "metadata": {},
   "outputs": [
    {
     "data": {
      "text/html": [
       "0.0555555555555556"
      ],
      "text/latex": [
       "0.0555555555555556"
      ],
      "text/markdown": [
       "0.0555555555555556"
      ],
      "text/plain": [
       "[1] 0.05555556"
      ]
     },
     "metadata": {},
     "output_type": "display_data"
    },
    {
     "data": {
      "text/html": [
       "0.0555555555555556"
      ],
      "text/latex": [
       "0.0555555555555556"
      ],
      "text/markdown": [
       "0.0555555555555556"
      ],
      "text/plain": [
       "[1] 0.05555556"
      ]
     },
     "metadata": {},
     "output_type": "display_data"
    },
    {
     "data": {
      "text/html": [
       "0.0555555555555557"
      ],
      "text/latex": [
       "0.0555555555555557"
      ],
      "text/markdown": [
       "0.0555555555555557"
      ],
      "text/plain": [
       "[1] 0.05555556"
      ]
     },
     "metadata": {},
     "output_type": "display_data"
    }
   ],
   "source": [
    "# heuristic\n",
    "# dropped a letter at the end, low penalty\n",
    "stringdist('Jan Wijffels', 'Jan Wijfel', method='jw')\n",
    "# low penality on swapping\n",
    "stringdist('Jan Wijffels', 'Jna Wijffesl', method='jw')\n",
    "# mistyping higher penalty than swapping\n",
    "stringdist('Jan Wijffels', 'Jen Wijffels', method='jw')"
   ]
  },
  {
   "cell_type": "code",
   "execution_count": 15,
   "metadata": {},
   "outputs": [
    {
     "data": {
      "text/html": [
       "'Hélain'"
      ],
      "text/latex": [
       "'Hélain'"
      ],
      "text/markdown": [
       "'Hélain'"
      ],
      "text/plain": [
       "[1] \"Hélain\""
      ]
     },
     "metadata": {},
     "output_type": "display_data"
    },
    {
     "data": {
      "text/html": [
       "'Bernard'"
      ],
      "text/latex": [
       "'Bernard'"
      ],
      "text/markdown": [
       "'Bernard'"
      ],
      "text/plain": [
       "[1] \"Bernard\""
      ]
     },
     "metadata": {},
     "output_type": "display_data"
    },
    {
     "data": {
      "text/html": [
       "'Bernard'"
      ],
      "text/latex": [
       "'Bernard'"
      ],
      "text/markdown": [
       "'Bernard'"
      ],
      "text/plain": [
       "[1] \"Bernard\""
      ]
     },
     "metadata": {},
     "output_type": "display_data"
    }
   ],
   "source": [
    "# exercise 1\n",
    "students <- c(\"Bernard\", \"Hélain\", \"Bob\", \"Clark Kent\", \"Hélaine\")\n",
    "selectMatching <- function(name, nameVector) {\n",
    "    nameVector[which.min(stringdist(a=name, nameVector, method = \"hamming\"))] }\n",
    "selectMatching(\"Hélain\", students)\n",
    "selectMatching(\"B\", students)\n",
    "selectMatching(\"Clak Kent\", students) # seems this method does not handle well removals of letters"
   ]
  }
 ],
 "metadata": {
  "kernelspec": {
   "display_name": "R",
   "language": "R",
   "name": "ir"
  },
  "language_info": {
   "codemirror_mode": "r",
   "file_extension": ".r",
   "mimetype": "text/x-r-source",
   "name": "R",
   "pygments_lexer": "r",
   "version": "3.4.1"
  }
 },
 "nbformat": 4,
 "nbformat_minor": 2
}
