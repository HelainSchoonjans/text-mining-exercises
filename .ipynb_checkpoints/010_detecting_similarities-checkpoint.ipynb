{
 "cells": [
  {
   "cell_type": "code",
   "execution_count": 1,
   "metadata": {},
   "outputs": [
    {
     "name": "stderr",
     "output_type": "stream",
     "text": [
      "also installing the dependency ‘RcppProgress’\n",
      "\n",
      "Updating HTML index of packages in '.Library'\n",
      "Making 'packages.html' ... done\n"
     ]
    }
   ],
   "source": [
    "install.packages(\"textreuse\")"
   ]
  },
  {
   "cell_type": "code",
   "execution_count": 2,
   "metadata": {},
   "outputs": [
    {
     "data": {
      "text/html": [
       "0.4"
      ],
      "text/latex": [
       "0.4"
      ],
      "text/markdown": [
       "0.4"
      ],
      "text/plain": [
       "[1] 0.4"
      ]
     },
     "metadata": {},
     "output_type": "display_data"
    }
   ],
   "source": [
    "library(textreuse)\n",
    "jaccard_similarity(1:6, 3:10) # 3, 4, 5, 6 are overlapping of all 10 elements"
   ]
  },
  {
   "cell_type": "code",
   "execution_count": 3,
   "metadata": {},
   "outputs": [
    {
     "data": {
      "text/html": [
       "0.5"
      ],
      "text/latex": [
       "0.5"
      ],
      "text/markdown": [
       "0.5"
      ],
      "text/plain": [
       "[1] 0.5"
      ]
     },
     "metadata": {},
     "output_type": "display_data"
    }
   ],
   "source": [
    "ratio_of_matches(1:6, 3:10) # items in right which are also in left 3,4,5,6 out of 3,4,5,6,"
   ]
  },
  {
   "cell_type": "code",
   "execution_count": 4,
   "metadata": {},
   "outputs": [
    {
     "data": {
      "text/html": [
       "0.285714285714286"
      ],
      "text/latex": [
       "0.285714285714286"
      ],
      "text/markdown": [
       "0.285714285714286"
      ],
      "text/plain": [
       "[1] 0.2857143"
      ]
     },
     "metadata": {},
     "output_type": "display_data"
    }
   ],
   "source": [
    "jaccard_bag_similarity(1:6, 3:10) # 4/14 elements are overlapping"
   ]
  },
  {
   "cell_type": "code",
   "execution_count": 5,
   "metadata": {},
   "outputs": [
    {
     "data": {
      "text/html": [
       "<dl>\n",
       "\t<dt>$a_edits</dt>\n",
       "\t\t<dd>'The answer is blowin ####### in the wind'</dd>\n",
       "\t<dt>$b_edits</dt>\n",
       "\t\t<dd>'the answer is ###### blowing in the wind'</dd>\n",
       "\t<dt>$score</dt>\n",
       "\t\t<dd>11</dd>\n",
       "</dl>\n"
      ],
      "text/latex": [
       "\\begin{description}\n",
       "\\item[\\$a\\_edits] 'The answer is blowin \\#\\#\\#\\#\\#\\#\\# in the wind'\n",
       "\\item[\\$b\\_edits] 'the answer is \\#\\#\\#\\#\\#\\# blowing in the wind'\n",
       "\\item[\\$score] 11\n",
       "\\end{description}\n"
      ],
      "text/markdown": [
       "$a_edits\n",
       ":   'The answer is blowin ####### in the wind'\n",
       "$b_edits\n",
       ":   'the answer is ###### blowing in the wind'\n",
       "$score\n",
       ":   11\n",
       "\n",
       "\n"
      ],
      "text/plain": [
       "TextReuse alignment\n",
       "Alignment score: 11 \n",
       "Document A:\n",
       "The answer is blowin ####### in the wind\n",
       "\n",
       "Document B:\n",
       "the answer is ###### blowing in the wind"
      ]
     },
     "metadata": {},
     "output_type": "display_data"
    }
   ],
   "source": [
    "align_local(\"The answer is blowin' in the wind.\", \"As the Bob Dylan song says, the answer is blowing in the wind.\", match = 2, mismatch = -1, \n",
    "            gap = -1, edit_mark = \"#\")"
   ]
  },
  {
   "cell_type": "code",
   "execution_count": 6,
   "metadata": {},
   "outputs": [],
   "source": [
    "# exercise\n",
    "gpl2 <- readLines(url(\"https://www.gnu.org/licenses/gpl-2.0.txt\"))\n",
    "gpl3 <- readLines(url(\"https://www.gnu.org/licenses/gpl-3.0.txt\"))\n",
    "gpl2 <- paste(gpl2, collapse = \" \")\n",
    "gpl3 <- paste(gpl3, collapse = \" \")"
   ]
  },
  {
   "cell_type": "code",
   "execution_count": null,
   "metadata": {},
   "outputs": [],
   "source": [
    "# 1: find similarities between these two texts"
   ]
  },
  {
   "cell_type": "code",
   "execution_count": null,
   "metadata": {},
   "outputs": [],
   "source": [
    "# 2: align the gpl2 and gpl3 licenses. Get the alignement score"
   ]
  }
 ],
 "metadata": {
  "kernelspec": {
   "display_name": "R",
   "language": "R",
   "name": "ir"
  },
  "language_info": {
   "codemirror_mode": "r",
   "file_extension": ".r",
   "mimetype": "text/x-r-source",
   "name": "R",
   "pygments_lexer": "r",
   "version": "3.4.1"
  }
 },
 "nbformat": 4,
 "nbformat_minor": 2
}
