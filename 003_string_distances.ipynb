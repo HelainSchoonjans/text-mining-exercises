{
 "cells": [
  {
   "cell_type": "code",
   "execution_count": 1,
   "metadata": {
    "collapsed": true
   },
   "outputs": [],
   "source": [
    "# String distances\n",
    "# stringdist to compute distances between strings\n",
    "\n",
    "# adist: compute the levenstein distance between strings\n",
    "# agrep: approximate regulare expressions"
   ]
  },
  {
   "cell_type": "code",
   "execution_count": 2,
   "metadata": {
    "collapsed": false
   },
   "outputs": [
    {
     "name": "stdout",
     "output_type": "stream",
     "text": [
      "     [,1] [,2] [,3] [,4] [,5] [,6]\n",
      "[1,]    0    9    8    1    2   19\n",
      "[1] \"Warner Bros Pictures\"   \"Warner Bro. Pictures\"   \"Warners Bros. Pictures\"\n",
      "[1] \"Warner Bros Pictures\"     \"Warner Bros.\"            \n",
      "[3] \"Warner Brothers\"          \"Warner Bro. Pictures\"    \n",
      "[5] \"Warners Bros. Pictures\"   \"Universal / Warner Bros.\"\n"
     ]
    }
   ],
   "source": [
    "# examples\n",
    "wb <- c(\"Warner Bros Pictures\", \"Warner Bros.\", \"Warner Brothers\", \"Warner Bro. Pictures\", \"Warners Bros. Pictures\", \"Universal / Warner Bros.\")\n",
    "print(adist(x = \"Warner Bros Pictures\", y = wb))\n",
    "print(agrep(pattern = \"Warner Bros Pictures\", x = wb, max.distance = 0.1, value=TRUE))\n",
    "print(agrep(pattern = \"Warner Bros Pictures\", x = wb, costs = list(insertions = 0.1, deletions = 0.5, substitutions = 1), max.distance = 0.1, value=TRUE))"
   ]
  },
  {
   "cell_type": "code",
   "execution_count": 3,
   "metadata": {
    "collapsed": false
   },
   "outputs": [
    {
     "name": "stderr",
     "output_type": "stream",
     "text": [
      "Loading required package: stringdist\n",
      "Warning message in library(package, lib.loc = lib.loc, character.only = TRUE, logical.return = TRUE, :\n",
      "“there is no package called ‘stringdist’”"
     ]
    },
    {
     "ename": "ERROR",
     "evalue": "Error in eval(expr, envir, enclos): could not find function \"stringdist\"\n",
     "output_type": "error",
     "traceback": [
      "Error in eval(expr, envir, enclos): could not find function \"stringdist\"\nTraceback:\n"
     ]
    }
   ],
   "source": [
    "require(stringdist) ## Get Hamming/Levehnstein distances stringdist(a = \"Warner Bros Pictures\", wb, method = \"hamming\")\n",
    "stringdist(a = \"Warner Bros Pictures\", wb, method = \"lv\")\n",
    "## Optimal String Alignment and Longest common substring distance stringdist(a = \"Warner Bros Pictures\", wb, method = \"osa\")\n",
    "stringdist(a = \"Warner Bros Pictures\", wb, method = \"lcs\")"
   ]
  },
  {
   "cell_type": "code",
   "execution_count": 4,
   "metadata": {
    "collapsed": false
   },
   "outputs": [
    {
     "data": {
      "text/html": [
       "<ol class=list-inline>\n",
       "\t<li>TRUE</li>\n",
       "\t<li>FALSE</li>\n",
       "\t<li>FALSE</li>\n",
       "\t<li>FALSE</li>\n",
       "\t<li>FALSE</li>\n",
       "\t<li>FALSE</li>\n",
       "</ol>\n"
      ],
      "text/latex": [
       "\\begin{enumerate*}\n",
       "\\item TRUE\n",
       "\\item FALSE\n",
       "\\item FALSE\n",
       "\\item FALSE\n",
       "\\item FALSE\n",
       "\\item FALSE\n",
       "\\end{enumerate*}\n"
      ],
      "text/markdown": [
       "1. TRUE\n",
       "2. FALSE\n",
       "3. FALSE\n",
       "4. FALSE\n",
       "5. FALSE\n",
       "6. FALSE\n",
       "\n",
       "\n"
      ],
      "text/plain": [
       "[1]  TRUE FALSE FALSE FALSE FALSE FALSE"
      ]
     },
     "metadata": {},
     "output_type": "display_data"
    },
    {
     "ename": "ERROR",
     "evalue": "Error in eval(expr, envir, enclos): could not find function \"ain\"\n",
     "output_type": "error",
     "traceback": [
      "Error in eval(expr, envir, enclos): could not find function \"ain\"\nTraceback:\n"
     ]
    }
   ],
   "source": [
    "# approximate operators\n",
    "wb %in% \"Warner Bros Pictures\"\n",
    "ain(x=wb, table=\"Warner Bros Pictures\", maxDist = 4, method = \"lv\")"
   ]
  },
  {
   "cell_type": "code",
   "execution_count": 5,
   "metadata": {
    "collapsed": false
   },
   "outputs": [
    {
     "ename": "ERROR",
     "evalue": "Error in eval(expr, envir, enclos): could not find function \"qgrams\"\n",
     "output_type": "error",
     "traceback": [
      "Error in eval(expr, envir, enclos): could not find function \"qgrams\"\nTraceback:\n"
     ]
    }
   ],
   "source": [
    "qgrams(a = \"leilali\", b = \"leelala\", q = 2)\n",
    "stringdist('leilali', 'leelala', method='jaccard', q = 2) # 1 - ((3/8) in common)\n",
    "stringdist('leilali', 'leelala', method='qgram', q = 2) # sum of abs(row 1 - row 2)"
   ]
  },
  {
   "cell_type": "code",
   "execution_count": null,
   "metadata": {
    "collapsed": true
   },
   "outputs": [],
   "source": [
    "# page 42... of course"
   ]
  }
 ],
 "metadata": {
  "kernelspec": {
   "display_name": "R",
   "language": "R",
   "name": "ir"
  },
  "language_info": {
   "codemirror_mode": "r",
   "file_extension": ".r",
   "mimetype": "text/x-r-source",
   "name": "R",
   "pygments_lexer": "r",
   "version": "3.3.1"
  }
 },
 "nbformat": 4,
 "nbformat_minor": 2
}
