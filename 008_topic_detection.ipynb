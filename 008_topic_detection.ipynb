{
 "cells": [
  {
   "cell_type": "code",
   "execution_count": 2,
   "metadata": {},
   "outputs": [
    {
     "name": "stderr",
     "output_type": "stream",
     "text": [
      "Updating HTML index of packages in '.Library'\n",
      "Making 'packages.html' ... done\n",
      "also installing the dependency ‘modeltools’\n",
      "\n",
      "Updating HTML index of packages in '.Library'\n",
      "Making 'packages.html' ... done\n",
      "Updating HTML index of packages in '.Library'\n",
      "Making 'packages.html' ... done\n",
      "Updating HTML index of packages in '.Library'\n",
      "Making 'packages.html' ... done\n"
     ]
    }
   ],
   "source": [
    "install.packages(\"udpipe\")\n",
    "install.packages(\"topicmodels\")\n",
    "install.packages(\"tm\")\n",
    "install.packages(\"slam\")"
   ]
  },
  {
   "cell_type": "code",
   "execution_count": 4,
   "metadata": {},
   "outputs": [],
   "source": [
    "load(\"data/mymovies.Rdata\")"
   ]
  },
  {
   "cell_type": "code",
   "execution_count": 5,
   "metadata": {},
   "outputs": [
    {
     "data": {
      "text/html": [
       "<ol class=list-inline>\n",
       "\t<li>2114</li>\n",
       "\t<li>500</li>\n",
       "</ol>\n"
      ],
      "text/latex": [
       "\\begin{enumerate*}\n",
       "\\item 2114\n",
       "\\item 500\n",
       "\\end{enumerate*}\n"
      ],
      "text/markdown": [
       "1. 2114\n",
       "2. 500\n",
       "\n",
       "\n"
      ],
      "text/plain": [
       "[1] 2114  500"
      ]
     },
     "metadata": {},
     "output_type": "display_data"
    }
   ],
   "source": [
    "library(topicmodels)\n",
    "library(udpipe)\n",
    "library(tm) \n",
    "library(slam)\n",
    "txt <- tolower(mymovies$tomatoConsensus)\n",
    "txt <- removeWords(txt, words = stopwords(\"english\"))\n",
    "mycorpus <- Corpus(x = VectorSource(txt))\n",
    "mycorpus <- tm_map(mycorpus, FUN=function(x) stripWhitespace(x))\n",
    "## Build Document Term matrix\n",
    "mydtm <- DocumentTermMatrix(mycorpus, control = list(wordLengths = c(2, Inf), bounds = list(global = c(5, Inf)))) ## tfidf\n",
    "term_tfidf <- tapply(mydtm$v/row_sums(mydtm)[mydtm$i], mydtm$j, mean) * log2(nrow(mydtm)/col_sums(mydtm > 0))\n",
    "mydtm <- mydtm[, term_tfidf >= quantile(term_tfidf, 0.5)]\n",
    "## Work only on the top 500 words if more words are occuring\n",
    "termfreq <- col_sums(mydtm)\n",
    "termfreq <- sort(termfreq, decreasing = TRUE)\n",
    "termfreq <- head(termfreq, 500)\n",
    "mydtm <- mydtm[, intersect(colnames(mydtm), names(termfreq))]\n",
    "mydtm <- mydtm[, col_sums(mydtm) > 5]\n",
    "mydtm <- mydtm[row_sums(mydtm) > 0, ]\n",
    "dim(mydtm)"
   ]
  },
  {
   "cell_type": "code",
   "execution_count": 6,
   "metadata": {},
   "outputs": [
    {
     "data": {
      "text/plain": [
       "A LDA_VEM topic model with 7 topics."
      ]
     },
     "metadata": {},
     "output_type": "display_data"
    }
   ],
   "source": [
    "set.seed(123456789)\n",
    "m <- LDA(x = mydtm, k = 7, method = \"VEM\", control = list(alpha = 0.1))\n",
    "m"
   ]
  },
  {
   "cell_type": "code",
   "execution_count": 7,
   "metadata": {},
   "outputs": [
    {
     "data": {
      "text/html": [
       "<ol class=list-inline>\n",
       "\t<li>'alpha'</li>\n",
       "\t<li>'call'</li>\n",
       "\t<li>'Dim'</li>\n",
       "\t<li>'control'</li>\n",
       "\t<li>'k'</li>\n",
       "\t<li>'terms'</li>\n",
       "\t<li>'documents'</li>\n",
       "\t<li>'beta'</li>\n",
       "\t<li>'gamma'</li>\n",
       "\t<li>'wordassignments'</li>\n",
       "\t<li>'loglikelihood'</li>\n",
       "\t<li>'iter'</li>\n",
       "\t<li>'logLiks'</li>\n",
       "\t<li>'n'</li>\n",
       "</ol>\n"
      ],
      "text/latex": [
       "\\begin{enumerate*}\n",
       "\\item 'alpha'\n",
       "\\item 'call'\n",
       "\\item 'Dim'\n",
       "\\item 'control'\n",
       "\\item 'k'\n",
       "\\item 'terms'\n",
       "\\item 'documents'\n",
       "\\item 'beta'\n",
       "\\item 'gamma'\n",
       "\\item 'wordassignments'\n",
       "\\item 'loglikelihood'\n",
       "\\item 'iter'\n",
       "\\item 'logLiks'\n",
       "\\item 'n'\n",
       "\\end{enumerate*}\n"
      ],
      "text/markdown": [
       "1. 'alpha'\n",
       "2. 'call'\n",
       "3. 'Dim'\n",
       "4. 'control'\n",
       "5. 'k'\n",
       "6. 'terms'\n",
       "7. 'documents'\n",
       "8. 'beta'\n",
       "9. 'gamma'\n",
       "10. 'wordassignments'\n",
       "11. 'loglikelihood'\n",
       "12. 'iter'\n",
       "13. 'logLiks'\n",
       "14. 'n'\n",
       "\n",
       "\n"
      ],
      "text/plain": [
       " [1] \"alpha\"           \"call\"            \"Dim\"             \"control\"        \n",
       " [5] \"k\"               \"terms\"           \"documents\"       \"beta\"           \n",
       " [9] \"gamma\"           \"wordassignments\" \"loglikelihood\"   \"iter\"           \n",
       "[13] \"logLiks\"         \"n\"              "
      ]
     },
     "metadata": {},
     "output_type": "display_data"
    }
   ],
   "source": [
    "slotNames(m)"
   ]
  },
  {
   "cell_type": "code",
   "execution_count": 8,
   "metadata": {},
   "outputs": [
    {
     "data": {
      "text/html": [
       "<table>\n",
       "<thead><tr><th></th><th scope=col>1</th><th scope=col>2</th><th scope=col>3</th><th scope=col>4</th><th scope=col>5</th><th scope=col>6</th><th scope=col>7</th></tr></thead>\n",
       "<tbody>\n",
       "\t<tr><th scope=row>1</th><td>0.03707316</td><td>0.03707317</td><td>0.03707316</td><td>0.77756101</td><td>0.03707316</td><td>0.03707316</td><td>0.03707316</td></tr>\n",
       "\t<tr><th scope=row>2</th><td>0.02130044</td><td>0.02130044</td><td>0.02130044</td><td>0.02130044</td><td>0.02130045</td><td>0.02130044</td><td>0.87219733</td></tr>\n",
       "</tbody>\n",
       "</table>\n"
      ],
      "text/latex": [
       "\\begin{tabular}{r|lllllll}\n",
       "  & 1 & 2 & 3 & 4 & 5 & 6 & 7\\\\\n",
       "\\hline\n",
       "\t1 & 0.03707316 & 0.03707317 & 0.03707316 & 0.77756101 & 0.03707316 & 0.03707316 & 0.03707316\\\\\n",
       "\t2 & 0.02130044 & 0.02130044 & 0.02130044 & 0.02130044 & 0.02130045 & 0.02130044 & 0.87219733\\\\\n",
       "\\end{tabular}\n"
      ],
      "text/markdown": [
       "\n",
       "| <!--/--> | 1 | 2 | 3 | 4 | 5 | 6 | 7 | \n",
       "|---|---|\n",
       "| 1 | 0.03707316 | 0.03707317 | 0.03707316 | 0.77756101 | 0.03707316 | 0.03707316 | 0.03707316 | \n",
       "| 2 | 0.02130044 | 0.02130044 | 0.02130044 | 0.02130044 | 0.02130045 | 0.02130044 | 0.87219733 | \n",
       "\n",
       "\n"
      ],
      "text/plain": [
       "  1          2          3          4          5          6          7         \n",
       "1 0.03707316 0.03707317 0.03707316 0.77756101 0.03707316 0.03707316 0.03707316\n",
       "2 0.02130044 0.02130044 0.02130044 0.02130044 0.02130045 0.02130044 0.87219733"
      ]
     },
     "metadata": {},
     "output_type": "display_data"
    }
   ],
   "source": [
    "# posterior probability\n",
    "x <- posterior(m, newdata = mydtm)$topics\n",
    "x[1:2, ]"
   ]
  },
  {
   "cell_type": "code",
   "execution_count": 10,
   "metadata": {},
   "outputs": [
    {
     "data": {
      "text/html": [
       "<dl>\n",
       "\t<dt>$`1`</dt>\n",
       "\t\t<dd><table>\n",
       "<thead><tr><th></th><th scope=col>term</th><th scope=col>prob</th></tr></thead>\n",
       "<tbody>\n",
       "\t<tr><th scope=row>romance</th><td>romance   </td><td>0.02523687</td></tr>\n",
       "\t<tr><th scope=row>less</th><td>less      </td><td>0.02458398</td></tr>\n",
       "\t<tr><th scope=row>beautiful</th><td>beautiful </td><td>0.02258784</td></tr>\n",
       "\t<tr><th scope=row>gross</th><td>gross     </td><td>0.02020333</td></tr>\n",
       "\t<tr><th scope=row>lives</th><td>lives     </td><td>0.01883576</td></tr>\n",
       "</tbody>\n",
       "</table>\n",
       "</dd>\n",
       "\t<dt>$`2`</dt>\n",
       "\t\t<dd><table>\n",
       "<thead><tr><th></th><th scope=col>term</th><th scope=col>prob</th></tr></thead>\n",
       "<tbody>\n",
       "\t<tr><th scope=row>bad</th><td>bad       </td><td>0.04269775</td></tr>\n",
       "\t<tr><th scope=row>moments</th><td>moments   </td><td>0.03273494</td></tr>\n",
       "\t<tr><th scope=row>children</th><td>children  </td><td>0.02988843</td></tr>\n",
       "\t<tr><th scope=row>silly</th><td>silly     </td><td>0.02924999</td></tr>\n",
       "\t<tr><th scope=row>muddled</th><td>muddled   </td><td>0.02254392</td></tr>\n",
       "</tbody>\n",
       "</table>\n",
       "</dd>\n",
       "\t<dt>$`3`</dt>\n",
       "\t\t<dd><table>\n",
       "<thead><tr><th></th><th scope=col>term</th><th scope=col>prob</th></tr></thead>\n",
       "<tbody>\n",
       "\t<tr><th scope=row>derivative</th><td>derivative</td><td>0.02897650</td></tr>\n",
       "\t<tr><th scope=row>audiences</th><td>audiences </td><td>0.02733901</td></tr>\n",
       "\t<tr><th scope=row>scary</th><td>scary     </td><td>0.02445459</td></tr>\n",
       "\t<tr><th scope=row>gory</th><td>gory      </td><td>0.01955350</td></tr>\n",
       "\t<tr><th scope=row>engrossing</th><td>engrossing</td><td>0.01536346</td></tr>\n",
       "</tbody>\n",
       "</table>\n",
       "</dd>\n",
       "\t<dt>$`4`</dt>\n",
       "\t\t<dd><table>\n",
       "<thead><tr><th></th><th scope=col>term</th><th scope=col>prob</th></tr></thead>\n",
       "<tbody>\n",
       "\t<tr><th scope=row>audience</th><td>audience  </td><td>0.01940551</td></tr>\n",
       "\t<tr><th scope=row>heartfelt</th><td>heartfelt </td><td>0.01940551</td></tr>\n",
       "\t<tr><th scope=row>creepy</th><td>creepy    </td><td>0.01642005</td></tr>\n",
       "\t<tr><th scope=row>spirit</th><td>spirit    </td><td>0.01623947</td></tr>\n",
       "\t<tr><th scope=row>feature</th><td>feature   </td><td>0.01492732</td></tr>\n",
       "</tbody>\n",
       "</table>\n",
       "</dd>\n",
       "\t<dt>$`5`</dt>\n",
       "\t\t<dd><table>\n",
       "<thead><tr><th></th><th scope=col>term</th><th scope=col>prob</th></tr></thead>\n",
       "<tbody>\n",
       "\t<tr><th scope=row>scares</th><td>scares    </td><td>0.02899198</td></tr>\n",
       "\t<tr><th scope=row>road</th><td>road      </td><td>0.02213647</td></tr>\n",
       "\t<tr><th scope=row>appealing</th><td>appealing </td><td>0.01819958</td></tr>\n",
       "\t<tr><th scope=row>remake</th><td>remake    </td><td>0.01673526</td></tr>\n",
       "\t<tr><th scope=row>suspense</th><td>suspense  </td><td>0.01598745</td></tr>\n",
       "</tbody>\n",
       "</table>\n",
       "</dd>\n",
       "\t<dt>$`6`</dt>\n",
       "\t\t<dd><table>\n",
       "<thead><tr><th></th><th scope=col>term</th><th scope=col>prob</th></tr></thead>\n",
       "<tbody>\n",
       "\t<tr><th scope=row>sequel</th><td>sequel       </td><td>0.02633469   </td></tr>\n",
       "\t<tr><th scope=row>unfortunately</th><td>unfortunately</td><td>0.02147686   </td></tr>\n",
       "\t<tr><th scope=row>away</th><td>away         </td><td>0.01882793   </td></tr>\n",
       "\t<tr><th scope=row>heavy</th><td>heavy        </td><td>0.01748308   </td></tr>\n",
       "\t<tr><th scope=row>comedies</th><td>comedies     </td><td>0.01591276   </td></tr>\n",
       "</tbody>\n",
       "</table>\n",
       "</dd>\n",
       "\t<dt>$`7`</dt>\n",
       "\t\t<dd><table>\n",
       "<thead><tr><th></th><th scope=col>term</th><th scope=col>prob</th></tr></thead>\n",
       "<tbody>\n",
       "\t<tr><th scope=row>eye</th><td>eye       </td><td>0.02408521</td></tr>\n",
       "\t<tr><th scope=row>complex</th><td>complex   </td><td>0.02125166</td></tr>\n",
       "\t<tr><th scope=row>exciting</th><td>exciting  </td><td>0.01700133</td></tr>\n",
       "\t<tr><th scope=row>nothing</th><td>nothing   </td><td>0.01700133</td></tr>\n",
       "\t<tr><th scope=row>commentary</th><td>commentary</td><td>0.01700133</td></tr>\n",
       "</tbody>\n",
       "</table>\n",
       "</dd>\n",
       "</dl>\n"
      ],
      "text/latex": [
       "\\begin{description}\n",
       "\\item[\\$`1`] \\begin{tabular}{r|ll}\n",
       "  & term & prob\\\\\n",
       "\\hline\n",
       "\tromance & romance    & 0.02523687\\\\\n",
       "\tless & less       & 0.02458398\\\\\n",
       "\tbeautiful & beautiful  & 0.02258784\\\\\n",
       "\tgross & gross      & 0.02020333\\\\\n",
       "\tlives & lives      & 0.01883576\\\\\n",
       "\\end{tabular}\n",
       "\n",
       "\\item[\\$`2`] \\begin{tabular}{r|ll}\n",
       "  & term & prob\\\\\n",
       "\\hline\n",
       "\tbad & bad        & 0.04269775\\\\\n",
       "\tmoments & moments    & 0.03273494\\\\\n",
       "\tchildren & children   & 0.02988843\\\\\n",
       "\tsilly & silly      & 0.02924999\\\\\n",
       "\tmuddled & muddled    & 0.02254392\\\\\n",
       "\\end{tabular}\n",
       "\n",
       "\\item[\\$`3`] \\begin{tabular}{r|ll}\n",
       "  & term & prob\\\\\n",
       "\\hline\n",
       "\tderivative & derivative & 0.02897650\\\\\n",
       "\taudiences & audiences  & 0.02733901\\\\\n",
       "\tscary & scary      & 0.02445459\\\\\n",
       "\tgory & gory       & 0.01955350\\\\\n",
       "\tengrossing & engrossing & 0.01536346\\\\\n",
       "\\end{tabular}\n",
       "\n",
       "\\item[\\$`4`] \\begin{tabular}{r|ll}\n",
       "  & term & prob\\\\\n",
       "\\hline\n",
       "\taudience & audience   & 0.01940551\\\\\n",
       "\theartfelt & heartfelt  & 0.01940551\\\\\n",
       "\tcreepy & creepy     & 0.01642005\\\\\n",
       "\tspirit & spirit     & 0.01623947\\\\\n",
       "\tfeature & feature    & 0.01492732\\\\\n",
       "\\end{tabular}\n",
       "\n",
       "\\item[\\$`5`] \\begin{tabular}{r|ll}\n",
       "  & term & prob\\\\\n",
       "\\hline\n",
       "\tscares & scares     & 0.02899198\\\\\n",
       "\troad & road       & 0.02213647\\\\\n",
       "\tappealing & appealing  & 0.01819958\\\\\n",
       "\tremake & remake     & 0.01673526\\\\\n",
       "\tsuspense & suspense   & 0.01598745\\\\\n",
       "\\end{tabular}\n",
       "\n",
       "\\item[\\$`6`] \\begin{tabular}{r|ll}\n",
       "  & term & prob\\\\\n",
       "\\hline\n",
       "\tsequel & sequel        & 0.02633469   \\\\\n",
       "\tunfortunately & unfortunately & 0.02147686   \\\\\n",
       "\taway & away          & 0.01882793   \\\\\n",
       "\theavy & heavy         & 0.01748308   \\\\\n",
       "\tcomedies & comedies      & 0.01591276   \\\\\n",
       "\\end{tabular}\n",
       "\n",
       "\\item[\\$`7`] \\begin{tabular}{r|ll}\n",
       "  & term & prob\\\\\n",
       "\\hline\n",
       "\teye & eye        & 0.02408521\\\\\n",
       "\tcomplex & complex    & 0.02125166\\\\\n",
       "\texciting & exciting   & 0.01700133\\\\\n",
       "\tnothing & nothing    & 0.01700133\\\\\n",
       "\tcommentary & commentary & 0.01700133\\\\\n",
       "\\end{tabular}\n",
       "\n",
       "\\end{description}\n"
      ],
      "text/markdown": [
       "$`1`\n",
       ":   \n",
       "| <!--/--> | term | prob | \n",
       "|---|---|---|---|---|\n",
       "| romance | romance    | 0.02523687 | \n",
       "| less | less       | 0.02458398 | \n",
       "| beautiful | beautiful  | 0.02258784 | \n",
       "| gross | gross      | 0.02020333 | \n",
       "| lives | lives      | 0.01883576 | \n",
       "\n",
       "\n",
       "\n",
       "$`2`\n",
       ":   \n",
       "| <!--/--> | term | prob | \n",
       "|---|---|---|---|---|\n",
       "| bad | bad        | 0.04269775 | \n",
       "| moments | moments    | 0.03273494 | \n",
       "| children | children   | 0.02988843 | \n",
       "| silly | silly      | 0.02924999 | \n",
       "| muddled | muddled    | 0.02254392 | \n",
       "\n",
       "\n",
       "\n",
       "$`3`\n",
       ":   \n",
       "| <!--/--> | term | prob | \n",
       "|---|---|---|---|---|\n",
       "| derivative | derivative | 0.02897650 | \n",
       "| audiences | audiences  | 0.02733901 | \n",
       "| scary | scary      | 0.02445459 | \n",
       "| gory | gory       | 0.01955350 | \n",
       "| engrossing | engrossing | 0.01536346 | \n",
       "\n",
       "\n",
       "\n",
       "$`4`\n",
       ":   \n",
       "| <!--/--> | term | prob | \n",
       "|---|---|---|---|---|\n",
       "| audience | audience   | 0.01940551 | \n",
       "| heartfelt | heartfelt  | 0.01940551 | \n",
       "| creepy | creepy     | 0.01642005 | \n",
       "| spirit | spirit     | 0.01623947 | \n",
       "| feature | feature    | 0.01492732 | \n",
       "\n",
       "\n",
       "\n",
       "$`5`\n",
       ":   \n",
       "| <!--/--> | term | prob | \n",
       "|---|---|---|---|---|\n",
       "| scares | scares     | 0.02899198 | \n",
       "| road | road       | 0.02213647 | \n",
       "| appealing | appealing  | 0.01819958 | \n",
       "| remake | remake     | 0.01673526 | \n",
       "| suspense | suspense   | 0.01598745 | \n",
       "\n",
       "\n",
       "\n",
       "$`6`\n",
       ":   \n",
       "| <!--/--> | term | prob | \n",
       "|---|---|---|---|---|\n",
       "| sequel | sequel        | 0.02633469    | \n",
       "| unfortunately | unfortunately | 0.02147686    | \n",
       "| away | away          | 0.01882793    | \n",
       "| heavy | heavy         | 0.01748308    | \n",
       "| comedies | comedies      | 0.01591276    | \n",
       "\n",
       "\n",
       "\n",
       "$`7`\n",
       ":   \n",
       "| <!--/--> | term | prob | \n",
       "|---|---|---|---|---|\n",
       "| eye | eye        | 0.02408521 | \n",
       "| complex | complex    | 0.02125166 | \n",
       "| exciting | exciting   | 0.01700133 | \n",
       "| nothing | nothing    | 0.01700133 | \n",
       "| commentary | commentary | 0.01700133 | \n",
       "\n",
       "\n",
       "\n",
       "\n",
       "\n"
      ],
      "text/plain": [
       "$`1`\n",
       "               term       prob\n",
       "romance     romance 0.02523687\n",
       "less           less 0.02458398\n",
       "beautiful beautiful 0.02258784\n",
       "gross         gross 0.02020333\n",
       "lives         lives 0.01883576\n",
       "\n",
       "$`2`\n",
       "             term       prob\n",
       "bad           bad 0.04269775\n",
       "moments   moments 0.03273494\n",
       "children children 0.02988843\n",
       "silly       silly 0.02924999\n",
       "muddled   muddled 0.02254392\n",
       "\n",
       "$`3`\n",
       "                 term       prob\n",
       "derivative derivative 0.02897650\n",
       "audiences   audiences 0.02733901\n",
       "scary           scary 0.02445459\n",
       "gory             gory 0.01955350\n",
       "engrossing engrossing 0.01536346\n",
       "\n",
       "$`4`\n",
       "               term       prob\n",
       "audience   audience 0.01940551\n",
       "heartfelt heartfelt 0.01940551\n",
       "creepy       creepy 0.01642005\n",
       "spirit       spirit 0.01623947\n",
       "feature     feature 0.01492732\n",
       "\n",
       "$`5`\n",
       "               term       prob\n",
       "scares       scares 0.02899198\n",
       "road           road 0.02213647\n",
       "appealing appealing 0.01819958\n",
       "remake       remake 0.01673526\n",
       "suspense   suspense 0.01598745\n",
       "\n",
       "$`6`\n",
       "                       term       prob\n",
       "sequel               sequel 0.02633469\n",
       "unfortunately unfortunately 0.02147686\n",
       "away                   away 0.01882793\n",
       "heavy                 heavy 0.01748308\n",
       "comedies           comedies 0.01591276\n",
       "\n",
       "$`7`\n",
       "                 term       prob\n",
       "eye               eye 0.02408521\n",
       "complex       complex 0.02125166\n",
       "exciting     exciting 0.01700133\n",
       "nothing       nothing 0.01700133\n",
       "commentary commentary 0.01700133\n"
      ]
     },
     "metadata": {},
     "output_type": "display_data"
    }
   ],
   "source": [
    "# words emitted per topic\n",
    "x <- posterior(m, newdata = mydtm)$terms\n",
    "apply(x, MARGIN=1, FUN=function(x, top = 5){\n",
    "    idx <- order(x, decreasing = TRUE)\n",
    "    out <- data.frame(term = names(x)[idx], prob = x[idx])\n",
    "    head(out, n = top)\n",
    "})"
   ]
  },
  {
   "cell_type": "code",
   "execution_count": 11,
   "metadata": {},
   "outputs": [
    {
     "data": {
      "text/plain": [
       "'log Lik.' -31517.57 (df=3501)"
      ]
     },
     "metadata": {},
     "output_type": "display_data"
    }
   ],
   "source": [
    "logLik(m)"
   ]
  },
  {
   "cell_type": "code",
   "execution_count": 12,
   "metadata": {},
   "outputs": [
    {
     "data": {
      "text/html": [
       "458.631298737589"
      ],
      "text/latex": [
       "458.631298737589"
      ],
      "text/markdown": [
       "458.631298737589"
      ],
      "text/plain": [
       "[1] 458.6313"
      ]
     },
     "metadata": {},
     "output_type": "display_data"
    }
   ],
   "source": [
    "topicmodels::perplexity(m)"
   ]
  },
  {
   "cell_type": "code",
   "execution_count": 13,
   "metadata": {},
   "outputs": [
    {
     "data": {
      "text/html": [
       "<table>\n",
       "<thead><tr><th scope=col>Topic 1</th><th scope=col>Topic 2</th><th scope=col>Topic 3</th><th scope=col>Topic 4</th><th scope=col>Topic 5</th><th scope=col>Topic 6</th><th scope=col>Topic 7</th></tr></thead>\n",
       "<tbody>\n",
       "\t<tr><td>romance      </td><td>bad          </td><td>derivative   </td><td>audience     </td><td>scares       </td><td>sequel       </td><td>eye          </td></tr>\n",
       "\t<tr><td>less         </td><td>moments      </td><td>audiences    </td><td>heartfelt    </td><td>road         </td><td>unfortunately</td><td>complex      </td></tr>\n",
       "\t<tr><td>beautiful    </td><td>children     </td><td>scary        </td><td>creepy       </td><td>appealing    </td><td>away         </td><td>exciting     </td></tr>\n",
       "\t<tr><td>gross        </td><td>silly        </td><td>gory         </td><td>spirit       </td><td>remake       </td><td>heavy        </td><td>nothing      </td></tr>\n",
       "\t<tr><td>lives        </td><td>muddled      </td><td>engrossing   </td><td>feature      </td><td>suspense     </td><td>comedies     </td><td>commentary   </td></tr>\n",
       "</tbody>\n",
       "</table>\n"
      ],
      "text/latex": [
       "\\begin{tabular}{lllllll}\n",
       " Topic 1 & Topic 2 & Topic 3 & Topic 4 & Topic 5 & Topic 6 & Topic 7\\\\\n",
       "\\hline\n",
       "\t romance       & bad           & derivative    & audience      & scares        & sequel        & eye          \\\\\n",
       "\t less          & moments       & audiences     & heartfelt     & road          & unfortunately & complex      \\\\\n",
       "\t beautiful     & children      & scary         & creepy        & appealing     & away          & exciting     \\\\\n",
       "\t gross         & silly         & gory          & spirit        & remake        & heavy         & nothing      \\\\\n",
       "\t lives         & muddled       & engrossing    & feature       & suspense      & comedies      & commentary   \\\\\n",
       "\\end{tabular}\n"
      ],
      "text/markdown": [
       "\n",
       "Topic 1 | Topic 2 | Topic 3 | Topic 4 | Topic 5 | Topic 6 | Topic 7 | \n",
       "|---|---|---|---|---|\n",
       "| romance       | bad           | derivative    | audience      | scares        | sequel        | eye           | \n",
       "| less          | moments       | audiences     | heartfelt     | road          | unfortunately | complex       | \n",
       "| beautiful     | children      | scary         | creepy        | appealing     | away          | exciting      | \n",
       "| gross         | silly         | gory          | spirit        | remake        | heavy         | nothing       | \n",
       "| lives         | muddled       | engrossing    | feature       | suspense      | comedies      | commentary    | \n",
       "\n",
       "\n"
      ],
      "text/plain": [
       "     Topic 1   Topic 2  Topic 3    Topic 4   Topic 5   Topic 6       Topic 7   \n",
       "[1,] romance   bad      derivative audience  scares    sequel        eye       \n",
       "[2,] less      moments  audiences  heartfelt road      unfortunately complex   \n",
       "[3,] beautiful children scary      creepy    appealing away          exciting  \n",
       "[4,] gross     silly    gory       spirit    remake    heavy         nothing   \n",
       "[5,] lives     muddled  engrossing feature   suspense  comedies      commentary"
      ]
     },
     "metadata": {},
     "output_type": "display_data"
    }
   ],
   "source": [
    "terms(m, 5)"
   ]
  },
  {
   "cell_type": "code",
   "execution_count": 14,
   "metadata": {},
   "outputs": [
    {
     "name": "stderr",
     "output_type": "stream",
     "text": [
      "also installing the dependencies ‘proxy’, ‘RJSONIO’\n",
      "\n",
      "Updating HTML index of packages in '.Library'\n",
      "Making 'packages.html' ... done\n",
      "Updating HTML index of packages in '.Library'\n",
      "Making 'packages.html' ... done\n"
     ]
    }
   ],
   "source": [
    "install.packages(\"LDAvis\")\n",
    "install.packages(\"servr\")\n",
    "library(LDAvis)\n",
    "library(servr) "
   ]
  },
  {
   "cell_type": "code",
   "execution_count": 16,
   "metadata": {},
   "outputs": [],
   "source": [
    "json <- createJSON(phi = posterior(m)$terms, \n",
    "                   theta = posterior(m)$topics, \n",
    "                   doc.length = row_sums(mydtm), \n",
    "                   vocab = colnames(mydtm), \n",
    "                   term.frequency = col_sums(mydtm))\n",
    "serVis(json)"
   ]
  },
  {
   "cell_type": "code",
   "execution_count": null,
   "metadata": {},
   "outputs": [],
   "source": [
    "# exercise 1: Find + visualise topics in the movie plots.\n",
    "# Make an appropriate selection of POS tags (nouns, verbs) to make the topics "
   ]
  },
  {
   "cell_type": "code",
   "execution_count": null,
   "metadata": {},
   "outputs": [],
   "source": [
    "# exercise 2:  Find + visualise topics in the airbnb customer feedback.\n",
    "# Make an appropriate selection of POS tags (nouns, verbs) to make the topics"
   ]
  }
 ],
 "metadata": {
  "kernelspec": {
   "display_name": "R",
   "language": "R",
   "name": "ir"
  },
  "language_info": {
   "codemirror_mode": "r",
   "file_extension": ".r",
   "mimetype": "text/x-r-source",
   "name": "R",
   "pygments_lexer": "r",
   "version": "3.4.1"
  }
 },
 "nbformat": 4,
 "nbformat_minor": 2
}
