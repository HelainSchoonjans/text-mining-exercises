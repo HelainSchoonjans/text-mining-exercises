{
 "cells": [
  {
   "cell_type": "code",
   "execution_count": 18,
   "metadata": {
    "collapsed": false
   },
   "outputs": [
    {
     "data": {
      "text/html": [
       "'Wir gehen Frühstuck essen'"
      ],
      "text/latex": [
       "'Wir gehen Frühstuck essen'"
      ],
      "text/markdown": [
       "'Wir gehen Frühstuck essen'"
      ],
      "text/plain": [
       "[1] \"Wir gehen Frühstuck essen\""
      ]
     },
     "metadata": {},
     "output_type": "display_data"
    }
   ],
   "source": [
    "germanText = \"Wir gehen Frühstuck essen\"\n",
    "germanText"
   ]
  },
  {
   "cell_type": "code",
   "execution_count": 9,
   "metadata": {
    "collapsed": false
   },
   "outputs": [
    {
     "data": {
      "text/html": [
       "'UTF-8'"
      ],
      "text/latex": [
       "'UTF-8'"
      ],
      "text/markdown": [
       "'UTF-8'"
      ],
      "text/plain": [
       "[1] \"UTF-8\""
      ]
     },
     "metadata": {},
     "output_type": "display_data"
    }
   ],
   "source": [
    "# show encoding\n",
    "Encoding(germanText)"
   ]
  },
  {
   "cell_type": "code",
   "execution_count": 10,
   "metadata": {
    "collapsed": false
   },
   "outputs": [
    {
     "data": {
      "text/html": [
       "<ol>\n",
       "\t<li><dl>\n",
       "\t<dt>$Encoding</dt>\n",
       "\t\t<dd><ol class=list-inline>\n",
       "\t<li>'UTF-8'</li>\n",
       "\t<li>'ISO-8859-1'</li>\n",
       "\t<li>'ISO-8859-9'</li>\n",
       "\t<li>'ISO-8859-2'</li>\n",
       "\t<li>'UTF-16BE'</li>\n",
       "\t<li>'UTF-16LE'</li>\n",
       "\t<li>'Shift_JIS'</li>\n",
       "\t<li>'GB18030'</li>\n",
       "\t<li>'EUC-JP'</li>\n",
       "\t<li>'EUC-KR'</li>\n",
       "\t<li>'Big5'</li>\n",
       "</ol>\n",
       "</dd>\n",
       "\t<dt>$Language</dt>\n",
       "\t\t<dd><ol class=list-inline>\n",
       "\t<li>''</li>\n",
       "\t<li>'de'</li>\n",
       "\t<li>'tr'</li>\n",
       "\t<li>'hu'</li>\n",
       "\t<li>''</li>\n",
       "\t<li>''</li>\n",
       "\t<li>'ja'</li>\n",
       "\t<li>'zh'</li>\n",
       "\t<li>'ja'</li>\n",
       "\t<li>'ko'</li>\n",
       "\t<li>'zh'</li>\n",
       "</ol>\n",
       "</dd>\n",
       "\t<dt>$Confidence</dt>\n",
       "\t\t<dd><ol class=list-inline>\n",
       "\t<li>0.8</li>\n",
       "\t<li>0.44</li>\n",
       "\t<li>0.44</li>\n",
       "\t<li>0.22</li>\n",
       "\t<li>0.1</li>\n",
       "\t<li>0.1</li>\n",
       "\t<li>0.1</li>\n",
       "\t<li>0.1</li>\n",
       "\t<li>0.1</li>\n",
       "\t<li>0.1</li>\n",
       "\t<li>0.1</li>\n",
       "</ol>\n",
       "</dd>\n",
       "</dl>\n",
       "</li>\n",
       "</ol>\n"
      ],
      "text/latex": [
       "\\begin{enumerate}\n",
       "\\item \\begin{description}\n",
       "\\item[\\$Encoding] \\begin{enumerate*}\n",
       "\\item 'UTF-8'\n",
       "\\item 'ISO-8859-1'\n",
       "\\item 'ISO-8859-9'\n",
       "\\item 'ISO-8859-2'\n",
       "\\item 'UTF-16BE'\n",
       "\\item 'UTF-16LE'\n",
       "\\item 'Shift\\_JIS'\n",
       "\\item 'GB18030'\n",
       "\\item 'EUC-JP'\n",
       "\\item 'EUC-KR'\n",
       "\\item 'Big5'\n",
       "\\end{enumerate*}\n",
       "\n",
       "\\item[\\$Language] \\begin{enumerate*}\n",
       "\\item ''\n",
       "\\item 'de'\n",
       "\\item 'tr'\n",
       "\\item 'hu'\n",
       "\\item ''\n",
       "\\item ''\n",
       "\\item 'ja'\n",
       "\\item 'zh'\n",
       "\\item 'ja'\n",
       "\\item 'ko'\n",
       "\\item 'zh'\n",
       "\\end{enumerate*}\n",
       "\n",
       "\\item[\\$Confidence] \\begin{enumerate*}\n",
       "\\item 0.8\n",
       "\\item 0.44\n",
       "\\item 0.44\n",
       "\\item 0.22\n",
       "\\item 0.1\n",
       "\\item 0.1\n",
       "\\item 0.1\n",
       "\\item 0.1\n",
       "\\item 0.1\n",
       "\\item 0.1\n",
       "\\item 0.1\n",
       "\\end{enumerate*}\n",
       "\n",
       "\\end{description}\n",
       "\n",
       "\\end{enumerate}\n"
      ],
      "text/markdown": [
       "1. $Encoding\n",
       ":   1. 'UTF-8'\n",
       "2. 'ISO-8859-1'\n",
       "3. 'ISO-8859-9'\n",
       "4. 'ISO-8859-2'\n",
       "5. 'UTF-16BE'\n",
       "6. 'UTF-16LE'\n",
       "7. 'Shift_JIS'\n",
       "8. 'GB18030'\n",
       "9. 'EUC-JP'\n",
       "10. 'EUC-KR'\n",
       "11. 'Big5'\n",
       "\n",
       "\n",
       "\n",
       "$Language\n",
       ":   1. ''\n",
       "2. 'de'\n",
       "3. 'tr'\n",
       "4. 'hu'\n",
       "5. ''\n",
       "6. ''\n",
       "7. 'ja'\n",
       "8. 'zh'\n",
       "9. 'ja'\n",
       "10. 'ko'\n",
       "11. 'zh'\n",
       "\n",
       "\n",
       "\n",
       "$Confidence\n",
       ":   1. 0.8\n",
       "2. 0.44\n",
       "3. 0.44\n",
       "4. 0.22\n",
       "5. 0.1\n",
       "6. 0.1\n",
       "7. 0.1\n",
       "8. 0.1\n",
       "9. 0.1\n",
       "10. 0.1\n",
       "11. 0.1\n",
       "\n",
       "\n",
       "\n",
       "\n",
       "\n",
       "\n",
       "\n",
       "\n"
      ],
      "text/plain": [
       "[[1]]\n",
       "[[1]]$Encoding\n",
       " [1] \"UTF-8\"      \"ISO-8859-1\" \"ISO-8859-9\" \"ISO-8859-2\" \"UTF-16BE\"  \n",
       " [6] \"UTF-16LE\"   \"Shift_JIS\"  \"GB18030\"    \"EUC-JP\"     \"EUC-KR\"    \n",
       "[11] \"Big5\"      \n",
       "\n",
       "[[1]]$Language\n",
       " [1] \"\"   \"de\" \"tr\" \"hu\" \"\"   \"\"   \"ja\" \"zh\" \"ja\" \"ko\" \"zh\"\n",
       "\n",
       "[[1]]$Confidence\n",
       " [1] 0.80 0.44 0.44 0.22 0.10 0.10 0.10 0.10 0.10 0.10 0.10\n",
       "\n"
      ]
     },
     "metadata": {},
     "output_type": "display_data"
    }
   ],
   "source": [
    "# show encoding\n",
    "library(stringi)\n",
    "stri_enc_detect(str = germanText)"
   ]
  },
  {
   "cell_type": "code",
   "execution_count": 16,
   "metadata": {
    "collapsed": false
   },
   "outputs": [
    {
     "data": {
      "text/html": [
       "'Wir gehen Fr??hstuck essen'"
      ],
      "text/latex": [
       "'Wir gehen Fr??hstuck essen'"
      ],
      "text/markdown": [
       "'Wir gehen Fr??hstuck essen'"
      ],
      "text/plain": [
       "[1] \"Wir gehen Fr??hstuck essen\""
      ]
     },
     "metadata": {},
     "output_type": "display_data"
    }
   ],
   "source": [
    "# convert to ASCII\n",
    "asciiGermanText <- iconv(germanText, from = \"UTF-8\", to = \"ASCII\", sub = \"?\")\n",
    "asciiGermanText"
   ]
  },
  {
   "cell_type": "code",
   "execution_count": 17,
   "metadata": {
    "collapsed": false
   },
   "outputs": [
    {
     "data": {
      "text/html": [
       "'unknown'"
      ],
      "text/latex": [
       "'unknown'"
      ],
      "text/markdown": [
       "'unknown'"
      ],
      "text/plain": [
       "[1] \"unknown\""
      ]
     },
     "metadata": {},
     "output_type": "display_data"
    }
   ],
   "source": [
    "Encoding(asciiGermanText)"
   ]
  },
  {
   "cell_type": "code",
   "execution_count": null,
   "metadata": {
    "collapsed": true
   },
   "outputs": [],
   "source": []
  }
 ],
 "metadata": {
  "kernelspec": {
   "display_name": "R",
   "language": "R",
   "name": "ir"
  },
  "language_info": {
   "codemirror_mode": "r",
   "file_extension": ".r",
   "mimetype": "text/x-r-source",
   "name": "R",
   "pygments_lexer": "r",
   "version": "3.3.1"
  }
 },
 "nbformat": 4,
 "nbformat_minor": 2
}
